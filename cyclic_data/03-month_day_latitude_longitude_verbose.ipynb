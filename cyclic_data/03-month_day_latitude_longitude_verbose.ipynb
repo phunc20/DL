{
 "cells": [
  {
   "cell_type": "code",
   "execution_count": 24,
   "id": "7bf15564",
   "metadata": {},
   "outputs": [],
   "source": [
    "import numpy as np\n",
    "import matplotlib as mpl\n",
    "import matplotlib.pyplot as plt\n",
    "from sklearn.model_selection import StratifiedShuffleSplit"
   ]
  },
  {
   "cell_type": "code",
   "execution_count": 2,
   "id": "f4cb03a7",
   "metadata": {},
   "outputs": [],
   "source": [
    "DARK_READER = True\n",
    "if DARK_READER:\n",
    "    plt.rcParams.update({\n",
    "        \"lines.color\": \"white\",\n",
    "        \"patch.edgecolor\": \"white\",\n",
    "        \"text.color\": \"black\",\n",
    "        \"axes.facecolor\": \"black\",\n",
    "        \"axes.edgecolor\": \"lightgray\",\n",
    "        \"axes.labelcolor\": \"white\",\n",
    "        \"xtick.color\": \"white\",\n",
    "        \"ytick.color\": \"white\",\n",
    "        \"grid.color\": \"lightgray\",\n",
    "        \"figure.facecolor\": \"black\",\n",
    "        \"figure.edgecolor\": \"black\",\n",
    "        \"savefig.facecolor\": \"black\",\n",
    "        \"savefig.edgecolor\": \"black\",\n",
    "    })"
   ]
  },
  {
   "cell_type": "markdown",
   "id": "dceae51e",
   "metadata": {},
   "source": [
    "# Season Dataset (Version 4)\n",
    "In this version, we will have similar `month, day` rule to the one in version 3 and in `y_rule2`. That is,\n",
    "\n",
    "- Spring: 15th March to 14th June (inclusive)\n",
    "- Summer: 15th June to 14th September\n",
    "- Autumn: 15th September to 14th December\n",
    "- Winter: 15th December to 14th March\n",
    "\n",
    "In addition to that, we have added `latitude, longitude` features to separate the Earth into Northern/Southern semispheres,\n",
    "whose seaon should be the opposite."
   ]
  },
  {
   "cell_type": "code",
   "execution_count": 3,
   "id": "11828e37",
   "metadata": {},
   "outputs": [],
   "source": [
    "from constants import *"
   ]
  },
  {
   "cell_type": "markdown",
   "id": "c8f5ce43",
   "metadata": {},
   "source": [
    "We need a few tools to build this larger dataset with new features `latitud, longitude`."
   ]
  },
  {
   "cell_type": "code",
   "execution_count": 4,
   "id": "b9efadd3",
   "metadata": {},
   "outputs": [],
   "source": [
    "import collections"
   ]
  },
  {
   "cell_type": "code",
   "execution_count": 5,
   "id": "f89f9e16",
   "metadata": {},
   "outputs": [
    {
     "data": {
      "text/plain": [
       "[(0, 4, -13), (1, 5, -12), (2, 6, -11)]"
      ]
     },
     "execution_count": 5,
     "metadata": {},
     "output_type": "execute_result"
    }
   ],
   "source": [
    "list(zip(range(3), range(4, 4+3), range(-10-3, -10)))"
   ]
  },
  {
   "cell_type": "code",
   "execution_count": 6,
   "id": "a541a3e5",
   "metadata": {},
   "outputs": [],
   "source": [
    "import itertools"
   ]
  },
  {
   "cell_type": "code",
   "execution_count": 7,
   "id": "c19cca63",
   "metadata": {},
   "outputs": [
    {
     "data": {
      "text/plain": [
       "[(0, 4, -13),\n",
       " (0, 4, -12),\n",
       " (0, 4, -11),\n",
       " (0, 5, -13),\n",
       " (0, 5, -12),\n",
       " (0, 5, -11),\n",
       " (0, 6, -13),\n",
       " (0, 6, -12),\n",
       " (0, 6, -11),\n",
       " (1, 4, -13),\n",
       " (1, 4, -12),\n",
       " (1, 4, -11),\n",
       " (1, 5, -13),\n",
       " (1, 5, -12),\n",
       " (1, 5, -11),\n",
       " (1, 6, -13),\n",
       " (1, 6, -12),\n",
       " (1, 6, -11),\n",
       " (2, 4, -13),\n",
       " (2, 4, -12),\n",
       " (2, 4, -11),\n",
       " (2, 5, -13),\n",
       " (2, 5, -12),\n",
       " (2, 5, -11),\n",
       " (2, 6, -13),\n",
       " (2, 6, -12),\n",
       " (2, 6, -11)]"
      ]
     },
     "execution_count": 7,
     "metadata": {},
     "output_type": "execute_result"
    }
   ],
   "source": [
    "list(itertools.product(range(3), range(4, 4+3), range(-10-3, -10)))"
   ]
  },
  {
   "cell_type": "code",
   "execution_count": 8,
   "id": "80112203",
   "metadata": {},
   "outputs": [],
   "source": [
    "import pandas as pd"
   ]
  },
  {
   "cell_type": "raw",
   "id": "7011928a",
   "metadata": {},
   "source": [
    "df_ez_Earth = pd.DataFrame(\n",
    "    itertools.product(L_month_day, latitudes, longitudes),\n",
    "    columns=[\"month\", \"day\", \"latitude\", \"longitude\"],\n",
    ")\n",
    "df_ez_Earth"
   ]
  },
  {
   "cell_type": "raw",
   "id": "64a6563f",
   "metadata": {},
   "source": [
    "ValueError: 4 columns passed, passed data had 3 columns"
   ]
  },
  {
   "cell_type": "raw",
   "id": "5f6511d1",
   "metadata": {},
   "source": [
    "list(itertools.product(L_month_day, latitudes, longitudes))"
   ]
  },
  {
   "cell_type": "raw",
   "id": "77cc8a38",
   "metadata": {},
   "source": [
    "[([1, 1], -89, -179),\n",
    " ([1, 1], -89, -178),\n",
    " ([1, 1], -89, -177),\n",
    " ([1, 1], -89, -176),\n",
    " ([1, 1], -89, -175),\n",
    " ([1, 1], -89, -174),\n",
    " ([1, 1], -89, -173),\n",
    " ([1, 1], -89, -172),\n",
    " ([1, 1], -89, -171),\n",
    " ([1, 1], -89, -170),\n",
    " ([1, 1], -89, -169),\n",
    " ([1, 1], -89, -168),\n",
    " ([1, 1], -89, -167),\n",
    " ([1, 1], -89, -166),\n",
    " ([1, 1], -89, -165),\n",
    " ([1, 1], -89, -164),\n",
    " ([1, 1], -89, -163),\n",
    " ([1, 1], -89, -162),\n",
    " ...\n",
    "]"
   ]
  },
  {
   "cell_type": "code",
   "execution_count": 16,
   "id": "08882093",
   "metadata": {
    "scrolled": true
   },
   "outputs": [
    {
     "data": {
      "text/html": [
       "<div>\n",
       "<style scoped>\n",
       "    .dataframe tbody tr th:only-of-type {\n",
       "        vertical-align: middle;\n",
       "    }\n",
       "\n",
       "    .dataframe tbody tr th {\n",
       "        vertical-align: top;\n",
       "    }\n",
       "\n",
       "    .dataframe thead th {\n",
       "        text-align: right;\n",
       "    }\n",
       "</style>\n",
       "<table border=\"1\" class=\"dataframe\">\n",
       "  <thead>\n",
       "    <tr style=\"text-align: right;\">\n",
       "      <th></th>\n",
       "      <th>month</th>\n",
       "      <th>day</th>\n",
       "    </tr>\n",
       "  </thead>\n",
       "  <tbody>\n",
       "    <tr>\n",
       "      <th>0</th>\n",
       "      <td>1</td>\n",
       "      <td>1</td>\n",
       "    </tr>\n",
       "    <tr>\n",
       "      <th>1</th>\n",
       "      <td>1</td>\n",
       "      <td>2</td>\n",
       "    </tr>\n",
       "    <tr>\n",
       "      <th>2</th>\n",
       "      <td>1</td>\n",
       "      <td>3</td>\n",
       "    </tr>\n",
       "    <tr>\n",
       "      <th>3</th>\n",
       "      <td>1</td>\n",
       "      <td>4</td>\n",
       "    </tr>\n",
       "    <tr>\n",
       "      <th>4</th>\n",
       "      <td>1</td>\n",
       "      <td>5</td>\n",
       "    </tr>\n",
       "  </tbody>\n",
       "</table>\n",
       "</div>"
      ],
      "text/plain": [
       "   month  day\n",
       "0      1    1\n",
       "1      1    2\n",
       "2      1    3\n",
       "3      1    4\n",
       "4      1    5"
      ]
     },
     "execution_count": 16,
     "metadata": {},
     "output_type": "execute_result"
    }
   ],
   "source": [
    "df_date = pd.DataFrame(\n",
    "    L_month_day,\n",
    "    columns=[\"month\", \"day\"]\n",
    ")\n",
    "df_date.head()"
   ]
  },
  {
   "cell_type": "code",
   "execution_count": 22,
   "id": "000a9462",
   "metadata": {},
   "outputs": [
    {
     "data": {
      "text/html": [
       "<div>\n",
       "<style scoped>\n",
       "    .dataframe tbody tr th:only-of-type {\n",
       "        vertical-align: middle;\n",
       "    }\n",
       "\n",
       "    .dataframe tbody tr th {\n",
       "        vertical-align: top;\n",
       "    }\n",
       "\n",
       "    .dataframe thead th {\n",
       "        text-align: right;\n",
       "    }\n",
       "</style>\n",
       "<table border=\"1\" class=\"dataframe\">\n",
       "  <thead>\n",
       "    <tr style=\"text-align: right;\">\n",
       "      <th></th>\n",
       "      <th>latitude</th>\n",
       "      <th>longitude</th>\n",
       "    </tr>\n",
       "  </thead>\n",
       "  <tbody>\n",
       "    <tr>\n",
       "      <th>0</th>\n",
       "      <td>-89</td>\n",
       "      <td>-179</td>\n",
       "    </tr>\n",
       "    <tr>\n",
       "      <th>1</th>\n",
       "      <td>-89</td>\n",
       "      <td>-178</td>\n",
       "    </tr>\n",
       "    <tr>\n",
       "      <th>2</th>\n",
       "      <td>-89</td>\n",
       "      <td>-177</td>\n",
       "    </tr>\n",
       "    <tr>\n",
       "      <th>3</th>\n",
       "      <td>-89</td>\n",
       "      <td>-176</td>\n",
       "    </tr>\n",
       "    <tr>\n",
       "      <th>4</th>\n",
       "      <td>-89</td>\n",
       "      <td>-175</td>\n",
       "    </tr>\n",
       "    <tr>\n",
       "      <th>...</th>\n",
       "      <td>...</td>\n",
       "      <td>...</td>\n",
       "    </tr>\n",
       "    <tr>\n",
       "      <th>64435</th>\n",
       "      <td>89</td>\n",
       "      <td>176</td>\n",
       "    </tr>\n",
       "    <tr>\n",
       "      <th>64436</th>\n",
       "      <td>89</td>\n",
       "      <td>177</td>\n",
       "    </tr>\n",
       "    <tr>\n",
       "      <th>64437</th>\n",
       "      <td>89</td>\n",
       "      <td>178</td>\n",
       "    </tr>\n",
       "    <tr>\n",
       "      <th>64438</th>\n",
       "      <td>89</td>\n",
       "      <td>179</td>\n",
       "    </tr>\n",
       "    <tr>\n",
       "      <th>64439</th>\n",
       "      <td>89</td>\n",
       "      <td>180</td>\n",
       "    </tr>\n",
       "  </tbody>\n",
       "</table>\n",
       "<p>64440 rows × 2 columns</p>\n",
       "</div>"
      ],
      "text/plain": [
       "       latitude  longitude\n",
       "0           -89       -179\n",
       "1           -89       -178\n",
       "2           -89       -177\n",
       "3           -89       -176\n",
       "4           -89       -175\n",
       "...         ...        ...\n",
       "64435        89        176\n",
       "64436        89        177\n",
       "64437        89        178\n",
       "64438        89        179\n",
       "64439        89        180\n",
       "\n",
       "[64440 rows x 2 columns]"
      ]
     },
     "execution_count": 22,
     "metadata": {},
     "output_type": "execute_result"
    }
   ],
   "source": [
    "df_geo = pd.DataFrame(\n",
    "    itertools.product(latitudes, longitudes),\n",
    "    columns=[\"latitude\", \"longitude\"],\n",
    ")\n",
    "df_geo"
   ]
  },
  {
   "cell_type": "markdown",
   "id": "ec6783d3",
   "metadata": {},
   "source": [
    "View or copy? (Pandas)"
   ]
  },
  {
   "cell_type": "code",
   "execution_count": 20,
   "id": "4979eeaa",
   "metadata": {},
   "outputs": [
    {
     "data": {
      "text/plain": [
       "True"
      ]
     },
     "execution_count": 20,
     "metadata": {},
     "output_type": "execute_result"
    }
   ],
   "source": [
    "np.all(df_date[\"month\"] == df_date.loc[:, \"month\"])"
   ]
  },
  {
   "cell_type": "code",
   "execution_count": 21,
   "id": "59c7a2fa",
   "metadata": {},
   "outputs": [
    {
     "data": {
      "text/plain": [
       "True"
      ]
     },
     "execution_count": 21,
     "metadata": {},
     "output_type": "execute_result"
    }
   ],
   "source": [
    "df_date[\"month\"] is df_date.loc[:, \"month\"]"
   ]
  },
  {
   "cell_type": "markdown",
   "id": "c2ebc4fe",
   "metadata": {},
   "source": [
    "Seems that both of them give **view**."
   ]
  },
  {
   "cell_type": "code",
   "execution_count": 43,
   "id": "33a42cb7",
   "metadata": {},
   "outputs": [
    {
     "name": "stdout",
     "output_type": "stream",
     "text": [
      "date_test_indices = [ 95 255 146 339 152  93 349  27 264 127  87 136 260  36 156 230  50 253\n",
      " 257 205 222  73 211 238  19 128 358 319 299 101 111 302   5 213 310 151\n",
      " 174  45 321 138 282  43  20 194 229 361 326 242 313 274 108 208  57  76\n",
      " 132 116 311 297 240 179 280  10 243 209 184  79 173 350  37  63  74 344\n",
      "   6]\n",
      "geo_test_indices = [  550 44755 15477 ... 51936   457 58417]\n"
     ]
    }
   ],
   "source": [
    "date_split = StratifiedShuffleSplit(n_splits=3, test_size=0.2, random_state=SEED)\n",
    "geo_split = StratifiedShuffleSplit(n_splits=3, test_size=0.2, random_state=SEED)\n",
    "for date_train_indices, date_test_indices in date_split.split(df_date, df_date[\"month\"]):\n",
    "    pass\n",
    "#for geo_train_indices, geo_test_indices in geo_split.split(df_geo, df_geo[\"longitude\"]):\n",
    "for geo_train_indices, geo_test_indices in geo_split.split(df_geo, df_geo[\"latitude\"]):\n",
    "    pass\n",
    "\n",
    "print(f\"date_test_indices = {date_test_indices}\")\n",
    "print(f\"geo_test_indices = {geo_test_indices}\")"
   ]
  },
  {
   "cell_type": "code",
   "execution_count": 45,
   "id": "f5a10359",
   "metadata": {},
   "outputs": [
    {
     "data": {
      "text/plain": [
       "numpy.ndarray"
      ]
     },
     "execution_count": 45,
     "metadata": {},
     "output_type": "execute_result"
    }
   ],
   "source": [
    "type(geo_test_indices)"
   ]
  },
  {
   "cell_type": "code",
   "execution_count": 48,
   "id": "77b73bc7",
   "metadata": {},
   "outputs": [
    {
     "data": {
      "text/plain": [
       "array([ 95, 255, 146, 339, 152,  93, 349,  27, 264, 127,  87, 136, 260,\n",
       "        36, 156, 230,  50, 253, 257, 205, 222,  73, 211, 238,  19, 128,\n",
       "       358, 319, 299, 101, 111, 302,   5, 213, 310, 151, 174,  45, 321,\n",
       "       138, 282,  43,  20, 194, 229, 361, 326, 242, 313, 274, 108, 208,\n",
       "        57,  76, 132, 116, 311, 297, 240, 179, 280,  10, 243, 209, 184,\n",
       "        79, 173, 350,  37,  63,  74, 344,   6])"
      ]
     },
     "execution_count": 48,
     "metadata": {},
     "output_type": "execute_result"
    }
   ],
   "source": [
    "date_test_indices"
   ]
  },
  {
   "cell_type": "code",
   "execution_count": 54,
   "id": "ae7334b5",
   "metadata": {},
   "outputs": [
    {
     "name": "stdout",
     "output_type": "stream",
     "text": [
      "df_date.iloc[date_test_indices]['month'].value_counts() =\n",
      "8     7\n",
      "1     6\n",
      "2     6\n",
      "3     6\n",
      "4     6\n",
      "5     6\n",
      "6     6\n",
      "7     6\n",
      "9     6\n",
      "10    6\n",
      "11    6\n",
      "12    6\n",
      "Name: month, dtype: int64\n",
      "\n",
      "df_geo.iloc[geo_test_indices]['latitude'].value_counts() =\n",
      " 0     72\n",
      "-2     72\n",
      "-11    72\n",
      " 13    72\n",
      "-19    72\n",
      "       ..\n",
      "-62    72\n",
      " 66    72\n",
      "-70    72\n",
      " 74    72\n",
      "-89    72\n",
      "Name: latitude, Length: 179, dtype: int64\n"
     ]
    }
   ],
   "source": [
    "print(f\"df_date.iloc[date_test_indices]['month'].value_counts() =\\n{df_date.iloc[date_test_indices]['month'].value_counts()}\")\n",
    "print()\n",
    "print(f\"df_geo.iloc[geo_test_indices]['latitude'].value_counts() =\\n{df_geo.iloc[geo_test_indices]['latitude'].value_counts()}\")"
   ]
  },
  {
   "cell_type": "code",
   "execution_count": 56,
   "id": "a78792ab",
   "metadata": {},
   "outputs": [
    {
     "data": {
      "text/html": [
       "<div>\n",
       "<style scoped>\n",
       "    .dataframe tbody tr th:only-of-type {\n",
       "        vertical-align: middle;\n",
       "    }\n",
       "\n",
       "    .dataframe tbody tr th {\n",
       "        vertical-align: top;\n",
       "    }\n",
       "\n",
       "    .dataframe thead th {\n",
       "        text-align: right;\n",
       "    }\n",
       "</style>\n",
       "<table border=\"1\" class=\"dataframe\">\n",
       "  <thead>\n",
       "    <tr style=\"text-align: right;\">\n",
       "      <th></th>\n",
       "      <th>col1</th>\n",
       "      <th>col2</th>\n",
       "      <th>col3</th>\n",
       "    </tr>\n",
       "  </thead>\n",
       "  <tbody>\n",
       "    <tr>\n",
       "      <th>0</th>\n",
       "      <td>1</td>\n",
       "      <td>3</td>\n",
       "      <td>5</td>\n",
       "    </tr>\n",
       "    <tr>\n",
       "      <th>1</th>\n",
       "      <td>1</td>\n",
       "      <td>3</td>\n",
       "      <td>6</td>\n",
       "    </tr>\n",
       "    <tr>\n",
       "      <th>2</th>\n",
       "      <td>2</td>\n",
       "      <td>4</td>\n",
       "      <td>5</td>\n",
       "    </tr>\n",
       "    <tr>\n",
       "      <th>3</th>\n",
       "      <td>2</td>\n",
       "      <td>4</td>\n",
       "      <td>6</td>\n",
       "    </tr>\n",
       "  </tbody>\n",
       "</table>\n",
       "</div>"
      ],
      "text/plain": [
       "   col1  col2  col3\n",
       "0     1     3     5\n",
       "1     1     3     6\n",
       "2     2     4     5\n",
       "3     2     4     6"
      ]
     },
     "execution_count": 56,
     "metadata": {},
     "output_type": "execute_result"
    }
   ],
   "source": [
    "df1 = pd.DataFrame({'col1': [1,2], 'col2': [3,4]})\n",
    "df2 = pd.DataFrame({'col3': [5,6]})    \n",
    "\n",
    "df1.merge(df2, how='cross')"
   ]
  },
  {
   "cell_type": "raw",
   "id": "d7d4ede7",
   "metadata": {},
   "source": [
    "help(pd.merge)"
   ]
  },
  {
   "cell_type": "code",
   "execution_count": 60,
   "id": "b26e2c14",
   "metadata": {
    "scrolled": true
   },
   "outputs": [
    {
     "data": {
      "text/html": [
       "<div>\n",
       "<style scoped>\n",
       "    .dataframe tbody tr th:only-of-type {\n",
       "        vertical-align: middle;\n",
       "    }\n",
       "\n",
       "    .dataframe tbody tr th {\n",
       "        vertical-align: top;\n",
       "    }\n",
       "\n",
       "    .dataframe thead th {\n",
       "        text-align: right;\n",
       "    }\n",
       "</style>\n",
       "<table border=\"1\" class=\"dataframe\">\n",
       "  <thead>\n",
       "    <tr style=\"text-align: right;\">\n",
       "      <th></th>\n",
       "      <th>month</th>\n",
       "      <th>day</th>\n",
       "      <th>latitude</th>\n",
       "      <th>longitude</th>\n",
       "    </tr>\n",
       "  </thead>\n",
       "  <tbody>\n",
       "    <tr>\n",
       "      <th>0</th>\n",
       "      <td>11</td>\n",
       "      <td>25</td>\n",
       "      <td>-87</td>\n",
       "      <td>16</td>\n",
       "    </tr>\n",
       "    <tr>\n",
       "      <th>1</th>\n",
       "      <td>11</td>\n",
       "      <td>25</td>\n",
       "      <td>24</td>\n",
       "      <td>60</td>\n",
       "    </tr>\n",
       "    <tr>\n",
       "      <th>2</th>\n",
       "      <td>11</td>\n",
       "      <td>25</td>\n",
       "      <td>-84</td>\n",
       "      <td>165</td>\n",
       "    </tr>\n",
       "    <tr>\n",
       "      <th>3</th>\n",
       "      <td>11</td>\n",
       "      <td>25</td>\n",
       "      <td>83</td>\n",
       "      <td>8</td>\n",
       "    </tr>\n",
       "    <tr>\n",
       "      <th>4</th>\n",
       "      <td>11</td>\n",
       "      <td>25</td>\n",
       "      <td>-55</td>\n",
       "      <td>71</td>\n",
       "    </tr>\n",
       "    <tr>\n",
       "      <th>...</th>\n",
       "      <td>...</td>\n",
       "      <td>...</td>\n",
       "      <td>...</td>\n",
       "      <td>...</td>\n",
       "    </tr>\n",
       "    <tr>\n",
       "      <th>15053179</th>\n",
       "      <td>3</td>\n",
       "      <td>12</td>\n",
       "      <td>-89</td>\n",
       "      <td>97</td>\n",
       "    </tr>\n",
       "    <tr>\n",
       "      <th>15053180</th>\n",
       "      <td>3</td>\n",
       "      <td>12</td>\n",
       "      <td>25</td>\n",
       "      <td>103</td>\n",
       "    </tr>\n",
       "    <tr>\n",
       "      <th>15053181</th>\n",
       "      <td>3</td>\n",
       "      <td>12</td>\n",
       "      <td>78</td>\n",
       "      <td>34</td>\n",
       "    </tr>\n",
       "    <tr>\n",
       "      <th>15053182</th>\n",
       "      <td>3</td>\n",
       "      <td>12</td>\n",
       "      <td>-46</td>\n",
       "      <td>107</td>\n",
       "    </tr>\n",
       "    <tr>\n",
       "      <th>15053183</th>\n",
       "      <td>3</td>\n",
       "      <td>12</td>\n",
       "      <td>-40</td>\n",
       "      <td>130</td>\n",
       "    </tr>\n",
       "  </tbody>\n",
       "</table>\n",
       "<p>15053184 rows × 4 columns</p>\n",
       "</div>"
      ],
      "text/plain": [
       "          month  day  latitude  longitude\n",
       "0            11   25       -87         16\n",
       "1            11   25        24         60\n",
       "2            11   25       -84        165\n",
       "3            11   25        83          8\n",
       "4            11   25       -55         71\n",
       "...         ...  ...       ...        ...\n",
       "15053179      3   12       -89         97\n",
       "15053180      3   12        25        103\n",
       "15053181      3   12        78         34\n",
       "15053182      3   12       -46        107\n",
       "15053183      3   12       -40        130\n",
       "\n",
       "[15053184 rows x 4 columns]"
      ]
     },
     "execution_count": 60,
     "metadata": {},
     "output_type": "execute_result"
    }
   ],
   "source": [
    "df_train = pd.merge(\n",
    "    df_date.iloc[date_train_indices],\n",
    "    df_geo.iloc[geo_train_indices],\n",
    "    how=\"cross\",\n",
    ")\n",
    "df_train"
   ]
  },
  {
   "cell_type": "code",
   "execution_count": 61,
   "id": "6481e1ee",
   "metadata": {},
   "outputs": [
    {
     "data": {
      "text/html": [
       "<div>\n",
       "<style scoped>\n",
       "    .dataframe tbody tr th:only-of-type {\n",
       "        vertical-align: middle;\n",
       "    }\n",
       "\n",
       "    .dataframe tbody tr th {\n",
       "        vertical-align: top;\n",
       "    }\n",
       "\n",
       "    .dataframe thead th {\n",
       "        text-align: right;\n",
       "    }\n",
       "</style>\n",
       "<table border=\"1\" class=\"dataframe\">\n",
       "  <thead>\n",
       "    <tr style=\"text-align: right;\">\n",
       "      <th></th>\n",
       "      <th>month</th>\n",
       "      <th>day</th>\n",
       "      <th>latitude</th>\n",
       "      <th>longitude</th>\n",
       "    </tr>\n",
       "  </thead>\n",
       "  <tbody>\n",
       "    <tr>\n",
       "      <th>0</th>\n",
       "      <td>4</td>\n",
       "      <td>6</td>\n",
       "      <td>-88</td>\n",
       "      <td>11</td>\n",
       "    </tr>\n",
       "    <tr>\n",
       "      <th>1</th>\n",
       "      <td>4</td>\n",
       "      <td>6</td>\n",
       "      <td>35</td>\n",
       "      <td>-64</td>\n",
       "    </tr>\n",
       "    <tr>\n",
       "      <th>2</th>\n",
       "      <td>4</td>\n",
       "      <td>6</td>\n",
       "      <td>-47</td>\n",
       "      <td>178</td>\n",
       "    </tr>\n",
       "    <tr>\n",
       "      <th>3</th>\n",
       "      <td>4</td>\n",
       "      <td>6</td>\n",
       "      <td>9</td>\n",
       "      <td>-139</td>\n",
       "    </tr>\n",
       "    <tr>\n",
       "      <th>4</th>\n",
       "      <td>4</td>\n",
       "      <td>6</td>\n",
       "      <td>-73</td>\n",
       "      <td>-60</td>\n",
       "    </tr>\n",
       "    <tr>\n",
       "      <th>...</th>\n",
       "      <td>...</td>\n",
       "      <td>...</td>\n",
       "      <td>...</td>\n",
       "      <td>...</td>\n",
       "    </tr>\n",
       "    <tr>\n",
       "      <th>940819</th>\n",
       "      <td>1</td>\n",
       "      <td>7</td>\n",
       "      <td>-71</td>\n",
       "      <td>-144</td>\n",
       "    </tr>\n",
       "    <tr>\n",
       "      <th>940820</th>\n",
       "      <td>1</td>\n",
       "      <td>7</td>\n",
       "      <td>39</td>\n",
       "      <td>-130</td>\n",
       "    </tr>\n",
       "    <tr>\n",
       "      <th>940821</th>\n",
       "      <td>1</td>\n",
       "      <td>7</td>\n",
       "      <td>55</td>\n",
       "      <td>-83</td>\n",
       "    </tr>\n",
       "    <tr>\n",
       "      <th>940822</th>\n",
       "      <td>1</td>\n",
       "      <td>7</td>\n",
       "      <td>-88</td>\n",
       "      <td>-82</td>\n",
       "    </tr>\n",
       "    <tr>\n",
       "      <th>940823</th>\n",
       "      <td>1</td>\n",
       "      <td>7</td>\n",
       "      <td>73</td>\n",
       "      <td>-82</td>\n",
       "    </tr>\n",
       "  </tbody>\n",
       "</table>\n",
       "<p>940824 rows × 4 columns</p>\n",
       "</div>"
      ],
      "text/plain": [
       "        month  day  latitude  longitude\n",
       "0           4    6       -88         11\n",
       "1           4    6        35        -64\n",
       "2           4    6       -47        178\n",
       "3           4    6         9       -139\n",
       "4           4    6       -73        -60\n",
       "...       ...  ...       ...        ...\n",
       "940819      1    7       -71       -144\n",
       "940820      1    7        39       -130\n",
       "940821      1    7        55        -83\n",
       "940822      1    7       -88        -82\n",
       "940823      1    7        73        -82\n",
       "\n",
       "[940824 rows x 4 columns]"
      ]
     },
     "execution_count": 61,
     "metadata": {},
     "output_type": "execute_result"
    }
   ],
   "source": [
    "df_test = pd.merge(\n",
    "    df_date.iloc[date_test_indices],\n",
    "    df_geo.iloc[geo_test_indices],\n",
    "    how=\"cross\",\n",
    ")\n",
    "df_test"
   ]
  },
  {
   "cell_type": "code",
   "execution_count": null,
   "id": "f44f5414",
   "metadata": {},
   "outputs": [],
   "source": []
  },
  {
   "cell_type": "code",
   "execution_count": null,
   "id": "b51d62e2",
   "metadata": {},
   "outputs": [],
   "source": []
  },
  {
   "cell_type": "code",
   "execution_count": null,
   "id": "22f92217",
   "metadata": {},
   "outputs": [],
   "source": []
  },
  {
   "cell_type": "code",
   "execution_count": null,
   "id": "9340a549",
   "metadata": {},
   "outputs": [],
   "source": []
  },
  {
   "cell_type": "code",
   "execution_count": null,
   "id": "ca5f494b",
   "metadata": {},
   "outputs": [],
   "source": [
    "X"
   ]
  },
  {
   "cell_type": "code",
   "execution_count": null,
   "id": "c02ad415",
   "metadata": {
    "scrolled": true
   },
   "outputs": [],
   "source": [
    "y_rule1 = []\n",
    "for month, _ in L_month_day:\n",
    "    if MAR <= month <= MAY:\n",
    "        y_rule1.append(SPRING)\n",
    "    elif JUN <= month <= AUG:\n",
    "        y_rule1.append(SUMMER)\n",
    "    elif SEP <= month <= NOV:\n",
    "        y_rule1.append(AUTUMN)\n",
    "    else:\n",
    "        y_rule1.append(WINTER)\n",
    "y_rule1[0:-1:31]"
   ]
  },
  {
   "cell_type": "markdown",
   "id": "b535c16f",
   "metadata": {},
   "source": [
    "## How to Split Train/Test sets?"
   ]
  },
  {
   "cell_type": "code",
   "execution_count": null,
   "id": "89174e8a",
   "metadata": {},
   "outputs": [],
   "source": [
    "from sklearn.model_selection import StratifiedShuffleSplit"
   ]
  },
  {
   "cell_type": "code",
   "execution_count": null,
   "id": "ec1237e5",
   "metadata": {},
   "outputs": [],
   "source": [
    "y_rule1 = np.array(y_rule1)"
   ]
  },
  {
   "cell_type": "code",
   "execution_count": null,
   "id": "c8cb2265",
   "metadata": {},
   "outputs": [],
   "source": [
    "split = StratifiedShuffleSplit(n_splits=3, test_size=0.2, random_state=SEED)\n",
    "for train_indices, test_indices in split.split(X, X[:, 0]):\n",
    "    pass\n",
    "X_train_raw = X[train_indices, :]\n",
    "X_test_raw = X[test_indices, :]\n",
    "y_rule1_train = y_rule1[train_indices]\n",
    "y_rule1_test = y_rule1[test_indices]"
   ]
  },
  {
   "cell_type": "markdown",
   "id": "f3ed566b",
   "metadata": {},
   "source": [
    "## First Dataset, First Model\n",
    "Just take `X_train_raw` and `X_test_raw` to train a few ML models and see what that gives."
   ]
  },
  {
   "cell_type": "code",
   "execution_count": null,
   "id": "120532d4",
   "metadata": {},
   "outputs": [],
   "source": [
    "from sklearn.linear_model import LogisticRegression\n",
    "from sklearn.tree import DecisionTreeClassifier\n",
    "from sklearn.svm import SVC\n",
    "\n",
    "from sklearn.metrics import accuracy_score, precision_score, recall_score"
   ]
  },
  {
   "cell_type": "code",
   "execution_count": null,
   "id": "19b73eeb",
   "metadata": {},
   "outputs": [],
   "source": [
    "log_clf = LogisticRegression()\n",
    "tree_clf = DecisionTreeClassifier()\n",
    "#svm_clf = SVC(probability=True)\n",
    "svm_clf = SVC()\n",
    "#rnd_clf = RandomForestClassifier()\n",
    "T_classifiers = (log_clf, tree_clf, svm_clf)"
   ]
  },
  {
   "cell_type": "code",
   "execution_count": null,
   "id": "c76c02d5",
   "metadata": {},
   "outputs": [],
   "source": [
    "for clf in T_classifiers:\n",
    "    clf.fit(X_train_raw, y_rule1_train)\n",
    "    y_pred = clf.predict(X_test_raw)\n",
    "    \n",
    "    acc = accuracy_score(y_rule1_test, y_pred)\n",
    "\n",
    "    ## ValueError: Target is multiclass but average='binary'. Please choose another average setting, one of [None, 'micro', 'macro', 'weighted'].\n",
    "    #precision = precision_score(y_rule1_test, y_pred)\n",
    "    ## TypeError: unsupported format string passed to numpy.ndarray.__format__\n",
    "    #precision = precision_score(y_rule1_test, y_pred, average=None)\n",
    "    precision = precision_score(y_rule1_test, y_pred, average=\"weighted\")\n",
    "\n",
    "    #recall = recall_score(y_rule1_test, y_pred)\n",
    "    #recall = recall_score(y_rule1_test, y_pred, average=None)\n",
    "    recall = recall_score(y_rule1_test, y_pred, average=\"weighted\")\n",
    "\n",
    "    print(f\"({clf.__class__.__name__})\\nacc = {acc:.2f}, precision = {precision:.2f}, recall = {recall:.2f}\\n\")\n"
   ]
  },
  {
   "cell_type": "code",
   "execution_count": null,
   "id": "ece67b4b",
   "metadata": {
    "scrolled": true
   },
   "outputs": [],
   "source": [
    "# What about performance on the training data?\n",
    "for clf in T_classifiers:\n",
    "    clf.fit(X_train_raw, y_rule1_train)\n",
    "    y_pred = clf.predict(X_train_raw)\n",
    "    acc = accuracy_score(y_rule1_train, y_pred)\n",
    "    precision = precision_score(y_rule1_train, y_pred, average=\"micro\")\n",
    "    recall = recall_score(y_rule1_train, y_pred, average=\"micro\")    \n",
    "    print(f\"({clf.__class__.__name__})\\nacc = {acc:.2f}, precision = {precision:.2f}, recall = {recall:.2f}\\n\")"
   ]
  },
  {
   "cell_type": "markdown",
   "id": "1d16ecc5",
   "metadata": {},
   "source": [
    "We see that\n",
    "\n",
    "- Random forest performances perfectly. So does decision tree.\n",
    "\n",
    "Maybe the task is too simple. Even without taking the cyclic nature into consideration, some of the classifiers\n",
    "can already reach near perfect performance.\n"
   ]
  },
  {
   "cell_type": "markdown",
   "id": "05f612f9",
   "metadata": {},
   "source": [
    "# Season Dataset (Version 3)\n",
    "In this version, we will have exactly the same features like in version 2.<br>\n",
    "Only that we set a diff rule to increase the difficulty:\n",
    "\n",
    "- Spring: 15th March to 14th June (inclusive)\n",
    "- Summer: 15th June to 14th September\n",
    "- Autumn: 15th September to 14th December\n",
    "- Winter: 15th December to 14th March\n",
    "\n",
    "**N.B.** Note that we just need to create a new label, `y_rule2`. No need to modify `X`."
   ]
  },
  {
   "cell_type": "code",
   "execution_count": null,
   "id": "38fd8040",
   "metadata": {},
   "outputs": [],
   "source": [
    "y_rule2 = []\n",
    "start = 15\n",
    "end = 14\n",
    "for month_day in L_month_day:\n",
    "    if [MAR,start] <= month_day <= [JUN,end]:\n",
    "        y_rule2.append(SPRING)\n",
    "    elif [JUN,start] <= month_day <= [SEP,end]:\n",
    "        y_rule2.append(SUMMER)\n",
    "    elif [SEP,start] <= month_day <= [DEC,end]:\n",
    "        y_rule2.append(AUTUMN)\n",
    "    else:\n",
    "        y_rule2.append(WINTER)\n",
    "\n",
    "y_rule2[0:-1:31]"
   ]
  },
  {
   "cell_type": "code",
   "execution_count": null,
   "id": "24205e82",
   "metadata": {},
   "outputs": [],
   "source": [
    "y_rule2 = np.array(y_rule2)"
   ]
  },
  {
   "cell_type": "code",
   "execution_count": null,
   "id": "4e9ec218",
   "metadata": {},
   "outputs": [],
   "source": [
    "y_rule2_train = y_rule2[train_indices]\n",
    "y_rule2_test = y_rule2[test_indices]"
   ]
  },
  {
   "cell_type": "code",
   "execution_count": null,
   "id": "1259deeb",
   "metadata": {
    "scrolled": true
   },
   "outputs": [],
   "source": [
    "for clf in T_classifiers:\n",
    "    clf.fit(X_train_raw, y_rule2_train)\n",
    "    y_pred = clf.predict(X_test_raw)\n",
    "    acc = accuracy_score(y_rule2_test, y_pred)\n",
    "    precision = precision_score(y_rule2_test, y_pred, average=\"micro\")\n",
    "    recall = recall_score(y_rule2_test, y_pred, average=\"micro\")    \n",
    "    print(f\"({clf.__class__.__name__})\\nacc = {acc:.4f}, precision = {precision:.4f}, recall = {recall:.4f}\\n\")"
   ]
  },
  {
   "cell_type": "markdown",
   "id": "dd7b7a57",
   "metadata": {},
   "source": [
    "In this case, our <s>random forest</s> and decision tree classifies are no longer perfect (even though still perform with high accuracy)."
   ]
  },
  {
   "cell_type": "code",
   "execution_count": null,
   "id": "168b3519",
   "metadata": {},
   "outputs": [],
   "source": [
    "# On training set\n",
    "for clf in T_classifiers:\n",
    "    y_pred = clf.predict(X_train_raw)\n",
    "    acc = accuracy_score(y_rule2_train, y_pred)\n",
    "    precision = precision_score(y_rule2_train, y_pred, average=\"micro\")\n",
    "    recall = recall_score(y_rule2_train, y_pred, average=\"micro\")    \n",
    "    print(f\"({clf.__class__.__name__})\\nacc = {acc:.4f}, precision = {precision:.4f}, recall = {recall:.4f}\\n\")"
   ]
  },
  {
   "cell_type": "markdown",
   "id": "361f607e",
   "metadata": {},
   "source": [
    "Let's see whether incorporating the cyclic nature improves the situation."
   ]
  },
  {
   "cell_type": "markdown",
   "id": "070c3bbc",
   "metadata": {},
   "source": [
    "## Cyclic Nature"
   ]
  },
  {
   "cell_type": "code",
   "execution_count": null,
   "id": "0234ba59",
   "metadata": {},
   "outputs": [],
   "source": [
    "from utils import *"
   ]
  },
  {
   "cell_type": "code",
   "execution_count": null,
   "id": "01bf2985",
   "metadata": {},
   "outputs": [],
   "source": [
    "X_cyclic = np.c_[\n",
    "    cyclicize_series(X[:, 0], max_=12, min_=0),\n",
    "    cyclicize_series(X[:, 1], max_=31, min_=0),\n",
    "]"
   ]
  },
  {
   "cell_type": "code",
   "execution_count": null,
   "id": "d6924fd5",
   "metadata": {},
   "outputs": [],
   "source": [
    "X_train_cyclic = X_cyclic[train_indices]\n",
    "X_test_cyclic = X_cyclic[test_indices]"
   ]
  },
  {
   "cell_type": "code",
   "execution_count": null,
   "id": "538b9904",
   "metadata": {},
   "outputs": [],
   "source": [
    "for clf in T_classifiers:\n",
    "    clf.fit(X_train_cyclic, y_rule2_train)\n",
    "    y_pred = clf.predict(X_test_cyclic)\n",
    "    acc = accuracy_score(y_rule2_test, y_pred)\n",
    "    precision = precision_score(y_rule2_test, y_pred, average=\"micro\")\n",
    "    recall = recall_score(y_rule2_test, y_pred, average=\"micro\")    \n",
    "    print(f\"({clf.__class__.__name__})\\nacc = {acc:.4f}, precision = {precision:.4f}, recall = {recall:.4f}\\n\")"
   ]
  },
  {
   "cell_type": "code",
   "execution_count": null,
   "id": "20ab1e66",
   "metadata": {
    "scrolled": true
   },
   "outputs": [],
   "source": [
    "# On training set\n",
    "for clf in T_classifiers:\n",
    "    y_pred = clf.predict(X_train_cyclic)\n",
    "    acc = accuracy_score(y_rule2_train, y_pred)\n",
    "    precision = precision_score(y_rule2_train, y_pred, average=\"micro\")\n",
    "    recall = recall_score(y_rule2_train, y_pred, average=\"micro\")    \n",
    "    print(f\"({clf.__class__.__name__})\\nacc = {acc:.4f}, precision = {precision:.4f}, recall = {recall:.4f}\\n\")"
   ]
  },
  {
   "cell_type": "markdown",
   "id": "ca20340e",
   "metadata": {},
   "source": [
    "## Putting Together for Comparison"
   ]
  },
  {
   "cell_type": "code",
   "execution_count": null,
   "id": "eff76874",
   "metadata": {
    "scrolled": true
   },
   "outputs": [],
   "source": [
    "# Rule 2, non-cyclic\n",
    "for clf in T_classifiers:\n",
    "    clf.fit(X_train_raw, y_rule2_train)\n",
    "    y_pred = clf.predict(X_test_raw)\n",
    "    acc = accuracy_score(y_rule2_test, y_pred)\n",
    "    precision = precision_score(y_rule2_test, y_pred, average=\"micro\")\n",
    "    recall = recall_score(y_rule2_test, y_pred, average=\"micro\")    \n",
    "    print(f\"({clf.__class__.__name__})\\nacc = {acc:.4f}, precision = {precision:.4f}, recall = {recall:.4f}\\n\")"
   ]
  },
  {
   "cell_type": "code",
   "execution_count": null,
   "id": "9dd431e2",
   "metadata": {},
   "outputs": [],
   "source": [
    "# Rule 2, cyclic\n",
    "for clf in T_classifiers:\n",
    "    clf.fit(X_train_cyclic, y_rule2_train)\n",
    "    y_pred = clf.predict(X_test_cyclic)\n",
    "    acc = accuracy_score(y_rule2_test, y_pred)\n",
    "    precision = precision_score(y_rule2_test, y_pred, average=\"micro\")\n",
    "    recall = recall_score(y_rule2_test, y_pred, average=\"micro\")    \n",
    "    print(f\"({clf.__class__.__name__})\\nacc = {acc:.4f}, precision = {precision:.4f}, recall = {recall:.4f}\\n\")"
   ]
  },
  {
   "cell_type": "code",
   "execution_count": null,
   "id": "3b4651f2",
   "metadata": {},
   "outputs": [],
   "source": []
  },
  {
   "cell_type": "code",
   "execution_count": null,
   "id": "b97cde07",
   "metadata": {},
   "outputs": [],
   "source": []
  }
 ],
 "metadata": {
  "kernelspec": {
   "display_name": "Python 3",
   "language": "python",
   "name": "python3"
  },
  "language_info": {
   "codemirror_mode": {
    "name": "ipython",
    "version": 3
   },
   "file_extension": ".py",
   "mimetype": "text/x-python",
   "name": "python",
   "nbconvert_exporter": "python",
   "pygments_lexer": "ipython3",
   "version": "3.7.10"
  }
 },
 "nbformat": 4,
 "nbformat_minor": 5
}
