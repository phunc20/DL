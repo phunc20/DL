{
 "cells": [
  {
   "cell_type": "code",
   "execution_count": 1,
   "id": "7bf15564",
   "metadata": {},
   "outputs": [],
   "source": [
    "import numpy as np\n",
    "import matplotlib as mpl\n",
    "import matplotlib.pyplot as plt\n",
    "from sklearn.model_selection import StratifiedShuffleSplit"
   ]
  },
  {
   "cell_type": "code",
   "execution_count": 2,
   "id": "f4cb03a7",
   "metadata": {},
   "outputs": [],
   "source": [
    "DARK_READER = True\n",
    "if DARK_READER:\n",
    "    plt.rcParams.update({\n",
    "        \"lines.color\": \"white\",\n",
    "        \"patch.edgecolor\": \"white\",\n",
    "        \"text.color\": \"black\",\n",
    "        \"axes.facecolor\": \"black\",\n",
    "        \"axes.edgecolor\": \"lightgray\",\n",
    "        \"axes.labelcolor\": \"white\",\n",
    "        \"xtick.color\": \"white\",\n",
    "        \"ytick.color\": \"white\",\n",
    "        \"grid.color\": \"lightgray\",\n",
    "        \"figure.facecolor\": \"black\",\n",
    "        \"figure.edgecolor\": \"black\",\n",
    "        \"savefig.facecolor\": \"black\",\n",
    "        \"savefig.edgecolor\": \"black\",\n",
    "    })"
   ]
  },
  {
   "cell_type": "markdown",
   "id": "dceae51e",
   "metadata": {},
   "source": [
    "# Season Dataset (Version 4)\n",
    "In this version, we will have similar `month, day` rule to the one in version 3 and in `y_rule2`. That is,\n",
    "\n",
    "- Spring: 15th March to 14th June (inclusive)\n",
    "- Summer: 15th June to 14th September\n",
    "- Autumn: 15th September to 14th December\n",
    "- Winter: 15th December to 14th March\n",
    "\n",
    "In addition to that, we have added `latitude, longitude` features to separate the Earth into Northern/Southern semispheres,\n",
    "whose seaon should be the opposite.\n",
    "\n",
    "Besides, from this notebook on, I have decided not to use ensemble-method classifiers (e.g. random forest), to better see what single classifiers can achieve and to better make comparison."
   ]
  },
  {
   "cell_type": "code",
   "execution_count": 3,
   "id": "11828e37",
   "metadata": {},
   "outputs": [],
   "source": [
    "from constants import *\n",
    "from utils import *"
   ]
  },
  {
   "cell_type": "markdown",
   "id": "1f8c293a",
   "metadata": {},
   "source": [
    "We need a few tools to build this larger dataset with new features `latitud, longitude`."
   ]
  },
  {
   "cell_type": "code",
   "execution_count": 4,
   "id": "1149ff1c",
   "metadata": {},
   "outputs": [],
   "source": [
    "import collections"
   ]
  },
  {
   "cell_type": "code",
   "execution_count": 5,
   "id": "ce4b550f",
   "metadata": {},
   "outputs": [
    {
     "data": {
      "text/plain": [
       "[(0, 4, -13), (1, 5, -12), (2, 6, -11)]"
      ]
     },
     "execution_count": 5,
     "metadata": {},
     "output_type": "execute_result"
    }
   ],
   "source": [
    "list(zip(range(3), range(4, 4+3), range(-10-3, -10)))"
   ]
  },
  {
   "cell_type": "code",
   "execution_count": 6,
   "id": "b9eb52ed",
   "metadata": {},
   "outputs": [],
   "source": [
    "import itertools"
   ]
  },
  {
   "cell_type": "code",
   "execution_count": 7,
   "id": "1f439dca",
   "metadata": {},
   "outputs": [
    {
     "data": {
      "text/plain": [
       "[(0, 4, -13),\n",
       " (0, 4, -12),\n",
       " (0, 4, -11),\n",
       " (0, 5, -13),\n",
       " (0, 5, -12),\n",
       " (0, 5, -11),\n",
       " (0, 6, -13),\n",
       " (0, 6, -12),\n",
       " (0, 6, -11),\n",
       " (1, 4, -13),\n",
       " (1, 4, -12),\n",
       " (1, 4, -11),\n",
       " (1, 5, -13),\n",
       " (1, 5, -12),\n",
       " (1, 5, -11),\n",
       " (1, 6, -13),\n",
       " (1, 6, -12),\n",
       " (1, 6, -11),\n",
       " (2, 4, -13),\n",
       " (2, 4, -12),\n",
       " (2, 4, -11),\n",
       " (2, 5, -13),\n",
       " (2, 5, -12),\n",
       " (2, 5, -11),\n",
       " (2, 6, -13),\n",
       " (2, 6, -12),\n",
       " (2, 6, -11)]"
      ]
     },
     "execution_count": 7,
     "metadata": {},
     "output_type": "execute_result"
    }
   ],
   "source": [
    "list(itertools.product(range(3), range(4, 4+3), range(-10-3, -10)))"
   ]
  },
  {
   "cell_type": "code",
   "execution_count": 8,
   "id": "2e888af2",
   "metadata": {},
   "outputs": [],
   "source": [
    "import pandas as pd"
   ]
  },
  {
   "cell_type": "raw",
   "id": "19f1f5f4",
   "metadata": {},
   "source": [
    "df_ez_Earth = pd.DataFrame(\n",
    "    itertools.product(L_month_day, latitudes, longitudes),\n",
    "    columns=[\"month\", \"day\", \"latitude\", \"longitude\"],\n",
    ")\n",
    "df_ez_Earth"
   ]
  },
  {
   "cell_type": "raw",
   "id": "a018a63a",
   "metadata": {},
   "source": [
    "ValueError: 4 columns passed, passed data had 3 columns"
   ]
  },
  {
   "cell_type": "raw",
   "id": "724b4797",
   "metadata": {},
   "source": [
    "list(itertools.product(L_month_day, latitudes, longitudes))"
   ]
  },
  {
   "cell_type": "raw",
   "id": "4d05a093",
   "metadata": {},
   "source": [
    "[([1, 1], -89, -179),\n",
    " ([1, 1], -89, -178),\n",
    " ([1, 1], -89, -177),\n",
    " ([1, 1], -89, -176),\n",
    " ([1, 1], -89, -175),\n",
    " ([1, 1], -89, -174),\n",
    " ([1, 1], -89, -173),\n",
    " ([1, 1], -89, -172),\n",
    " ([1, 1], -89, -171),\n",
    " ([1, 1], -89, -170),\n",
    " ([1, 1], -89, -169),\n",
    " ([1, 1], -89, -168),\n",
    " ([1, 1], -89, -167),\n",
    " ([1, 1], -89, -166),\n",
    " ([1, 1], -89, -165),\n",
    " ([1, 1], -89, -164),\n",
    " ([1, 1], -89, -163),\n",
    " ([1, 1], -89, -162),\n",
    " ...\n",
    "]"
   ]
  },
  {
   "cell_type": "code",
   "execution_count": 9,
   "id": "b5dea319",
   "metadata": {
    "scrolled": true
   },
   "outputs": [
    {
     "data": {
      "text/html": [
       "<div>\n",
       "<style scoped>\n",
       "    .dataframe tbody tr th:only-of-type {\n",
       "        vertical-align: middle;\n",
       "    }\n",
       "\n",
       "    .dataframe tbody tr th {\n",
       "        vertical-align: top;\n",
       "    }\n",
       "\n",
       "    .dataframe thead th {\n",
       "        text-align: right;\n",
       "    }\n",
       "</style>\n",
       "<table border=\"1\" class=\"dataframe\">\n",
       "  <thead>\n",
       "    <tr style=\"text-align: right;\">\n",
       "      <th></th>\n",
       "      <th>month</th>\n",
       "      <th>day</th>\n",
       "    </tr>\n",
       "  </thead>\n",
       "  <tbody>\n",
       "    <tr>\n",
       "      <th>0</th>\n",
       "      <td>1</td>\n",
       "      <td>1</td>\n",
       "    </tr>\n",
       "    <tr>\n",
       "      <th>1</th>\n",
       "      <td>1</td>\n",
       "      <td>2</td>\n",
       "    </tr>\n",
       "    <tr>\n",
       "      <th>2</th>\n",
       "      <td>1</td>\n",
       "      <td>3</td>\n",
       "    </tr>\n",
       "    <tr>\n",
       "      <th>3</th>\n",
       "      <td>1</td>\n",
       "      <td>4</td>\n",
       "    </tr>\n",
       "    <tr>\n",
       "      <th>4</th>\n",
       "      <td>1</td>\n",
       "      <td>5</td>\n",
       "    </tr>\n",
       "  </tbody>\n",
       "</table>\n",
       "</div>"
      ],
      "text/plain": [
       "   month  day\n",
       "0      1    1\n",
       "1      1    2\n",
       "2      1    3\n",
       "3      1    4\n",
       "4      1    5"
      ]
     },
     "execution_count": 9,
     "metadata": {},
     "output_type": "execute_result"
    }
   ],
   "source": [
    "df_date = pd.DataFrame(\n",
    "    L_month_day,\n",
    "    columns=[\"month\", \"day\"]\n",
    ")\n",
    "df_date.head()"
   ]
  },
  {
   "cell_type": "code",
   "execution_count": 10,
   "id": "dec4507f",
   "metadata": {},
   "outputs": [
    {
     "data": {
      "text/html": [
       "<div>\n",
       "<style scoped>\n",
       "    .dataframe tbody tr th:only-of-type {\n",
       "        vertical-align: middle;\n",
       "    }\n",
       "\n",
       "    .dataframe tbody tr th {\n",
       "        vertical-align: top;\n",
       "    }\n",
       "\n",
       "    .dataframe thead th {\n",
       "        text-align: right;\n",
       "    }\n",
       "</style>\n",
       "<table border=\"1\" class=\"dataframe\">\n",
       "  <thead>\n",
       "    <tr style=\"text-align: right;\">\n",
       "      <th></th>\n",
       "      <th>latitude</th>\n",
       "      <th>longitude</th>\n",
       "    </tr>\n",
       "  </thead>\n",
       "  <tbody>\n",
       "    <tr>\n",
       "      <th>0</th>\n",
       "      <td>-89</td>\n",
       "      <td>-179</td>\n",
       "    </tr>\n",
       "    <tr>\n",
       "      <th>1</th>\n",
       "      <td>-89</td>\n",
       "      <td>-178</td>\n",
       "    </tr>\n",
       "    <tr>\n",
       "      <th>2</th>\n",
       "      <td>-89</td>\n",
       "      <td>-177</td>\n",
       "    </tr>\n",
       "    <tr>\n",
       "      <th>3</th>\n",
       "      <td>-89</td>\n",
       "      <td>-176</td>\n",
       "    </tr>\n",
       "    <tr>\n",
       "      <th>4</th>\n",
       "      <td>-89</td>\n",
       "      <td>-175</td>\n",
       "    </tr>\n",
       "    <tr>\n",
       "      <th>...</th>\n",
       "      <td>...</td>\n",
       "      <td>...</td>\n",
       "    </tr>\n",
       "    <tr>\n",
       "      <th>64435</th>\n",
       "      <td>89</td>\n",
       "      <td>176</td>\n",
       "    </tr>\n",
       "    <tr>\n",
       "      <th>64436</th>\n",
       "      <td>89</td>\n",
       "      <td>177</td>\n",
       "    </tr>\n",
       "    <tr>\n",
       "      <th>64437</th>\n",
       "      <td>89</td>\n",
       "      <td>178</td>\n",
       "    </tr>\n",
       "    <tr>\n",
       "      <th>64438</th>\n",
       "      <td>89</td>\n",
       "      <td>179</td>\n",
       "    </tr>\n",
       "    <tr>\n",
       "      <th>64439</th>\n",
       "      <td>89</td>\n",
       "      <td>180</td>\n",
       "    </tr>\n",
       "  </tbody>\n",
       "</table>\n",
       "<p>64440 rows × 2 columns</p>\n",
       "</div>"
      ],
      "text/plain": [
       "       latitude  longitude\n",
       "0           -89       -179\n",
       "1           -89       -178\n",
       "2           -89       -177\n",
       "3           -89       -176\n",
       "4           -89       -175\n",
       "...         ...        ...\n",
       "64435        89        176\n",
       "64436        89        177\n",
       "64437        89        178\n",
       "64438        89        179\n",
       "64439        89        180\n",
       "\n",
       "[64440 rows x 2 columns]"
      ]
     },
     "execution_count": 10,
     "metadata": {},
     "output_type": "execute_result"
    }
   ],
   "source": [
    "df_geo = pd.DataFrame(\n",
    "    itertools.product(latitudes, longitudes),\n",
    "    columns=[\"latitude\", \"longitude\"],\n",
    ")\n",
    "df_geo"
   ]
  },
  {
   "cell_type": "markdown",
   "id": "a50bdc0a",
   "metadata": {},
   "source": [
    "View or copy? (Pandas)"
   ]
  },
  {
   "cell_type": "code",
   "execution_count": 11,
   "id": "a0631028",
   "metadata": {},
   "outputs": [
    {
     "data": {
      "text/plain": [
       "True"
      ]
     },
     "execution_count": 11,
     "metadata": {},
     "output_type": "execute_result"
    }
   ],
   "source": [
    "np.all(df_date[\"month\"] == df_date.loc[:, \"month\"])"
   ]
  },
  {
   "cell_type": "code",
   "execution_count": 12,
   "id": "823f4bc1",
   "metadata": {},
   "outputs": [
    {
     "data": {
      "text/plain": [
       "True"
      ]
     },
     "execution_count": 12,
     "metadata": {},
     "output_type": "execute_result"
    }
   ],
   "source": [
    "df_date[\"month\"] is df_date.loc[:, \"month\"]"
   ]
  },
  {
   "cell_type": "markdown",
   "id": "3509d72c",
   "metadata": {},
   "source": [
    "Seems that both of them give **view**."
   ]
  },
  {
   "cell_type": "code",
   "execution_count": 13,
   "id": "c2c8efe3",
   "metadata": {},
   "outputs": [
    {
     "name": "stdout",
     "output_type": "stream",
     "text": [
      "date_test_indices = [ 95 255 146 339 152  93 349  27 264 127  87 136 260  36 156 230  50 253\n",
      " 257 205 222  73 211 238  19 128 358 319 299 101 111 302   5 213 310 151\n",
      " 174  45 321 138 282  43  20 194 229 361 326 242 313 274 108 208  57  76\n",
      " 132 116 311 297 240 179 280  10 243 209 184  79 173 350  37  63  74 344\n",
      "   6]\n",
      "geo_test_indices = [  550 44755 15477 ... 51936   457 58417]\n"
     ]
    }
   ],
   "source": [
    "date_split = StratifiedShuffleSplit(n_splits=3, test_size=0.2, random_state=SEED)\n",
    "geo_split = StratifiedShuffleSplit(n_splits=3, test_size=0.2, random_state=SEED)\n",
    "for date_train_indices, date_test_indices in date_split.split(df_date, df_date[\"month\"]):\n",
    "    pass\n",
    "#for geo_train_indices, geo_test_indices in geo_split.split(df_geo, df_geo[\"longitude\"]):\n",
    "for geo_train_indices, geo_test_indices in geo_split.split(df_geo, df_geo[\"latitude\"]):\n",
    "    pass\n",
    "\n",
    "print(f\"date_test_indices = {date_test_indices}\")\n",
    "print(f\"geo_test_indices = {geo_test_indices}\")"
   ]
  },
  {
   "cell_type": "code",
   "execution_count": 14,
   "id": "ee7983ef",
   "metadata": {},
   "outputs": [
    {
     "data": {
      "text/plain": [
       "numpy.ndarray"
      ]
     },
     "execution_count": 14,
     "metadata": {},
     "output_type": "execute_result"
    }
   ],
   "source": [
    "type(geo_test_indices)"
   ]
  },
  {
   "cell_type": "code",
   "execution_count": 15,
   "id": "a17c8f30",
   "metadata": {},
   "outputs": [
    {
     "data": {
      "text/plain": [
       "array([ 95, 255, 146, 339, 152,  93, 349,  27, 264, 127,  87, 136, 260,\n",
       "        36, 156, 230,  50, 253, 257, 205, 222,  73, 211, 238,  19, 128,\n",
       "       358, 319, 299, 101, 111, 302,   5, 213, 310, 151, 174,  45, 321,\n",
       "       138, 282,  43,  20, 194, 229, 361, 326, 242, 313, 274, 108, 208,\n",
       "        57,  76, 132, 116, 311, 297, 240, 179, 280,  10, 243, 209, 184,\n",
       "        79, 173, 350,  37,  63,  74, 344,   6])"
      ]
     },
     "execution_count": 15,
     "metadata": {},
     "output_type": "execute_result"
    }
   ],
   "source": [
    "date_test_indices"
   ]
  },
  {
   "cell_type": "code",
   "execution_count": 16,
   "id": "7bd607dc",
   "metadata": {},
   "outputs": [
    {
     "name": "stdout",
     "output_type": "stream",
     "text": [
      "df_date.iloc[date_test_indices]['month'].value_counts() =\n",
      "8     7\n",
      "1     6\n",
      "2     6\n",
      "3     6\n",
      "4     6\n",
      "5     6\n",
      "6     6\n",
      "7     6\n",
      "9     6\n",
      "10    6\n",
      "11    6\n",
      "12    6\n",
      "Name: month, dtype: int64\n",
      "\n",
      "df_geo.iloc[geo_test_indices]['latitude'].value_counts() =\n",
      " 0     72\n",
      "-2     72\n",
      "-11    72\n",
      " 13    72\n",
      "-19    72\n",
      "       ..\n",
      "-62    72\n",
      " 66    72\n",
      "-70    72\n",
      " 74    72\n",
      "-89    72\n",
      "Name: latitude, Length: 179, dtype: int64\n"
     ]
    }
   ],
   "source": [
    "print(f\"df_date.iloc[date_test_indices]['month'].value_counts() =\\n{df_date.iloc[date_test_indices]['month'].value_counts()}\")\n",
    "print()\n",
    "print(f\"df_geo.iloc[geo_test_indices]['latitude'].value_counts() =\\n{df_geo.iloc[geo_test_indices]['latitude'].value_counts()}\")"
   ]
  },
  {
   "cell_type": "code",
   "execution_count": 17,
   "id": "e6742cc0",
   "metadata": {},
   "outputs": [
    {
     "data": {
      "text/html": [
       "<div>\n",
       "<style scoped>\n",
       "    .dataframe tbody tr th:only-of-type {\n",
       "        vertical-align: middle;\n",
       "    }\n",
       "\n",
       "    .dataframe tbody tr th {\n",
       "        vertical-align: top;\n",
       "    }\n",
       "\n",
       "    .dataframe thead th {\n",
       "        text-align: right;\n",
       "    }\n",
       "</style>\n",
       "<table border=\"1\" class=\"dataframe\">\n",
       "  <thead>\n",
       "    <tr style=\"text-align: right;\">\n",
       "      <th></th>\n",
       "      <th>col1</th>\n",
       "      <th>col2</th>\n",
       "      <th>col3</th>\n",
       "    </tr>\n",
       "  </thead>\n",
       "  <tbody>\n",
       "    <tr>\n",
       "      <th>0</th>\n",
       "      <td>1</td>\n",
       "      <td>3</td>\n",
       "      <td>5</td>\n",
       "    </tr>\n",
       "    <tr>\n",
       "      <th>1</th>\n",
       "      <td>1</td>\n",
       "      <td>3</td>\n",
       "      <td>6</td>\n",
       "    </tr>\n",
       "    <tr>\n",
       "      <th>2</th>\n",
       "      <td>2</td>\n",
       "      <td>4</td>\n",
       "      <td>5</td>\n",
       "    </tr>\n",
       "    <tr>\n",
       "      <th>3</th>\n",
       "      <td>2</td>\n",
       "      <td>4</td>\n",
       "      <td>6</td>\n",
       "    </tr>\n",
       "  </tbody>\n",
       "</table>\n",
       "</div>"
      ],
      "text/plain": [
       "   col1  col2  col3\n",
       "0     1     3     5\n",
       "1     1     3     6\n",
       "2     2     4     5\n",
       "3     2     4     6"
      ]
     },
     "execution_count": 17,
     "metadata": {},
     "output_type": "execute_result"
    }
   ],
   "source": [
    "df1 = pd.DataFrame({'col1': [1,2], 'col2': [3,4]})\n",
    "df2 = pd.DataFrame({'col3': [5,6]})    \n",
    "\n",
    "df1.merge(df2, how='cross')"
   ]
  },
  {
   "cell_type": "raw",
   "id": "93a419e2",
   "metadata": {},
   "source": [
    "help(pd.merge)"
   ]
  },
  {
   "cell_type": "code",
   "execution_count": 18,
   "id": "30e5807d",
   "metadata": {
    "scrolled": true
   },
   "outputs": [
    {
     "data": {
      "text/html": [
       "<div>\n",
       "<style scoped>\n",
       "    .dataframe tbody tr th:only-of-type {\n",
       "        vertical-align: middle;\n",
       "    }\n",
       "\n",
       "    .dataframe tbody tr th {\n",
       "        vertical-align: top;\n",
       "    }\n",
       "\n",
       "    .dataframe thead th {\n",
       "        text-align: right;\n",
       "    }\n",
       "</style>\n",
       "<table border=\"1\" class=\"dataframe\">\n",
       "  <thead>\n",
       "    <tr style=\"text-align: right;\">\n",
       "      <th></th>\n",
       "      <th>month</th>\n",
       "      <th>day</th>\n",
       "      <th>latitude</th>\n",
       "      <th>longitude</th>\n",
       "    </tr>\n",
       "  </thead>\n",
       "  <tbody>\n",
       "    <tr>\n",
       "      <th>0</th>\n",
       "      <td>11</td>\n",
       "      <td>25</td>\n",
       "      <td>-87</td>\n",
       "      <td>16</td>\n",
       "    </tr>\n",
       "    <tr>\n",
       "      <th>1</th>\n",
       "      <td>11</td>\n",
       "      <td>25</td>\n",
       "      <td>24</td>\n",
       "      <td>60</td>\n",
       "    </tr>\n",
       "    <tr>\n",
       "      <th>2</th>\n",
       "      <td>11</td>\n",
       "      <td>25</td>\n",
       "      <td>-84</td>\n",
       "      <td>165</td>\n",
       "    </tr>\n",
       "    <tr>\n",
       "      <th>3</th>\n",
       "      <td>11</td>\n",
       "      <td>25</td>\n",
       "      <td>83</td>\n",
       "      <td>8</td>\n",
       "    </tr>\n",
       "    <tr>\n",
       "      <th>4</th>\n",
       "      <td>11</td>\n",
       "      <td>25</td>\n",
       "      <td>-55</td>\n",
       "      <td>71</td>\n",
       "    </tr>\n",
       "    <tr>\n",
       "      <th>...</th>\n",
       "      <td>...</td>\n",
       "      <td>...</td>\n",
       "      <td>...</td>\n",
       "      <td>...</td>\n",
       "    </tr>\n",
       "    <tr>\n",
       "      <th>15053179</th>\n",
       "      <td>3</td>\n",
       "      <td>12</td>\n",
       "      <td>-89</td>\n",
       "      <td>97</td>\n",
       "    </tr>\n",
       "    <tr>\n",
       "      <th>15053180</th>\n",
       "      <td>3</td>\n",
       "      <td>12</td>\n",
       "      <td>25</td>\n",
       "      <td>103</td>\n",
       "    </tr>\n",
       "    <tr>\n",
       "      <th>15053181</th>\n",
       "      <td>3</td>\n",
       "      <td>12</td>\n",
       "      <td>78</td>\n",
       "      <td>34</td>\n",
       "    </tr>\n",
       "    <tr>\n",
       "      <th>15053182</th>\n",
       "      <td>3</td>\n",
       "      <td>12</td>\n",
       "      <td>-46</td>\n",
       "      <td>107</td>\n",
       "    </tr>\n",
       "    <tr>\n",
       "      <th>15053183</th>\n",
       "      <td>3</td>\n",
       "      <td>12</td>\n",
       "      <td>-40</td>\n",
       "      <td>130</td>\n",
       "    </tr>\n",
       "  </tbody>\n",
       "</table>\n",
       "<p>15053184 rows × 4 columns</p>\n",
       "</div>"
      ],
      "text/plain": [
       "          month  day  latitude  longitude\n",
       "0            11   25       -87         16\n",
       "1            11   25        24         60\n",
       "2            11   25       -84        165\n",
       "3            11   25        83          8\n",
       "4            11   25       -55         71\n",
       "...         ...  ...       ...        ...\n",
       "15053179      3   12       -89         97\n",
       "15053180      3   12        25        103\n",
       "15053181      3   12        78         34\n",
       "15053182      3   12       -46        107\n",
       "15053183      3   12       -40        130\n",
       "\n",
       "[15053184 rows x 4 columns]"
      ]
     },
     "execution_count": 18,
     "metadata": {},
     "output_type": "execute_result"
    }
   ],
   "source": [
    "df_train = pd.merge(\n",
    "    df_date.iloc[date_train_indices],\n",
    "    df_geo.iloc[geo_train_indices],\n",
    "    how=\"cross\",\n",
    ")\n",
    "df_train"
   ]
  },
  {
   "cell_type": "code",
   "execution_count": 19,
   "id": "54a27b90",
   "metadata": {},
   "outputs": [
    {
     "data": {
      "text/html": [
       "<div>\n",
       "<style scoped>\n",
       "    .dataframe tbody tr th:only-of-type {\n",
       "        vertical-align: middle;\n",
       "    }\n",
       "\n",
       "    .dataframe tbody tr th {\n",
       "        vertical-align: top;\n",
       "    }\n",
       "\n",
       "    .dataframe thead th {\n",
       "        text-align: right;\n",
       "    }\n",
       "</style>\n",
       "<table border=\"1\" class=\"dataframe\">\n",
       "  <thead>\n",
       "    <tr style=\"text-align: right;\">\n",
       "      <th></th>\n",
       "      <th>month</th>\n",
       "      <th>day</th>\n",
       "      <th>latitude</th>\n",
       "      <th>longitude</th>\n",
       "    </tr>\n",
       "  </thead>\n",
       "  <tbody>\n",
       "    <tr>\n",
       "      <th>0</th>\n",
       "      <td>4</td>\n",
       "      <td>6</td>\n",
       "      <td>-88</td>\n",
       "      <td>11</td>\n",
       "    </tr>\n",
       "    <tr>\n",
       "      <th>1</th>\n",
       "      <td>4</td>\n",
       "      <td>6</td>\n",
       "      <td>35</td>\n",
       "      <td>-64</td>\n",
       "    </tr>\n",
       "    <tr>\n",
       "      <th>2</th>\n",
       "      <td>4</td>\n",
       "      <td>6</td>\n",
       "      <td>-47</td>\n",
       "      <td>178</td>\n",
       "    </tr>\n",
       "    <tr>\n",
       "      <th>3</th>\n",
       "      <td>4</td>\n",
       "      <td>6</td>\n",
       "      <td>9</td>\n",
       "      <td>-139</td>\n",
       "    </tr>\n",
       "    <tr>\n",
       "      <th>4</th>\n",
       "      <td>4</td>\n",
       "      <td>6</td>\n",
       "      <td>-73</td>\n",
       "      <td>-60</td>\n",
       "    </tr>\n",
       "    <tr>\n",
       "      <th>...</th>\n",
       "      <td>...</td>\n",
       "      <td>...</td>\n",
       "      <td>...</td>\n",
       "      <td>...</td>\n",
       "    </tr>\n",
       "    <tr>\n",
       "      <th>940819</th>\n",
       "      <td>1</td>\n",
       "      <td>7</td>\n",
       "      <td>-71</td>\n",
       "      <td>-144</td>\n",
       "    </tr>\n",
       "    <tr>\n",
       "      <th>940820</th>\n",
       "      <td>1</td>\n",
       "      <td>7</td>\n",
       "      <td>39</td>\n",
       "      <td>-130</td>\n",
       "    </tr>\n",
       "    <tr>\n",
       "      <th>940821</th>\n",
       "      <td>1</td>\n",
       "      <td>7</td>\n",
       "      <td>55</td>\n",
       "      <td>-83</td>\n",
       "    </tr>\n",
       "    <tr>\n",
       "      <th>940822</th>\n",
       "      <td>1</td>\n",
       "      <td>7</td>\n",
       "      <td>-88</td>\n",
       "      <td>-82</td>\n",
       "    </tr>\n",
       "    <tr>\n",
       "      <th>940823</th>\n",
       "      <td>1</td>\n",
       "      <td>7</td>\n",
       "      <td>73</td>\n",
       "      <td>-82</td>\n",
       "    </tr>\n",
       "  </tbody>\n",
       "</table>\n",
       "<p>940824 rows × 4 columns</p>\n",
       "</div>"
      ],
      "text/plain": [
       "        month  day  latitude  longitude\n",
       "0           4    6       -88         11\n",
       "1           4    6        35        -64\n",
       "2           4    6       -47        178\n",
       "3           4    6         9       -139\n",
       "4           4    6       -73        -60\n",
       "...       ...  ...       ...        ...\n",
       "940819      1    7       -71       -144\n",
       "940820      1    7        39       -130\n",
       "940821      1    7        55        -83\n",
       "940822      1    7       -88        -82\n",
       "940823      1    7        73        -82\n",
       "\n",
       "[940824 rows x 4 columns]"
      ]
     },
     "execution_count": 19,
     "metadata": {},
     "output_type": "execute_result"
    }
   ],
   "source": [
    "df_test = pd.merge(\n",
    "    df_date.iloc[date_test_indices],\n",
    "    df_geo.iloc[geo_test_indices],\n",
    "    how=\"cross\",\n",
    ")\n",
    "df_test"
   ]
  },
  {
   "cell_type": "raw",
   "id": "f3d45f8a",
   "metadata": {},
   "source": [
    "help(df_train.apply)"
   ]
  },
  {
   "cell_type": "code",
   "execution_count": 20,
   "id": "0ed7d1b1",
   "metadata": {},
   "outputs": [
    {
     "data": {
      "text/html": [
       "<div>\n",
       "<style scoped>\n",
       "    .dataframe tbody tr th:only-of-type {\n",
       "        vertical-align: middle;\n",
       "    }\n",
       "\n",
       "    .dataframe tbody tr th {\n",
       "        vertical-align: top;\n",
       "    }\n",
       "\n",
       "    .dataframe thead th {\n",
       "        text-align: right;\n",
       "    }\n",
       "</style>\n",
       "<table border=\"1\" class=\"dataframe\">\n",
       "  <thead>\n",
       "    <tr style=\"text-align: right;\">\n",
       "      <th></th>\n",
       "      <th>item</th>\n",
       "      <th>price</th>\n",
       "    </tr>\n",
       "  </thead>\n",
       "  <tbody>\n",
       "    <tr>\n",
       "      <th>0</th>\n",
       "      <td>refrigerator</td>\n",
       "      <td>10000</td>\n",
       "    </tr>\n",
       "    <tr>\n",
       "      <th>1</th>\n",
       "      <td>fan</td>\n",
       "      <td>5000</td>\n",
       "    </tr>\n",
       "    <tr>\n",
       "      <th>2</th>\n",
       "      <td>laptop</td>\n",
       "      <td>15000</td>\n",
       "    </tr>\n",
       "    <tr>\n",
       "      <th>3</th>\n",
       "      <td>light_bulb</td>\n",
       "      <td>2000</td>\n",
       "    </tr>\n",
       "  </tbody>\n",
       "</table>\n",
       "</div>"
      ],
      "text/plain": [
       "           item  price\n",
       "0  refrigerator  10000\n",
       "1           fan   5000\n",
       "2        laptop  15000\n",
       "3    light_bulb   2000"
      ]
     },
     "execution_count": 20,
     "metadata": {},
     "output_type": "execute_result"
    }
   ],
   "source": [
    "df3 = pd.DataFrame({\n",
    "    'item': ['refrigerator', 'fan', 'laptop', 'light_bulb'],\n",
    "    'price': [10000, 5000, 15000, 2000],\n",
    "})\n",
    "df3"
   ]
  },
  {
   "cell_type": "code",
   "execution_count": 21,
   "id": "308cdbfa",
   "metadata": {},
   "outputs": [
    {
     "data": {
      "text/html": [
       "<div>\n",
       "<style scoped>\n",
       "    .dataframe tbody tr th:only-of-type {\n",
       "        vertical-align: middle;\n",
       "    }\n",
       "\n",
       "    .dataframe tbody tr th {\n",
       "        vertical-align: top;\n",
       "    }\n",
       "\n",
       "    .dataframe thead th {\n",
       "        text-align: right;\n",
       "    }\n",
       "</style>\n",
       "<table border=\"1\" class=\"dataframe\">\n",
       "  <thead>\n",
       "    <tr style=\"text-align: right;\">\n",
       "      <th></th>\n",
       "      <th>item</th>\n",
       "      <th>price</th>\n",
       "      <th>discounted</th>\n",
       "    </tr>\n",
       "  </thead>\n",
       "  <tbody>\n",
       "    <tr>\n",
       "      <th>0</th>\n",
       "      <td>refrigerator</td>\n",
       "      <td>10000</td>\n",
       "      <td>9000</td>\n",
       "    </tr>\n",
       "    <tr>\n",
       "      <th>1</th>\n",
       "      <td>fan</td>\n",
       "      <td>5000</td>\n",
       "      <td>4500</td>\n",
       "    </tr>\n",
       "    <tr>\n",
       "      <th>2</th>\n",
       "      <td>laptop</td>\n",
       "      <td>15000</td>\n",
       "      <td>13500</td>\n",
       "    </tr>\n",
       "    <tr>\n",
       "      <th>3</th>\n",
       "      <td>light_bulb</td>\n",
       "      <td>2000</td>\n",
       "      <td>1800</td>\n",
       "    </tr>\n",
       "  </tbody>\n",
       "</table>\n",
       "</div>"
      ],
      "text/plain": [
       "           item  price  discounted\n",
       "0  refrigerator  10000        9000\n",
       "1           fan   5000        4500\n",
       "2        laptop  15000       13500\n",
       "3    light_bulb   2000        1800"
      ]
     },
     "execution_count": 21,
     "metadata": {},
     "output_type": "execute_result"
    }
   ],
   "source": [
    "discount = 0.1\n",
    "df3['discounted'] = df3.apply(\n",
    "    lambda row: int(row.price * (1 - discount)),\n",
    "    axis = 1,\n",
    ")\n",
    "df3"
   ]
  },
  {
   "cell_type": "raw",
   "id": "8374f589",
   "metadata": {},
   "source": [
    "%%time\n",
    "df_y_rule3_train = df_train.apply(rule3, axis=1)\n",
    "df_y_rule3_train"
   ]
  },
  {
   "cell_type": "code",
   "execution_count": 22,
   "id": "8cf5a18b",
   "metadata": {},
   "outputs": [
    {
     "name": "stdout",
     "output_type": "stream",
     "text": [
      "CPU times: user 14min 11s, sys: 2.71 s, total: 14min 14s\n",
      "Wall time: 14min 31s\n"
     ]
    },
    {
     "data": {
      "text/plain": [
       "array([0, 2, 0, ..., 3, 1, 1])"
      ]
     },
     "execution_count": 22,
     "metadata": {},
     "output_type": "execute_result"
    }
   ],
   "source": [
    "%%time\n",
    "y_rule3_train = df_train.apply(rule3, axis=1).values\n",
    "y_rule3_train"
   ]
  },
  {
   "cell_type": "markdown",
   "id": "11754c80",
   "metadata": {},
   "source": [
    "**(?)** The above cell takes a long time to execute. Any way to accelerate it?<br>"
   ]
  },
  {
   "cell_type": "raw",
   "id": "d7d72daa",
   "metadata": {},
   "source": [
    "%%time\n",
    "df_y_rule3_test = df_test.apply(rule3, axis=1)\n",
    "df_y_rule3_test"
   ]
  },
  {
   "cell_type": "raw",
   "id": "7aa9f07c",
   "metadata": {},
   "source": [
    "y_rule3_test = df_y_rule3_test.values\n",
    "y_rule3_train = df_y_rule3_train.values"
   ]
  },
  {
   "cell_type": "code",
   "execution_count": 23,
   "id": "e484df43",
   "metadata": {},
   "outputs": [
    {
     "name": "stdout",
     "output_type": "stream",
     "text": [
      "CPU times: user 53.1 s, sys: 177 ms, total: 53.2 s\n",
      "Wall time: 54.5 s\n"
     ]
    },
    {
     "data": {
      "text/plain": [
       "array([2, 0, 2, ..., 3, 1, 3])"
      ]
     },
     "execution_count": 23,
     "metadata": {},
     "output_type": "execute_result"
    }
   ],
   "source": [
    "%%time\n",
    "y_rule3_test = df_test.apply(rule3, axis=1).values\n",
    "y_rule3_test"
   ]
  },
  {
   "cell_type": "code",
   "execution_count": 24,
   "id": "5d62e4ea",
   "metadata": {},
   "outputs": [],
   "source": [
    "from sklearn.linear_model import LogisticRegression, SGDClassifier\n",
    "from sklearn.tree import DecisionTreeClassifier\n",
    "from sklearn.svm import SVC\n",
    "from sklearn.naive_bayes import GaussianNB, MultinomialNB, ComplementNB\n",
    "\n",
    "from sklearn.metrics import accuracy_score, precision_score, recall_score"
   ]
  },
  {
   "cell_type": "code",
   "execution_count": 50,
   "id": "ec168a82",
   "metadata": {},
   "outputs": [],
   "source": [
    "log_clf = LogisticRegression()\n",
    "tree_clf = DecisionTreeClassifier()\n",
    "#svm_clf = SVC(probability=True)\n",
    "svm_clf = SVC()\n",
    "#rnd_clf = RandomForestClassifier()\n",
    "sgd_clf = SGDClassifier(random_state=SEED)\n",
    "gnb_clf = GaussianNB()\n",
    "#mnb_clf = MultinomialNB()\n",
    "#cnb_clf = ComplementNB()\n",
    "\n",
    "T_classifiers = (\n",
    "    log_clf,\n",
    "    tree_clf,\n",
    "    #svm_clf,\n",
    "    sgd_clf,\n",
    "    gnb_clf,\n",
    "    #mnb_clf,\n",
    "    #cnb_clf,\n",
    ")"
   ]
  },
  {
   "cell_type": "markdown",
   "id": "d47948c6",
   "metadata": {},
   "source": [
    "I have commented out `svm_clf` because it takes too long for it to train (sth like more than 2 hours on Aero.)"
   ]
  },
  {
   "cell_type": "raw",
   "id": "2d8d4ac0",
   "metadata": {},
   "source": [
    "from tqdm.notebook import tqdm"
   ]
  },
  {
   "cell_type": "code",
   "execution_count": 31,
   "id": "5047e0ef",
   "metadata": {
    "scrolled": false
   },
   "outputs": [
    {
     "name": "stdout",
     "output_type": "stream",
     "text": [
      "(LogisticRegression)\n",
      "acc = 0.3090, precision = 0.2980, recall = 0.3090\n",
      "\n",
      "(DecisionTreeClassifier)\n",
      "acc = 0.9726, precision = 0.9740, recall = 0.9726\n",
      "\n",
      "(SGDClassifier)\n",
      "acc = 0.2664, precision = 0.2253, recall = 0.2664\n",
      "\n",
      "(GaussianNB)\n",
      "acc = 0.2946, precision = 0.2703, recall = 0.2946\n",
      "\n",
      "CPU times: user 19min 7s, sys: 2min 26s, total: 21min 33s\n",
      "Wall time: 19min 27s\n"
     ]
    }
   ],
   "source": [
    "%%time\n",
    "for clf in T_classifiers:\n",
    "    clf.fit(df_train, y_rule3_train)\n",
    "    #clf.fit(df_train, df_y_rule3_train)\n",
    "    y_pred = clf.predict(df_test)\n",
    "\n",
    "    acc = accuracy_score(y_rule3_test, y_pred)\n",
    "    precision = precision_score(y_rule3_test, y_pred, average=\"weighted\")\n",
    "    recall = recall_score(y_rule3_test, y_pred, average=\"weighted\")\n",
    "\n",
    "    print(f\"({clf.__class__.__name__})\\nacc = {acc:.4f}, precision = {precision:.4f}, recall = {recall:.4f}\\n\")"
   ]
  },
  {
   "cell_type": "markdown",
   "id": "7a14944e",
   "metadata": {},
   "source": [
    "Use the following cell to investigate why DecisionTree reaches such a high accuracy."
   ]
  },
  {
   "cell_type": "raw",
   "id": "718b5d2c",
   "metadata": {},
   "source": [
    "from sklearn.tree import export_graphviz\n",
    "\n",
    "out_file = \"\"\n",
    "export_graphviz(\n",
    "    tree_clf,\n",
    "    out_file=out_file,\n",
    "    feature_names=df_train.columns,\n",
    "    class_names=[],\n",
    "    rounded=True,\n",
    "    filled=True,\n",
    ")\n",
    "\n",
    "!dot -Tpng $(out_file) -o "
   ]
  },
  {
   "cell_type": "code",
   "execution_count": 33,
   "id": "88f2dd80",
   "metadata": {
    "scrolled": false
   },
   "outputs": [
    {
     "name": "stdout",
     "output_type": "stream",
     "text": [
      "(LogisticRegression)\n",
      "acc = 0.3540, precision = 0.3601, recall = 0.3540\n",
      "\n",
      "(DecisionTreeClassifier)\n",
      "acc = 1.0000, precision = 1.0000, recall = 1.0000\n",
      "\n",
      "(SGDClassifier)\n",
      "acc = 0.2738, precision = 0.2331, recall = 0.2738\n",
      "\n",
      "(GaussianNB)\n",
      "acc = 0.3345, precision = 0.3107, recall = 0.3345\n",
      "\n",
      "CPU times: user 54.4 s, sys: 6.89 s, total: 1min 1s\n",
      "Wall time: 58.6 s\n"
     ]
    }
   ],
   "source": [
    "%%time\n",
    "# What about performance on the training data?\n",
    "for clf in T_classifiers:\n",
    "    y_pred = clf.predict(df_train)\n",
    "    acc = accuracy_score(y_rule3_train, y_pred)\n",
    "    average = \"weighted\"\n",
    "    precision = precision_score(y_rule3_train, y_pred, average=average)\n",
    "    recall = recall_score(y_rule3_train, y_pred, average=average)\n",
    "    print(f\"({clf.__class__.__name__})\")\n",
    "    print(f\"acc = {acc:.4f}, precision = {precision:.4f}, recall = {recall:.4f}\\n\")"
   ]
  },
  {
   "cell_type": "markdown",
   "id": "6d03ad99",
   "metadata": {},
   "source": [
    "## To What Extent Can Considering Cyclic Nature Help?"
   ]
  },
  {
   "cell_type": "code",
   "execution_count": 34,
   "id": "6a331771",
   "metadata": {},
   "outputs": [],
   "source": [
    "df_geo[[\"longitude_x\", \"longitude_y\"]] = cyclicize_series(df_geo[\"longitude\"], max_=180, min_=-180)"
   ]
  },
  {
   "cell_type": "code",
   "execution_count": 35,
   "id": "469dadaa",
   "metadata": {
    "scrolled": true
   },
   "outputs": [
    {
     "data": {
      "text/html": [
       "<div>\n",
       "<style scoped>\n",
       "    .dataframe tbody tr th:only-of-type {\n",
       "        vertical-align: middle;\n",
       "    }\n",
       "\n",
       "    .dataframe tbody tr th {\n",
       "        vertical-align: top;\n",
       "    }\n",
       "\n",
       "    .dataframe thead th {\n",
       "        text-align: right;\n",
       "    }\n",
       "</style>\n",
       "<table border=\"1\" class=\"dataframe\">\n",
       "  <thead>\n",
       "    <tr style=\"text-align: right;\">\n",
       "      <th></th>\n",
       "      <th>latitude</th>\n",
       "      <th>longitude</th>\n",
       "      <th>longitude_x</th>\n",
       "      <th>longitude_y</th>\n",
       "    </tr>\n",
       "  </thead>\n",
       "  <tbody>\n",
       "    <tr>\n",
       "      <th>0</th>\n",
       "      <td>-89</td>\n",
       "      <td>-179</td>\n",
       "      <td>-0.999848</td>\n",
       "      <td>-1.745241e-02</td>\n",
       "    </tr>\n",
       "    <tr>\n",
       "      <th>1</th>\n",
       "      <td>-89</td>\n",
       "      <td>-178</td>\n",
       "      <td>-0.999391</td>\n",
       "      <td>-3.489950e-02</td>\n",
       "    </tr>\n",
       "    <tr>\n",
       "      <th>2</th>\n",
       "      <td>-89</td>\n",
       "      <td>-177</td>\n",
       "      <td>-0.998630</td>\n",
       "      <td>-5.233596e-02</td>\n",
       "    </tr>\n",
       "    <tr>\n",
       "      <th>3</th>\n",
       "      <td>-89</td>\n",
       "      <td>-176</td>\n",
       "      <td>-0.997564</td>\n",
       "      <td>-6.975647e-02</td>\n",
       "    </tr>\n",
       "    <tr>\n",
       "      <th>4</th>\n",
       "      <td>-89</td>\n",
       "      <td>-175</td>\n",
       "      <td>-0.996195</td>\n",
       "      <td>-8.715574e-02</td>\n",
       "    </tr>\n",
       "    <tr>\n",
       "      <th>...</th>\n",
       "      <td>...</td>\n",
       "      <td>...</td>\n",
       "      <td>...</td>\n",
       "      <td>...</td>\n",
       "    </tr>\n",
       "    <tr>\n",
       "      <th>64435</th>\n",
       "      <td>89</td>\n",
       "      <td>176</td>\n",
       "      <td>-0.997564</td>\n",
       "      <td>6.975647e-02</td>\n",
       "    </tr>\n",
       "    <tr>\n",
       "      <th>64436</th>\n",
       "      <td>89</td>\n",
       "      <td>177</td>\n",
       "      <td>-0.998630</td>\n",
       "      <td>5.233596e-02</td>\n",
       "    </tr>\n",
       "    <tr>\n",
       "      <th>64437</th>\n",
       "      <td>89</td>\n",
       "      <td>178</td>\n",
       "      <td>-0.999391</td>\n",
       "      <td>3.489950e-02</td>\n",
       "    </tr>\n",
       "    <tr>\n",
       "      <th>64438</th>\n",
       "      <td>89</td>\n",
       "      <td>179</td>\n",
       "      <td>-0.999848</td>\n",
       "      <td>1.745241e-02</td>\n",
       "    </tr>\n",
       "    <tr>\n",
       "      <th>64439</th>\n",
       "      <td>89</td>\n",
       "      <td>180</td>\n",
       "      <td>-1.000000</td>\n",
       "      <td>1.224647e-16</td>\n",
       "    </tr>\n",
       "  </tbody>\n",
       "</table>\n",
       "<p>64440 rows × 4 columns</p>\n",
       "</div>"
      ],
      "text/plain": [
       "       latitude  longitude  longitude_x   longitude_y\n",
       "0           -89       -179    -0.999848 -1.745241e-02\n",
       "1           -89       -178    -0.999391 -3.489950e-02\n",
       "2           -89       -177    -0.998630 -5.233596e-02\n",
       "3           -89       -176    -0.997564 -6.975647e-02\n",
       "4           -89       -175    -0.996195 -8.715574e-02\n",
       "...         ...        ...          ...           ...\n",
       "64435        89        176    -0.997564  6.975647e-02\n",
       "64436        89        177    -0.998630  5.233596e-02\n",
       "64437        89        178    -0.999391  3.489950e-02\n",
       "64438        89        179    -0.999848  1.745241e-02\n",
       "64439        89        180    -1.000000  1.224647e-16\n",
       "\n",
       "[64440 rows x 4 columns]"
      ]
     },
     "execution_count": 35,
     "metadata": {},
     "output_type": "execute_result"
    }
   ],
   "source": [
    "df_geo"
   ]
  },
  {
   "cell_type": "code",
   "execution_count": 36,
   "id": "22d39b82",
   "metadata": {},
   "outputs": [
    {
     "data": {
      "text/html": [
       "<div>\n",
       "<style scoped>\n",
       "    .dataframe tbody tr th:only-of-type {\n",
       "        vertical-align: middle;\n",
       "    }\n",
       "\n",
       "    .dataframe tbody tr th {\n",
       "        vertical-align: top;\n",
       "    }\n",
       "\n",
       "    .dataframe thead th {\n",
       "        text-align: right;\n",
       "    }\n",
       "</style>\n",
       "<table border=\"1\" class=\"dataframe\">\n",
       "  <thead>\n",
       "    <tr style=\"text-align: right;\">\n",
       "      <th></th>\n",
       "      <th>month</th>\n",
       "      <th>day</th>\n",
       "      <th>month_x</th>\n",
       "      <th>month_y</th>\n",
       "      <th>day_coarse_x</th>\n",
       "      <th>day_coarse_y</th>\n",
       "    </tr>\n",
       "  </thead>\n",
       "  <tbody>\n",
       "    <tr>\n",
       "      <th>0</th>\n",
       "      <td>1</td>\n",
       "      <td>1</td>\n",
       "      <td>0.866025</td>\n",
       "      <td>5.000000e-01</td>\n",
       "      <td>0.979530</td>\n",
       "      <td>2.012985e-01</td>\n",
       "    </tr>\n",
       "    <tr>\n",
       "      <th>1</th>\n",
       "      <td>1</td>\n",
       "      <td>2</td>\n",
       "      <td>0.866025</td>\n",
       "      <td>5.000000e-01</td>\n",
       "      <td>0.918958</td>\n",
       "      <td>3.943559e-01</td>\n",
       "    </tr>\n",
       "    <tr>\n",
       "      <th>2</th>\n",
       "      <td>1</td>\n",
       "      <td>3</td>\n",
       "      <td>0.866025</td>\n",
       "      <td>5.000000e-01</td>\n",
       "      <td>0.820763</td>\n",
       "      <td>5.712682e-01</td>\n",
       "    </tr>\n",
       "    <tr>\n",
       "      <th>3</th>\n",
       "      <td>1</td>\n",
       "      <td>4</td>\n",
       "      <td>0.866025</td>\n",
       "      <td>5.000000e-01</td>\n",
       "      <td>0.688967</td>\n",
       "      <td>7.247928e-01</td>\n",
       "    </tr>\n",
       "    <tr>\n",
       "      <th>4</th>\n",
       "      <td>1</td>\n",
       "      <td>5</td>\n",
       "      <td>0.866025</td>\n",
       "      <td>5.000000e-01</td>\n",
       "      <td>0.528964</td>\n",
       "      <td>8.486443e-01</td>\n",
       "    </tr>\n",
       "    <tr>\n",
       "      <th>...</th>\n",
       "      <td>...</td>\n",
       "      <td>...</td>\n",
       "      <td>...</td>\n",
       "      <td>...</td>\n",
       "      <td>...</td>\n",
       "      <td>...</td>\n",
       "    </tr>\n",
       "    <tr>\n",
       "      <th>360</th>\n",
       "      <td>12</td>\n",
       "      <td>27</td>\n",
       "      <td>1.000000</td>\n",
       "      <td>-2.449294e-16</td>\n",
       "      <td>0.688967</td>\n",
       "      <td>-7.247928e-01</td>\n",
       "    </tr>\n",
       "    <tr>\n",
       "      <th>361</th>\n",
       "      <td>12</td>\n",
       "      <td>28</td>\n",
       "      <td>1.000000</td>\n",
       "      <td>-2.449294e-16</td>\n",
       "      <td>0.820763</td>\n",
       "      <td>-5.712682e-01</td>\n",
       "    </tr>\n",
       "    <tr>\n",
       "      <th>362</th>\n",
       "      <td>12</td>\n",
       "      <td>29</td>\n",
       "      <td>1.000000</td>\n",
       "      <td>-2.449294e-16</td>\n",
       "      <td>0.918958</td>\n",
       "      <td>-3.943559e-01</td>\n",
       "    </tr>\n",
       "    <tr>\n",
       "      <th>363</th>\n",
       "      <td>12</td>\n",
       "      <td>30</td>\n",
       "      <td>1.000000</td>\n",
       "      <td>-2.449294e-16</td>\n",
       "      <td>0.979530</td>\n",
       "      <td>-2.012985e-01</td>\n",
       "    </tr>\n",
       "    <tr>\n",
       "      <th>364</th>\n",
       "      <td>12</td>\n",
       "      <td>31</td>\n",
       "      <td>1.000000</td>\n",
       "      <td>-2.449294e-16</td>\n",
       "      <td>1.000000</td>\n",
       "      <td>-2.449294e-16</td>\n",
       "    </tr>\n",
       "  </tbody>\n",
       "</table>\n",
       "<p>365 rows × 6 columns</p>\n",
       "</div>"
      ],
      "text/plain": [
       "     month  day   month_x       month_y  day_coarse_x  day_coarse_y\n",
       "0        1    1  0.866025  5.000000e-01      0.979530  2.012985e-01\n",
       "1        1    2  0.866025  5.000000e-01      0.918958  3.943559e-01\n",
       "2        1    3  0.866025  5.000000e-01      0.820763  5.712682e-01\n",
       "3        1    4  0.866025  5.000000e-01      0.688967  7.247928e-01\n",
       "4        1    5  0.866025  5.000000e-01      0.528964  8.486443e-01\n",
       "..     ...  ...       ...           ...           ...           ...\n",
       "360     12   27  1.000000 -2.449294e-16      0.688967 -7.247928e-01\n",
       "361     12   28  1.000000 -2.449294e-16      0.820763 -5.712682e-01\n",
       "362     12   29  1.000000 -2.449294e-16      0.918958 -3.943559e-01\n",
       "363     12   30  1.000000 -2.449294e-16      0.979530 -2.012985e-01\n",
       "364     12   31  1.000000 -2.449294e-16      1.000000 -2.449294e-16\n",
       "\n",
       "[365 rows x 6 columns]"
      ]
     },
     "execution_count": 36,
     "metadata": {},
     "output_type": "execute_result"
    }
   ],
   "source": [
    "df_date[[\"month_x\", \"month_y\"]] = cyclicize_series(df_date[\"month\"], max_=12, min_=0)\n",
    "df_date[[\"day_coarse_x\", \"day_coarse_y\"]] = cyclicize_series(df_date[\"day\"], max_=31, min_=0)\n",
    "df_date"
   ]
  },
  {
   "cell_type": "code",
   "execution_count": 38,
   "id": "88bbf8ff",
   "metadata": {},
   "outputs": [
    {
     "data": {
      "text/html": [
       "<div>\n",
       "<style scoped>\n",
       "    .dataframe tbody tr th:only-of-type {\n",
       "        vertical-align: middle;\n",
       "    }\n",
       "\n",
       "    .dataframe tbody tr th {\n",
       "        vertical-align: top;\n",
       "    }\n",
       "\n",
       "    .dataframe thead th {\n",
       "        text-align: right;\n",
       "    }\n",
       "</style>\n",
       "<table border=\"1\" class=\"dataframe\">\n",
       "  <thead>\n",
       "    <tr style=\"text-align: right;\">\n",
       "      <th></th>\n",
       "      <th>month</th>\n",
       "      <th>day</th>\n",
       "      <th>month_x</th>\n",
       "      <th>month_y</th>\n",
       "      <th>day_coarse_x</th>\n",
       "      <th>day_coarse_y</th>\n",
       "    </tr>\n",
       "  </thead>\n",
       "  <tbody>\n",
       "    <tr>\n",
       "      <th>304</th>\n",
       "      <td>11</td>\n",
       "      <td>1</td>\n",
       "      <td>0.866025</td>\n",
       "      <td>-0.5</td>\n",
       "      <td>0.979530</td>\n",
       "      <td>0.201299</td>\n",
       "    </tr>\n",
       "    <tr>\n",
       "      <th>305</th>\n",
       "      <td>11</td>\n",
       "      <td>2</td>\n",
       "      <td>0.866025</td>\n",
       "      <td>-0.5</td>\n",
       "      <td>0.918958</td>\n",
       "      <td>0.394356</td>\n",
       "    </tr>\n",
       "    <tr>\n",
       "      <th>306</th>\n",
       "      <td>11</td>\n",
       "      <td>3</td>\n",
       "      <td>0.866025</td>\n",
       "      <td>-0.5</td>\n",
       "      <td>0.820763</td>\n",
       "      <td>0.571268</td>\n",
       "    </tr>\n",
       "    <tr>\n",
       "      <th>307</th>\n",
       "      <td>11</td>\n",
       "      <td>4</td>\n",
       "      <td>0.866025</td>\n",
       "      <td>-0.5</td>\n",
       "      <td>0.688967</td>\n",
       "      <td>0.724793</td>\n",
       "    </tr>\n",
       "    <tr>\n",
       "      <th>308</th>\n",
       "      <td>11</td>\n",
       "      <td>5</td>\n",
       "      <td>0.866025</td>\n",
       "      <td>-0.5</td>\n",
       "      <td>0.528964</td>\n",
       "      <td>0.848644</td>\n",
       "    </tr>\n",
       "  </tbody>\n",
       "</table>\n",
       "</div>"
      ],
      "text/plain": [
       "     month  day   month_x  month_y  day_coarse_x  day_coarse_y\n",
       "304     11    1  0.866025     -0.5      0.979530      0.201299\n",
       "305     11    2  0.866025     -0.5      0.918958      0.394356\n",
       "306     11    3  0.866025     -0.5      0.820763      0.571268\n",
       "307     11    4  0.866025     -0.5      0.688967      0.724793\n",
       "308     11    5  0.866025     -0.5      0.528964      0.848644"
      ]
     },
     "execution_count": 38,
     "metadata": {},
     "output_type": "execute_result"
    }
   ],
   "source": [
    "df_date[df_date[\"month\"]==11].head()"
   ]
  },
  {
   "cell_type": "code",
   "execution_count": 43,
   "id": "2eb9cef5",
   "metadata": {},
   "outputs": [
    {
     "data": {
      "text/html": [
       "<div>\n",
       "<style scoped>\n",
       "    .dataframe tbody tr th:only-of-type {\n",
       "        vertical-align: middle;\n",
       "    }\n",
       "\n",
       "    .dataframe tbody tr th {\n",
       "        vertical-align: top;\n",
       "    }\n",
       "\n",
       "    .dataframe thead th {\n",
       "        text-align: right;\n",
       "    }\n",
       "</style>\n",
       "<table border=\"1\" class=\"dataframe\">\n",
       "  <thead>\n",
       "    <tr style=\"text-align: right;\">\n",
       "      <th></th>\n",
       "      <th>month_x</th>\n",
       "      <th>month_y</th>\n",
       "      <th>day_coarse_x</th>\n",
       "      <th>day_coarse_y</th>\n",
       "    </tr>\n",
       "  </thead>\n",
       "  <tbody>\n",
       "    <tr>\n",
       "      <th>328</th>\n",
       "      <td>8.660254e-01</td>\n",
       "      <td>-5.000000e-01</td>\n",
       "      <td>0.347305</td>\n",
       "      <td>-0.937752</td>\n",
       "    </tr>\n",
       "    <tr>\n",
       "      <th>294</th>\n",
       "      <td>5.000000e-01</td>\n",
       "      <td>-8.660254e-01</td>\n",
       "      <td>-0.250653</td>\n",
       "      <td>-0.968077</td>\n",
       "    </tr>\n",
       "    <tr>\n",
       "      <th>250</th>\n",
       "      <td>-1.836970e-16</td>\n",
       "      <td>-1.000000e+00</td>\n",
       "      <td>-0.050649</td>\n",
       "      <td>0.998717</td>\n",
       "    </tr>\n",
       "    <tr>\n",
       "      <th>2</th>\n",
       "      <td>8.660254e-01</td>\n",
       "      <td>5.000000e-01</td>\n",
       "      <td>0.820763</td>\n",
       "      <td>0.571268</td>\n",
       "    </tr>\n",
       "    <tr>\n",
       "      <th>39</th>\n",
       "      <td>5.000000e-01</td>\n",
       "      <td>8.660254e-01</td>\n",
       "      <td>-0.250653</td>\n",
       "      <td>0.968077</td>\n",
       "    </tr>\n",
       "    <tr>\n",
       "      <th>...</th>\n",
       "      <td>...</td>\n",
       "      <td>...</td>\n",
       "      <td>...</td>\n",
       "      <td>...</td>\n",
       "    </tr>\n",
       "    <tr>\n",
       "      <th>330</th>\n",
       "      <td>8.660254e-01</td>\n",
       "      <td>-5.000000e-01</td>\n",
       "      <td>0.688967</td>\n",
       "      <td>-0.724793</td>\n",
       "    </tr>\n",
       "    <tr>\n",
       "      <th>161</th>\n",
       "      <td>-1.000000e+00</td>\n",
       "      <td>1.224647e-16</td>\n",
       "      <td>-0.612106</td>\n",
       "      <td>0.790776</td>\n",
       "    </tr>\n",
       "    <tr>\n",
       "      <th>223</th>\n",
       "      <td>-5.000000e-01</td>\n",
       "      <td>-8.660254e-01</td>\n",
       "      <td>-0.758758</td>\n",
       "      <td>0.651372</td>\n",
       "    </tr>\n",
       "    <tr>\n",
       "      <th>49</th>\n",
       "      <td>5.000000e-01</td>\n",
       "      <td>8.660254e-01</td>\n",
       "      <td>-0.758758</td>\n",
       "      <td>-0.651372</td>\n",
       "    </tr>\n",
       "    <tr>\n",
       "      <th>70</th>\n",
       "      <td>6.123234e-17</td>\n",
       "      <td>1.000000e+00</td>\n",
       "      <td>-0.758758</td>\n",
       "      <td>0.651372</td>\n",
       "    </tr>\n",
       "  </tbody>\n",
       "</table>\n",
       "<p>292 rows × 4 columns</p>\n",
       "</div>"
      ],
      "text/plain": [
       "          month_x       month_y  day_coarse_x  day_coarse_y\n",
       "328  8.660254e-01 -5.000000e-01      0.347305     -0.937752\n",
       "294  5.000000e-01 -8.660254e-01     -0.250653     -0.968077\n",
       "250 -1.836970e-16 -1.000000e+00     -0.050649      0.998717\n",
       "2    8.660254e-01  5.000000e-01      0.820763      0.571268\n",
       "39   5.000000e-01  8.660254e-01     -0.250653      0.968077\n",
       "..            ...           ...           ...           ...\n",
       "330  8.660254e-01 -5.000000e-01      0.688967     -0.724793\n",
       "161 -1.000000e+00  1.224647e-16     -0.612106      0.790776\n",
       "223 -5.000000e-01 -8.660254e-01     -0.758758      0.651372\n",
       "49   5.000000e-01  8.660254e-01     -0.758758     -0.651372\n",
       "70   6.123234e-17  1.000000e+00     -0.758758      0.651372\n",
       "\n",
       "[292 rows x 4 columns]"
      ]
     },
     "execution_count": 43,
     "metadata": {},
     "output_type": "execute_result"
    }
   ],
   "source": [
    "date_cols = [\n",
    "    \"month_x\",\n",
    "    \"month_y\",\n",
    "    \"day_coarse_x\",\n",
    "    \"day_coarse_y\",\n",
    "]\n",
    "geo_cols = [\n",
    "    \"latitude\",\n",
    "    \"longitude_x\",\n",
    "    \"longitude_y\",\n",
    "]\n",
    "\n",
    "df_date.iloc[date_train_indices].loc[:, date_cols]"
   ]
  },
  {
   "cell_type": "code",
   "execution_count": 44,
   "id": "cd10a60a",
   "metadata": {},
   "outputs": [
    {
     "name": "stdout",
     "output_type": "stream",
     "text": [
      "CPU times: user 1.14 s, sys: 848 ms, total: 1.99 s\n",
      "Wall time: 2.01 s\n"
     ]
    },
    {
     "data": {
      "text/html": [
       "<div>\n",
       "<style scoped>\n",
       "    .dataframe tbody tr th:only-of-type {\n",
       "        vertical-align: middle;\n",
       "    }\n",
       "\n",
       "    .dataframe tbody tr th {\n",
       "        vertical-align: top;\n",
       "    }\n",
       "\n",
       "    .dataframe thead th {\n",
       "        text-align: right;\n",
       "    }\n",
       "</style>\n",
       "<table border=\"1\" class=\"dataframe\">\n",
       "  <thead>\n",
       "    <tr style=\"text-align: right;\">\n",
       "      <th></th>\n",
       "      <th>month_x</th>\n",
       "      <th>month_y</th>\n",
       "      <th>day_coarse_x</th>\n",
       "      <th>day_coarse_y</th>\n",
       "      <th>latitude</th>\n",
       "      <th>longitude_x</th>\n",
       "      <th>longitude_y</th>\n",
       "    </tr>\n",
       "  </thead>\n",
       "  <tbody>\n",
       "    <tr>\n",
       "      <th>0</th>\n",
       "      <td>8.660254e-01</td>\n",
       "      <td>-0.5</td>\n",
       "      <td>0.347305</td>\n",
       "      <td>-0.937752</td>\n",
       "      <td>-87</td>\n",
       "      <td>0.961262</td>\n",
       "      <td>0.275637</td>\n",
       "    </tr>\n",
       "    <tr>\n",
       "      <th>1</th>\n",
       "      <td>8.660254e-01</td>\n",
       "      <td>-0.5</td>\n",
       "      <td>0.347305</td>\n",
       "      <td>-0.937752</td>\n",
       "      <td>24</td>\n",
       "      <td>0.500000</td>\n",
       "      <td>0.866025</td>\n",
       "    </tr>\n",
       "    <tr>\n",
       "      <th>2</th>\n",
       "      <td>8.660254e-01</td>\n",
       "      <td>-0.5</td>\n",
       "      <td>0.347305</td>\n",
       "      <td>-0.937752</td>\n",
       "      <td>-84</td>\n",
       "      <td>-0.965926</td>\n",
       "      <td>0.258819</td>\n",
       "    </tr>\n",
       "    <tr>\n",
       "      <th>3</th>\n",
       "      <td>8.660254e-01</td>\n",
       "      <td>-0.5</td>\n",
       "      <td>0.347305</td>\n",
       "      <td>-0.937752</td>\n",
       "      <td>83</td>\n",
       "      <td>0.990268</td>\n",
       "      <td>0.139173</td>\n",
       "    </tr>\n",
       "    <tr>\n",
       "      <th>4</th>\n",
       "      <td>8.660254e-01</td>\n",
       "      <td>-0.5</td>\n",
       "      <td>0.347305</td>\n",
       "      <td>-0.937752</td>\n",
       "      <td>-55</td>\n",
       "      <td>0.325568</td>\n",
       "      <td>0.945519</td>\n",
       "    </tr>\n",
       "    <tr>\n",
       "      <th>...</th>\n",
       "      <td>...</td>\n",
       "      <td>...</td>\n",
       "      <td>...</td>\n",
       "      <td>...</td>\n",
       "      <td>...</td>\n",
       "      <td>...</td>\n",
       "      <td>...</td>\n",
       "    </tr>\n",
       "    <tr>\n",
       "      <th>15053179</th>\n",
       "      <td>6.123234e-17</td>\n",
       "      <td>1.0</td>\n",
       "      <td>-0.758758</td>\n",
       "      <td>0.651372</td>\n",
       "      <td>-89</td>\n",
       "      <td>-0.121869</td>\n",
       "      <td>0.992546</td>\n",
       "    </tr>\n",
       "    <tr>\n",
       "      <th>15053180</th>\n",
       "      <td>6.123234e-17</td>\n",
       "      <td>1.0</td>\n",
       "      <td>-0.758758</td>\n",
       "      <td>0.651372</td>\n",
       "      <td>25</td>\n",
       "      <td>-0.224951</td>\n",
       "      <td>0.974370</td>\n",
       "    </tr>\n",
       "    <tr>\n",
       "      <th>15053181</th>\n",
       "      <td>6.123234e-17</td>\n",
       "      <td>1.0</td>\n",
       "      <td>-0.758758</td>\n",
       "      <td>0.651372</td>\n",
       "      <td>78</td>\n",
       "      <td>0.829038</td>\n",
       "      <td>0.559193</td>\n",
       "    </tr>\n",
       "    <tr>\n",
       "      <th>15053182</th>\n",
       "      <td>6.123234e-17</td>\n",
       "      <td>1.0</td>\n",
       "      <td>-0.758758</td>\n",
       "      <td>0.651372</td>\n",
       "      <td>-46</td>\n",
       "      <td>-0.292372</td>\n",
       "      <td>0.956305</td>\n",
       "    </tr>\n",
       "    <tr>\n",
       "      <th>15053183</th>\n",
       "      <td>6.123234e-17</td>\n",
       "      <td>1.0</td>\n",
       "      <td>-0.758758</td>\n",
       "      <td>0.651372</td>\n",
       "      <td>-40</td>\n",
       "      <td>-0.642788</td>\n",
       "      <td>0.766044</td>\n",
       "    </tr>\n",
       "  </tbody>\n",
       "</table>\n",
       "<p>15053184 rows × 7 columns</p>\n",
       "</div>"
      ],
      "text/plain": [
       "               month_x  month_y  day_coarse_x  day_coarse_y  latitude  \\\n",
       "0         8.660254e-01     -0.5      0.347305     -0.937752       -87   \n",
       "1         8.660254e-01     -0.5      0.347305     -0.937752        24   \n",
       "2         8.660254e-01     -0.5      0.347305     -0.937752       -84   \n",
       "3         8.660254e-01     -0.5      0.347305     -0.937752        83   \n",
       "4         8.660254e-01     -0.5      0.347305     -0.937752       -55   \n",
       "...                ...      ...           ...           ...       ...   \n",
       "15053179  6.123234e-17      1.0     -0.758758      0.651372       -89   \n",
       "15053180  6.123234e-17      1.0     -0.758758      0.651372        25   \n",
       "15053181  6.123234e-17      1.0     -0.758758      0.651372        78   \n",
       "15053182  6.123234e-17      1.0     -0.758758      0.651372       -46   \n",
       "15053183  6.123234e-17      1.0     -0.758758      0.651372       -40   \n",
       "\n",
       "          longitude_x  longitude_y  \n",
       "0            0.961262     0.275637  \n",
       "1            0.500000     0.866025  \n",
       "2           -0.965926     0.258819  \n",
       "3            0.990268     0.139173  \n",
       "4            0.325568     0.945519  \n",
       "...               ...          ...  \n",
       "15053179    -0.121869     0.992546  \n",
       "15053180    -0.224951     0.974370  \n",
       "15053181     0.829038     0.559193  \n",
       "15053182    -0.292372     0.956305  \n",
       "15053183    -0.642788     0.766044  \n",
       "\n",
       "[15053184 rows x 7 columns]"
      ]
     },
     "execution_count": 44,
     "metadata": {},
     "output_type": "execute_result"
    }
   ],
   "source": [
    "%%time\n",
    "df_cyclic_train = pd.merge(\n",
    "    df_date.iloc[date_train_indices].loc[:, date_cols],\n",
    "    df_geo.iloc[geo_train_indices].loc[:, geo_cols],\n",
    "    how=\"cross\",\n",
    ")\n",
    "df_cyclic_train"
   ]
  },
  {
   "cell_type": "code",
   "execution_count": 45,
   "id": "ce3c088d",
   "metadata": {},
   "outputs": [
    {
     "name": "stdout",
     "output_type": "stream",
     "text": [
      "CPU times: user 93.9 ms, sys: 26.7 ms, total: 121 ms\n",
      "Wall time: 124 ms\n"
     ]
    },
    {
     "data": {
      "text/html": [
       "<div>\n",
       "<style scoped>\n",
       "    .dataframe tbody tr th:only-of-type {\n",
       "        vertical-align: middle;\n",
       "    }\n",
       "\n",
       "    .dataframe tbody tr th {\n",
       "        vertical-align: top;\n",
       "    }\n",
       "\n",
       "    .dataframe thead th {\n",
       "        text-align: right;\n",
       "    }\n",
       "</style>\n",
       "<table border=\"1\" class=\"dataframe\">\n",
       "  <thead>\n",
       "    <tr style=\"text-align: right;\">\n",
       "      <th></th>\n",
       "      <th>month_x</th>\n",
       "      <th>month_y</th>\n",
       "      <th>day_coarse_x</th>\n",
       "      <th>day_coarse_y</th>\n",
       "      <th>latitude</th>\n",
       "      <th>longitude_x</th>\n",
       "      <th>longitude_y</th>\n",
       "    </tr>\n",
       "  </thead>\n",
       "  <tbody>\n",
       "    <tr>\n",
       "      <th>0</th>\n",
       "      <td>-0.500000</td>\n",
       "      <td>0.866025</td>\n",
       "      <td>0.347305</td>\n",
       "      <td>0.937752</td>\n",
       "      <td>-88</td>\n",
       "      <td>0.981627</td>\n",
       "      <td>0.190809</td>\n",
       "    </tr>\n",
       "    <tr>\n",
       "      <th>1</th>\n",
       "      <td>-0.500000</td>\n",
       "      <td>0.866025</td>\n",
       "      <td>0.347305</td>\n",
       "      <td>0.937752</td>\n",
       "      <td>35</td>\n",
       "      <td>0.438371</td>\n",
       "      <td>-0.898794</td>\n",
       "    </tr>\n",
       "    <tr>\n",
       "      <th>2</th>\n",
       "      <td>-0.500000</td>\n",
       "      <td>0.866025</td>\n",
       "      <td>0.347305</td>\n",
       "      <td>0.937752</td>\n",
       "      <td>-47</td>\n",
       "      <td>-0.999391</td>\n",
       "      <td>0.034899</td>\n",
       "    </tr>\n",
       "    <tr>\n",
       "      <th>3</th>\n",
       "      <td>-0.500000</td>\n",
       "      <td>0.866025</td>\n",
       "      <td>0.347305</td>\n",
       "      <td>0.937752</td>\n",
       "      <td>9</td>\n",
       "      <td>-0.754710</td>\n",
       "      <td>-0.656059</td>\n",
       "    </tr>\n",
       "    <tr>\n",
       "      <th>4</th>\n",
       "      <td>-0.500000</td>\n",
       "      <td>0.866025</td>\n",
       "      <td>0.347305</td>\n",
       "      <td>0.937752</td>\n",
       "      <td>-73</td>\n",
       "      <td>0.500000</td>\n",
       "      <td>-0.866025</td>\n",
       "    </tr>\n",
       "    <tr>\n",
       "      <th>...</th>\n",
       "      <td>...</td>\n",
       "      <td>...</td>\n",
       "      <td>...</td>\n",
       "      <td>...</td>\n",
       "      <td>...</td>\n",
       "      <td>...</td>\n",
       "      <td>...</td>\n",
       "    </tr>\n",
       "    <tr>\n",
       "      <th>940819</th>\n",
       "      <td>0.866025</td>\n",
       "      <td>0.500000</td>\n",
       "      <td>0.151428</td>\n",
       "      <td>0.988468</td>\n",
       "      <td>-71</td>\n",
       "      <td>-0.809017</td>\n",
       "      <td>-0.587785</td>\n",
       "    </tr>\n",
       "    <tr>\n",
       "      <th>940820</th>\n",
       "      <td>0.866025</td>\n",
       "      <td>0.500000</td>\n",
       "      <td>0.151428</td>\n",
       "      <td>0.988468</td>\n",
       "      <td>39</td>\n",
       "      <td>-0.642788</td>\n",
       "      <td>-0.766044</td>\n",
       "    </tr>\n",
       "    <tr>\n",
       "      <th>940821</th>\n",
       "      <td>0.866025</td>\n",
       "      <td>0.500000</td>\n",
       "      <td>0.151428</td>\n",
       "      <td>0.988468</td>\n",
       "      <td>55</td>\n",
       "      <td>0.121869</td>\n",
       "      <td>-0.992546</td>\n",
       "    </tr>\n",
       "    <tr>\n",
       "      <th>940822</th>\n",
       "      <td>0.866025</td>\n",
       "      <td>0.500000</td>\n",
       "      <td>0.151428</td>\n",
       "      <td>0.988468</td>\n",
       "      <td>-88</td>\n",
       "      <td>0.139173</td>\n",
       "      <td>-0.990268</td>\n",
       "    </tr>\n",
       "    <tr>\n",
       "      <th>940823</th>\n",
       "      <td>0.866025</td>\n",
       "      <td>0.500000</td>\n",
       "      <td>0.151428</td>\n",
       "      <td>0.988468</td>\n",
       "      <td>73</td>\n",
       "      <td>0.139173</td>\n",
       "      <td>-0.990268</td>\n",
       "    </tr>\n",
       "  </tbody>\n",
       "</table>\n",
       "<p>940824 rows × 7 columns</p>\n",
       "</div>"
      ],
      "text/plain": [
       "         month_x   month_y  day_coarse_x  day_coarse_y  latitude  longitude_x  \\\n",
       "0      -0.500000  0.866025      0.347305      0.937752       -88     0.981627   \n",
       "1      -0.500000  0.866025      0.347305      0.937752        35     0.438371   \n",
       "2      -0.500000  0.866025      0.347305      0.937752       -47    -0.999391   \n",
       "3      -0.500000  0.866025      0.347305      0.937752         9    -0.754710   \n",
       "4      -0.500000  0.866025      0.347305      0.937752       -73     0.500000   \n",
       "...          ...       ...           ...           ...       ...          ...   \n",
       "940819  0.866025  0.500000      0.151428      0.988468       -71    -0.809017   \n",
       "940820  0.866025  0.500000      0.151428      0.988468        39    -0.642788   \n",
       "940821  0.866025  0.500000      0.151428      0.988468        55     0.121869   \n",
       "940822  0.866025  0.500000      0.151428      0.988468       -88     0.139173   \n",
       "940823  0.866025  0.500000      0.151428      0.988468        73     0.139173   \n",
       "\n",
       "        longitude_y  \n",
       "0          0.190809  \n",
       "1         -0.898794  \n",
       "2          0.034899  \n",
       "3         -0.656059  \n",
       "4         -0.866025  \n",
       "...             ...  \n",
       "940819    -0.587785  \n",
       "940820    -0.766044  \n",
       "940821    -0.992546  \n",
       "940822    -0.990268  \n",
       "940823    -0.990268  \n",
       "\n",
       "[940824 rows x 7 columns]"
      ]
     },
     "execution_count": 45,
     "metadata": {},
     "output_type": "execute_result"
    }
   ],
   "source": [
    "%%time\n",
    "df_cyclic_test = pd.merge(\n",
    "    df_date.iloc[date_test_indices].loc[:, date_cols],\n",
    "    df_geo.iloc[geo_test_indices].loc[:, geo_cols],\n",
    "    how=\"cross\",\n",
    ")\n",
    "df_cyclic_test"
   ]
  },
  {
   "cell_type": "code",
   "execution_count": 47,
   "id": "9ca589da",
   "metadata": {},
   "outputs": [
    {
     "data": {
      "text/plain": [
       "((15053184, 4), (15053184, 7))"
      ]
     },
     "execution_count": 47,
     "metadata": {},
     "output_type": "execute_result"
    }
   ],
   "source": [
    "df_train.shape, df_cyclic_train.shape"
   ]
  },
  {
   "cell_type": "code",
   "execution_count": 48,
   "id": "c3dfe967",
   "metadata": {},
   "outputs": [
    {
     "data": {
      "text/plain": [
       "((940824, 4), (940824, 7))"
      ]
     },
     "execution_count": 48,
     "metadata": {},
     "output_type": "execute_result"
    }
   ],
   "source": [
    "df_test.shape, df_cyclic_test.shape"
   ]
  },
  {
   "cell_type": "markdown",
   "id": "8582e2de",
   "metadata": {},
   "source": [
    "`y_rule3_{train,test}` can be kept unchaged, since we are just choosing diff features. Let's test to see if the performance metrics get improved."
   ]
  },
  {
   "cell_type": "code",
   "execution_count": 51,
   "id": "8f14cc1e",
   "metadata": {
    "scrolled": false
   },
   "outputs": [
    {
     "name": "stdout",
     "output_type": "stream",
     "text": [
      "(LogisticRegression)\n",
      "acc = 0.2076, precision = 0.2041, recall = 0.2076\n",
      "\n",
      "(DecisionTreeClassifier)\n",
      "acc = 0.8767, precision = 0.8770, recall = 0.8767\n",
      "\n",
      "(SGDClassifier)\n",
      "acc = 0.2468, precision = 0.2251, recall = 0.2468\n",
      "\n",
      "(GaussianNB)\n",
      "acc = 0.2356, precision = 0.2340, recall = 0.2356\n",
      "\n",
      "CPU times: user 9min 15s, sys: 47.5 s, total: 10min 3s\n",
      "Wall time: 9min 23s\n"
     ]
    }
   ],
   "source": [
    "%%time\n",
    "for clf in T_classifiers:\n",
    "    clf.fit(df_cyclic_train, y_rule3_train)\n",
    "    #clf.fit(df_cyclic_train, df_y_rule3_train)\n",
    "    y_pred = clf.predict(df_cyclic_test)\n",
    "\n",
    "    acc = accuracy_score(y_rule3_test, y_pred)\n",
    "    precision = precision_score(y_rule3_test, y_pred, average=\"weighted\")\n",
    "    recall = recall_score(y_rule3_test, y_pred, average=\"weighted\")\n",
    "\n",
    "    print(f\"({clf.__class__.__name__})\")\n",
    "    print(f\"acc = {acc:.4f}, precision = {precision:.4f}, recall = {recall:.4f}\\n\")"
   ]
  },
  {
   "cell_type": "markdown",
   "id": "592f658f",
   "metadata": {},
   "source": [
    "## To Our Surprise!!\n",
    "The performance actually gets worse when we include the cyclic representation."
   ]
  },
  {
   "cell_type": "markdown",
   "id": "1da2aa00",
   "metadata": {},
   "source": [
    "## Maybe it's because...\n",
    "these model are not quite able to separate non-linearly our data points. Let's try a DNN model."
   ]
  },
  {
   "cell_type": "code",
   "execution_count": null,
   "id": "c4593f04",
   "metadata": {},
   "outputs": [],
   "source": []
  },
  {
   "cell_type": "code",
   "execution_count": null,
   "id": "bc644d1c",
   "metadata": {},
   "outputs": [],
   "source": []
  },
  {
   "cell_type": "code",
   "execution_count": null,
   "id": "cc75651e",
   "metadata": {},
   "outputs": [],
   "source": []
  }
 ],
 "metadata": {
  "kernelspec": {
   "display_name": "Python 3",
   "language": "python",
   "name": "python3"
  },
  "language_info": {
   "codemirror_mode": {
    "name": "ipython",
    "version": 3
   },
   "file_extension": ".py",
   "mimetype": "text/x-python",
   "name": "python",
   "nbconvert_exporter": "python",
   "pygments_lexer": "ipython3",
   "version": "3.7.10"
  }
 },
 "nbformat": 4,
 "nbformat_minor": 5
}
