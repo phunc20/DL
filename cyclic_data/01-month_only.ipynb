{
 "cells": [
  {
   "cell_type": "markdown",
   "id": "dceae51e",
   "metadata": {},
   "source": [
    "# Season Dataset (Version 1)\n",
    "This will be the simlest version of our season dataset in which the label or the task is to tell the season from a given month in the Northern semisphere.\n",
    "\n",
    "For simplicity, we assume the following:\n",
    "\n",
    "- Spring: March, April, May\n",
    "- Summer: June, July, August\n",
    "- Autumn: September, October, November\n",
    "- Winter: December, January, February\n"
   ]
  },
  {
   "cell_type": "code",
   "execution_count": 1,
   "id": "3ee21d2d",
   "metadata": {},
   "outputs": [],
   "source": [
    "import numpy as np"
   ]
  },
  {
   "cell_type": "code",
   "execution_count": 2,
   "id": "df83fff4",
   "metadata": {},
   "outputs": [],
   "source": [
    "JAN = 1\n",
    "FEB = 2\n",
    "MAR = 3\n",
    "APR = 4\n",
    "MAY = 5\n",
    "JUN = 6\n",
    "JUL = 7\n",
    "AUG = 8\n",
    "SEP = 9\n",
    "OCT = 10\n",
    "NOV = 11\n",
    "DEC = 12\n",
    "\n",
    "SEED = 20"
   ]
  },
  {
   "cell_type": "code",
   "execution_count": 3,
   "id": "8f864409",
   "metadata": {
    "scrolled": true
   },
   "outputs": [
    {
     "data": {
      "text/plain": [
       "array([3, 3, 0, 0, 0, 1, 1, 1, 2, 2, 2, 3])"
      ]
     },
     "execution_count": 3,
     "metadata": {},
     "output_type": "execute_result"
    }
   ],
   "source": [
    "X = np.arange(JAN, DEC+1)\n",
    "season_to_id = {\n",
    "    \"spring\": 0,\n",
    "    \"summer\": 1,\n",
    "    \"autumn\": 2,\n",
    "    \"winter\": 3,\n",
    "}\n",
    "\n",
    "def make_labels(months):\n",
    "    labels = np.empty_like(months)\n",
    "    for i, month in enumerate(months):\n",
    "        if MAR <= month <= MAY:\n",
    "            labels[i] = season_to_id[\"spring\"]\n",
    "        elif JUN <= month <= AUG:\n",
    "            labels[i] = season_to_id[\"summer\"]\n",
    "        elif SEP <= month <= NOV:\n",
    "            labels[i] = season_to_id[\"autumn\"]\n",
    "        else:\n",
    "            labels[i] = season_to_id[\"winter\"]\n",
    "    return labels\n",
    "\n",
    "y = make_labels(X)\n",
    "y"
   ]
  },
  {
   "cell_type": "markdown",
   "id": "440fd2fa",
   "metadata": {},
   "source": [
    "## First Dataset, First Model\n",
    "\n",
    "Due to its simplicity, our train/val/test sets will be really small, compared to what we usually see in a usual dataset.\n",
    "\n",
    "Besides, for the moment we just take this raw data and apply ML/NN models to see how well they may perform."
   ]
  },
  {
   "cell_type": "code",
   "execution_count": 4,
   "id": "84c45406",
   "metadata": {},
   "outputs": [],
   "source": [
    "from sklearn.model_selection import train_test_split"
   ]
  },
  {
   "cell_type": "raw",
   "id": "e4580621",
   "metadata": {},
   "source": [
    "!which python"
   ]
  },
  {
   "cell_type": "raw",
   "id": "ba0b01a2",
   "metadata": {},
   "source": [
    "!conda install -n tf2.0 scikit-learn -y"
   ]
  },
  {
   "cell_type": "raw",
   "id": "d885c9ba",
   "metadata": {},
   "source": [
    "help(train_test_split)"
   ]
  },
  {
   "cell_type": "code",
   "execution_count": 5,
   "id": "4c0542ff",
   "metadata": {},
   "outputs": [
    {
     "data": {
      "text/plain": [
       "((8,), (4,))"
      ]
     },
     "execution_count": 5,
     "metadata": {},
     "output_type": "execute_result"
    }
   ],
   "source": [
    "X_train, X_test, y_train, y_test = train_test_split(X, y, test_size=4/12, random_state=SEED)\n",
    "X_train.shape, X_test.shape"
   ]
  },
  {
   "cell_type": "code",
   "execution_count": 6,
   "id": "120532d4",
   "metadata": {},
   "outputs": [],
   "source": [
    "from sklearn.linear_model import LogisticRegression\n",
    "from sklearn.tree import DecisionTreeClassifier\n",
    "from sklearn.svm import SVC\n",
    "from sklearn.ensemble import RandomForestClassifier\n",
    "from sklearn.ensemble import VotingClassifier\n",
    "\n",
    "from sklearn.metrics import accuracy_score, precision_score, recall_score"
   ]
  },
  {
   "cell_type": "code",
   "execution_count": 7,
   "id": "19b73eeb",
   "metadata": {},
   "outputs": [],
   "source": [
    "log_clf = LogisticRegression()\n",
    "svm_clf = SVC(probability=True)\n",
    "rnd_clf = RandomForestClassifier()"
   ]
  },
  {
   "cell_type": "code",
   "execution_count": 8,
   "id": "f6a26dfe",
   "metadata": {},
   "outputs": [],
   "source": [
    "voting_clf = VotingClassifier(\n",
    "    estimators=[(\"lr\", log_clf), (\"svm\", svm_clf), (\"rf\", rnd_clf)],\n",
    "    voting=\"soft\",\n",
    ")"
   ]
  },
  {
   "cell_type": "raw",
   "id": "8f0e20cf",
   "metadata": {},
   "source": [
    "voting_clf.fit(X_train, y_train)\n",
    "for clf in (log_clf, svm_clf, rnd_clf, voting_clf):\n",
    "    y_pred = clf.predict(X_test)\n",
    "    acc = accuracy_score(y_test, y_pred)\n",
    "    precision = precision_score(y_test, y_pred)\n",
    "    recall = recall_score(y_test, y_pred)\n",
    "    print(f\"({clf.__class__.__name__}) acc = {acc:.2f}, precision = {precision:.2f}, recall = {recall:.2f}\")"
   ]
  },
  {
   "cell_type": "raw",
   "id": "d85c312b",
   "metadata": {},
   "source": [
    "ValueError: Expected 2D array, got 1D array instead:\n",
    "array=[11.  4.  5.  1.  2.  3.  9.  6.].\n",
    "Reshape your data either using array.reshape(-1, 1) if your data has a single feature or array.reshape(1, -1) if it contains a single sample."
   ]
  },
  {
   "cell_type": "raw",
   "id": "daf8cf64",
   "metadata": {},
   "source": [
    "# As far as I can remember, most numpy operations use view (as opposed to copy)\n",
    "help(X.reshape)"
   ]
  },
  {
   "cell_type": "code",
   "execution_count": 9,
   "id": "c6a337ca",
   "metadata": {},
   "outputs": [
    {
     "data": {
      "text/plain": [
       "((12, 1), (12,))"
      ]
     },
     "execution_count": 9,
     "metadata": {},
     "output_type": "execute_result"
    }
   ],
   "source": [
    "X = X.reshape((-1, 1))\n",
    "#y = y.reshape((-1, 1))\n",
    "X.shape, y.shape"
   ]
  },
  {
   "cell_type": "code",
   "execution_count": 10,
   "id": "2e831ef3",
   "metadata": {},
   "outputs": [
    {
     "data": {
      "text/plain": [
       "((8, 1), (8,))"
      ]
     },
     "execution_count": 10,
     "metadata": {},
     "output_type": "execute_result"
    }
   ],
   "source": [
    "X_train = X_train.reshape((-1, 1))\n",
    "#y_train = y_train.reshape((-1, 1))\n",
    "X_train.shape, y_train.shape"
   ]
  },
  {
   "cell_type": "code",
   "execution_count": 11,
   "id": "90e10dad",
   "metadata": {},
   "outputs": [
    {
     "data": {
      "text/plain": [
       "((4, 1), (4,))"
      ]
     },
     "execution_count": 11,
     "metadata": {},
     "output_type": "execute_result"
    }
   ],
   "source": [
    "X_test = X_test.reshape((-1, 1))\n",
    "#y_test = y_test.reshape((-1, 1))\n",
    "X_test.shape, y_test.shape"
   ]
  },
  {
   "cell_type": "raw",
   "id": "5ace7b25",
   "metadata": {},
   "source": [
    "voting_clf.fit(X_train, y_train)\n",
    "for clf in (log_clf, svm_clf, rnd_clf, voting_clf):\n",
    "    y_pred = clf.predict(X_test)\n",
    "    acc = accuracy_score(y_test, y_pred)\n",
    "    precision = precision_score(y_test, y_pred)\n",
    "    recall = recall_score(y_test, y_pred)\n",
    "    print(f\"({clf.__class__.__name__}) acc = {acc:.2f}, precision = {precision:.2f}, recall = {recall:.2f}\")"
   ]
  },
  {
   "cell_type": "raw",
   "id": "455db8fe",
   "metadata": {},
   "source": [
    "NotFittedError: This LogisticRegression instance is not fitted yet. Call 'fit' with appropriate arguments before using this estimator."
   ]
  },
  {
   "cell_type": "markdown",
   "id": "46ccf9b3",
   "metadata": {},
   "source": [
    "**N.B.** So, note this:\n",
    "> Fitting a voting classifier won't automatically fit the models it includes inside it."
   ]
  },
  {
   "cell_type": "raw",
   "id": "572426a4",
   "metadata": {},
   "source": [
    "voting_clf.fit(X_train, y_train)\n",
    "for clf in (log_clf, svm_clf, rnd_clf, voting_clf):\n",
    "    clf.fit(X_train, y_train)\n",
    "    y_pred = clf.predict(X_test)\n",
    "    acc = accuracy_score(y_test, y_pred)\n",
    "    precision = precision_score(y_test, y_pred)\n",
    "    recall = recall_score(y_test, y_pred)\n",
    "    print(f\"({clf.__class__.__name__}) acc = {acc:.2f}, precision = {precision:.2f}, recall = {recall:.2f}\")"
   ]
  },
  {
   "cell_type": "raw",
   "id": "fdda44e1",
   "metadata": {},
   "source": [
    "ValueError: Target is multiclass but average='binary'. Please choose another average setting, one of [None, 'micro', 'macro', 'weighted']."
   ]
  },
  {
   "cell_type": "code",
   "execution_count": 29,
   "id": "c76c02d5",
   "metadata": {},
   "outputs": [
    {
     "name": "stdout",
     "output_type": "stream",
     "text": [
      "(LogisticRegression)\n",
      "acc = 0.25, precision = 0.25, recall = 0.25\n",
      "\n",
      "(SVC)\n",
      "acc = 0.25, precision = 0.25, recall = 0.25\n",
      "\n",
      "(RandomForestClassifier)\n",
      "acc = 0.75, precision = 0.75, recall = 0.75\n",
      "\n",
      "(VotingClassifier)\n",
      "acc = 0.50, precision = 0.50, recall = 0.50\n",
      "\n"
     ]
    }
   ],
   "source": [
    "voting_clf.fit(X_train, y_train)\n",
    "for clf in (log_clf, svm_clf, rnd_clf, voting_clf):\n",
    "    clf.fit(X_train, y_train)\n",
    "    y_pred = clf.predict(X_test)\n",
    "    acc = accuracy_score(y_test, y_pred)\n",
    "    precision = precision_score(y_test, y_pred, average=\"micro\")\n",
    "    recall = recall_score(y_test, y_pred, average=\"micro\")    \n",
    "    print(f\"({clf.__class__.__name__})\\nacc = {acc:.2f}, precision = {precision:.2f}, recall = {recall:.2f}\\n\")"
   ]
  },
  {
   "cell_type": "code",
   "execution_count": 13,
   "id": "23ccf9a7",
   "metadata": {
    "scrolled": true
   },
   "outputs": [
    {
     "name": "stdout",
     "output_type": "stream",
     "text": [
      "X_test.reshape(-1) = [8 2 9 6]\n",
      "y_test = [1 3 2 1]\n",
      "\n",
      "(LogisticRegression)\n",
      "y_pred = [3 0 2 0]\n",
      "\n",
      "(SVC)\n",
      "y_pred = [2 0 2 0]\n",
      "\n",
      "(RandomForestClassifier)\n",
      "y_pred = [1 3 2 0]\n",
      "\n",
      "(VotingClassifier)\n",
      "y_pred = [1 0 2 0]\n"
     ]
    }
   ],
   "source": [
    "print(f\"X_test.reshape(-1) = {X_test.reshape(-1)}\")\n",
    "print(f\"y_test = {y_test}\")\n",
    "for clf in (log_clf, svm_clf, rnd_clf, voting_clf):\n",
    "    y_pred = clf.predict(X_test)\n",
    "    print(f\"\\n({clf.__class__.__name__})\")\n",
    "    print(f\"y_pred = {y_pred}\")"
   ]
  },
  {
   "cell_type": "markdown",
   "id": "cfe2b631",
   "metadata": {},
   "source": [
    "## Second Dataset, Same Models\n",
    "Let's standardize the features and then just apply the same model to see if things will get better."
   ]
  },
  {
   "cell_type": "code",
   "execution_count": 14,
   "id": "44c3c510",
   "metadata": {},
   "outputs": [
    {
     "data": {
      "text/plain": [
       "array([[ 1],\n",
       "       [ 3],\n",
       "       [ 7],\n",
       "       [12],\n",
       "       [ 5],\n",
       "       [10],\n",
       "       [11],\n",
       "       [ 4]])"
      ]
     },
     "execution_count": 14,
     "metadata": {},
     "output_type": "execute_result"
    }
   ],
   "source": [
    "X_train"
   ]
  },
  {
   "cell_type": "code",
   "execution_count": 15,
   "id": "28e95bf1",
   "metadata": {},
   "outputs": [
    {
     "data": {
      "text/plain": [
       "array([[8],\n",
       "       [2],\n",
       "       [9],\n",
       "       [6]])"
      ]
     },
     "execution_count": 15,
     "metadata": {},
     "output_type": "execute_result"
    }
   ],
   "source": [
    "X_test"
   ]
  },
  {
   "cell_type": "code",
   "execution_count": 16,
   "id": "e74ca3e4",
   "metadata": {},
   "outputs": [
    {
     "data": {
      "text/plain": [
       "array([[0.08333333],\n",
       "       [0.25      ],\n",
       "       [0.58333333],\n",
       "       [1.        ],\n",
       "       [0.41666667],\n",
       "       [0.83333333],\n",
       "       [0.91666667],\n",
       "       [0.33333333]])"
      ]
     },
     "execution_count": 16,
     "metadata": {},
     "output_type": "execute_result"
    }
   ],
   "source": [
    "X_train_stand = X_train / DEC\n",
    "X_test_stand = X_test / DEC\n",
    "X_train_stand"
   ]
  },
  {
   "cell_type": "code",
   "execution_count": 28,
   "id": "302ce2e5",
   "metadata": {},
   "outputs": [
    {
     "name": "stdout",
     "output_type": "stream",
     "text": [
      "(LogisticRegression)\n",
      "acc = 0.00, precision = 0.00, recall = 0.00\n",
      "\n",
      "(SVC)\n",
      "acc = 0.25, precision = 0.25, recall = 0.25\n",
      "\n",
      "(RandomForestClassifier)\n",
      "acc = 0.75, precision = 0.75, recall = 0.75\n",
      "\n",
      "(VotingClassifier)\n",
      "acc = 0.25, precision = 0.25, recall = 0.25\n",
      "\n"
     ]
    }
   ],
   "source": [
    "for clf in (log_clf, svm_clf, rnd_clf, voting_clf):\n",
    "    clf.fit(X_train_stand, y_train)\n",
    "    y_pred = clf.predict(X_test_stand)\n",
    "    acc = accuracy_score(y_test, y_pred)\n",
    "    precision = precision_score(y_test, y_pred, average=\"micro\")\n",
    "    recall = recall_score(y_test, y_pred, average=\"micro\")\n",
    "    print(f\"({clf.__class__.__name__})\\nacc = {acc:.2f}, precision = {precision:.2f}, recall = {recall:.2f}\\n\")"
   ]
  },
  {
   "cell_type": "markdown",
   "id": "aaf3e84e",
   "metadata": {},
   "source": [
    "> The situation after standardization is **not getting better**."
   ]
  },
  {
   "cell_type": "markdown",
   "id": "6e3f689a",
   "metadata": {},
   "source": [
    "**(?)** How come `acc, precision, recall` all have the same value for each classifier? Did you do it wrong or sth?"
   ]
  },
  {
   "cell_type": "markdown",
   "id": "de3be8ac",
   "metadata": {},
   "source": [
    "## Third Dataset, Same Models\n",
    "Use sine and cosine to try to make the points more separable. This is actually more like increasing the number of features to increase the possibility to separate the data points geometrically!"
   ]
  },
  {
   "cell_type": "code",
   "execution_count": 18,
   "id": "e0eeb17b",
   "metadata": {},
   "outputs": [],
   "source": [
    "def sinusoid(X_batch):\n",
    "    \"\"\"\n",
    "    args\n",
    "        theta, float\n",
    "            DEC gives 2pi and JAN gives 2pi / 12\n",
    "    \"\"\"\n",
    "    theta = 2 * np.pi * (X_batch / DEC)\n",
    "    return np.c_[np.cos(theta), np.sin(theta)]"
   ]
  },
  {
   "cell_type": "code",
   "execution_count": 19,
   "id": "c5f61340",
   "metadata": {},
   "outputs": [
    {
     "data": {
      "text/plain": [
       "array([[ 1],\n",
       "       [ 3],\n",
       "       [ 7],\n",
       "       [12],\n",
       "       [ 5],\n",
       "       [10],\n",
       "       [11],\n",
       "       [ 4]])"
      ]
     },
     "execution_count": 19,
     "metadata": {},
     "output_type": "execute_result"
    }
   ],
   "source": [
    "X_train"
   ]
  },
  {
   "cell_type": "code",
   "execution_count": 20,
   "id": "043672fa",
   "metadata": {},
   "outputs": [
    {
     "data": {
      "text/plain": [
       "array([[ 8.66025404e-01,  5.00000000e-01],\n",
       "       [ 6.12323400e-17,  1.00000000e+00],\n",
       "       [-8.66025404e-01, -5.00000000e-01],\n",
       "       [ 1.00000000e+00, -2.44929360e-16],\n",
       "       [-8.66025404e-01,  5.00000000e-01],\n",
       "       [ 5.00000000e-01, -8.66025404e-01],\n",
       "       [ 8.66025404e-01, -5.00000000e-01],\n",
       "       [-5.00000000e-01,  8.66025404e-01]])"
      ]
     },
     "execution_count": 20,
     "metadata": {},
     "output_type": "execute_result"
    }
   ],
   "source": [
    "X_train_sinusoid = sinusoid(X_train)\n",
    "X_train_sinusoid"
   ]
  },
  {
   "cell_type": "code",
   "execution_count": 21,
   "id": "590765d0",
   "metadata": {},
   "outputs": [],
   "source": [
    "import matplotlib.pyplot as plt"
   ]
  },
  {
   "cell_type": "raw",
   "id": "4c138a83",
   "metadata": {},
   "source": [
    "plt.rcParams.keys()"
   ]
  },
  {
   "cell_type": "code",
   "execution_count": 22,
   "id": "6e6381c0",
   "metadata": {},
   "outputs": [
    {
     "data": {
      "text/plain": [
       "['axes.edgecolor',\n",
       " 'axes.facecolor',\n",
       " 'axes.labelcolor',\n",
       " 'axes.titlecolor',\n",
       " 'boxplot.boxprops.color',\n",
       " 'boxplot.capprops.color',\n",
       " 'boxplot.flierprops.color',\n",
       " 'boxplot.flierprops.markeredgecolor',\n",
       " 'boxplot.flierprops.markerfacecolor',\n",
       " 'boxplot.meanprops.color',\n",
       " 'boxplot.meanprops.markeredgecolor',\n",
       " 'boxplot.meanprops.markerfacecolor',\n",
       " 'boxplot.medianprops.color',\n",
       " 'boxplot.whiskerprops.color',\n",
       " 'figure.edgecolor',\n",
       " 'figure.facecolor',\n",
       " 'grid.color',\n",
       " 'hatch.color',\n",
       " 'legend.edgecolor',\n",
       " 'legend.facecolor',\n",
       " 'lines.color',\n",
       " 'lines.markeredgecolor',\n",
       " 'lines.markerfacecolor',\n",
       " 'mpl_toolkits.legacy_colorbar',\n",
       " 'patch.edgecolor',\n",
       " 'patch.facecolor',\n",
       " 'patch.force_edgecolor',\n",
       " 'pcolor.shading',\n",
       " 'pdf.inheritcolor',\n",
       " 'savefig.edgecolor',\n",
       " 'savefig.facecolor',\n",
       " 'scatter.edgecolors',\n",
       " 'text.color',\n",
       " 'xtick.color',\n",
       " 'ytick.color']"
      ]
     },
     "execution_count": 22,
     "metadata": {},
     "output_type": "execute_result"
    }
   ],
   "source": [
    "[s for s in plt.rcParams.keys() if \"color\" in s]"
   ]
  },
  {
   "cell_type": "code",
   "execution_count": 23,
   "id": "a8801c7c",
   "metadata": {},
   "outputs": [],
   "source": [
    "DARK_READER = True\n",
    "if DARK_READER:\n",
    "    plt.rcParams.update({\n",
    "        \"lines.color\": \"white\",\n",
    "        \"patch.edgecolor\": \"white\",\n",
    "        \"text.color\": \"black\",\n",
    "        \"axes.facecolor\": \"black\",\n",
    "        \"axes.edgecolor\": \"lightgray\",\n",
    "        \"axes.labelcolor\": \"white\",\n",
    "        \"xtick.color\": \"white\",\n",
    "        \"ytick.color\": \"white\",\n",
    "        \"grid.color\": \"lightgray\",\n",
    "        \"figure.facecolor\": \"black\",\n",
    "        \"figure.edgecolor\": \"black\",\n",
    "        \"savefig.facecolor\": \"black\",\n",
    "        \"savefig.edgecolor\": \"black\",\n",
    "    })"
   ]
  },
  {
   "cell_type": "code",
   "execution_count": 27,
   "id": "6df55578",
   "metadata": {
    "scrolled": true
   },
   "outputs": [
    {
     "data": {
      "image/png": "[encoded data removed]",
      "text/plain": [
       "<Figure size 432x288 with 1 Axes>"
      ]
     },
     "metadata": {},
     "output_type": "display_data"
    }
   ],
   "source": [
    "plt.plot(X_train_sinusoid[:, 0], X_train_sinusoid[:, 1], \"ro\");\n",
    "t = np.linspace(0, 2*np.pi, 100)\n",
    "plt.plot(np.cos(t), np.sin(t))\n",
    "plt.gca().set_aspect('equal', adjustable='box')\n",
    "plt.grid(True);"
   ]
  },
  {
   "cell_type": "code",
   "execution_count": 25,
   "id": "953f4fc4",
   "metadata": {},
   "outputs": [
    {
     "data": {
      "text/plain": [
       "array([[-5.00000000e-01, -8.66025404e-01],\n",
       "       [ 5.00000000e-01,  8.66025404e-01],\n",
       "       [-1.83697020e-16, -1.00000000e+00],\n",
       "       [-1.00000000e+00,  1.22464680e-16]])"
      ]
     },
     "execution_count": 25,
     "metadata": {},
     "output_type": "execute_result"
    }
   ],
   "source": [
    "X_test_sinusoid = sinusoid(X_test)\n",
    "X_test_sinusoid"
   ]
  },
  {
   "cell_type": "code",
   "execution_count": 26,
   "id": "550fabb5",
   "metadata": {},
   "outputs": [
    {
     "name": "stdout",
     "output_type": "stream",
     "text": [
      "(LogisticRegression)\n",
      "acc = 0.25, precision = 0.25, recall = 0.25\n",
      "\n",
      "(SVC)\n",
      "acc = 0.50, precision = 0.50, recall = 0.50\n",
      "\n",
      "(RandomForestClassifier)\n",
      "acc = 0.75, precision = 0.75, recall = 0.75\n",
      "\n",
      "(VotingClassifier)\n",
      "acc = 0.25, precision = 0.25, recall = 0.25\n",
      "\n"
     ]
    }
   ],
   "source": [
    "for clf in (log_clf, svm_clf, rnd_clf, voting_clf):\n",
    "    clf.fit(X_train_sinusoid, y_train)\n",
    "    y_pred = clf.predict(X_test_sinusoid)\n",
    "    acc = accuracy_score(y_test, y_pred)\n",
    "    precision = precision_score(y_test, y_pred, average=\"micro\")\n",
    "    recall = recall_score(y_test, y_pred, average=\"micro\")\n",
    "    print(f\"({clf.__class__.__name__})\\nacc = {acc:.2f}, precision = {precision:.2f}, recall = {recall:.2f}\\n\")"
   ]
  },
  {
   "cell_type": "markdown",
   "id": "56d78d89",
   "metadata": {},
   "source": [
    "What? Even worse than the naive and worst dataset from the beginning?\n",
    "\n",
    "## Maybe...\n",
    "There are just too little data for this to make sense. Too little data to do ML, maybe.\n",
    "\n",
    "This is actually funny: I thought this was going to be the easiest among the notebooks I was going to create, the models' performance all really good, etc. etc. But quite the contrary.\n",
    "\n",
    "We have only `8` training instances and would like to predict `4` test instances, doing a multiclass classification. I think of a stupid test which I saw a few years ago:\n",
    "\n",
    "> Given a sequence `2, 3, 5`, please guess what numbers will follow.\n",
    "\n",
    "This is not a good test because there can be many, many interesting answers and might not have **the right answer**. For example, it could be the sequence of primes, or the subsequence of fibonacci numbers starting from `2`. So I was so stupid as not to have designed this notebook for testing whether or not the method of spreading the cyclic data on a circle would be effective. In some sense, data science needs a sufficient amount of data to extract some kind of pattern that human might judge as useful to them.\n"
   ]
  },
  {
   "cell_type": "code",
   "execution_count": null,
   "id": "f0c885ba",
   "metadata": {},
   "outputs": [],
   "source": []
  },
  {
   "cell_type": "code",
   "execution_count": null,
   "id": "3c87b829",
   "metadata": {},
   "outputs": [],
   "source": []
  },
  {
   "cell_type": "code",
   "execution_count": null,
   "id": "5298c9d5",
   "metadata": {},
   "outputs": [],
   "source": []
  },
  {
   "cell_type": "code",
   "execution_count": null,
   "id": "38fd8040",
   "metadata": {},
   "outputs": [],
   "source": []
  }
 ],
 "metadata": {
  "kernelspec": {
   "display_name": "Python 3",
   "language": "python",
   "name": "python3"
  },
  "language_info": {
   "codemirror_mode": {
    "name": "ipython",
    "version": 3
   },
   "file_extension": ".py",
   "mimetype": "text/x-python",
   "name": "python",
   "nbconvert_exporter": "python",
   "pygments_lexer": "ipython3",
   "version": "3.7.10"
  }
 },
 "nbformat": 4,
 "nbformat_minor": 5
}
