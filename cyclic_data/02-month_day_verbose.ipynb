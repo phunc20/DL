{
 "cells": [
  {
   "cell_type": "code",
   "execution_count": 1,
   "id": "7bf15564",
   "metadata": {},
   "outputs": [],
   "source": [
    "import numpy as np\n",
    "import matplotlib as mpl\n",
    "import matplotlib.pyplot as plt"
   ]
  },
  {
   "cell_type": "code",
   "execution_count": 2,
   "id": "f4cb03a7",
   "metadata": {},
   "outputs": [],
   "source": [
    "DARK_READER = True\n",
    "if DARK_READER:\n",
    "    plt.rcParams.update({\n",
    "        \"lines.color\": \"white\",\n",
    "        \"patch.edgecolor\": \"white\",\n",
    "        \"text.color\": \"black\",\n",
    "        \"axes.facecolor\": \"black\",\n",
    "        \"axes.edgecolor\": \"lightgray\",\n",
    "        \"axes.labelcolor\": \"white\",\n",
    "        \"xtick.color\": \"white\",\n",
    "        \"ytick.color\": \"white\",\n",
    "        \"grid.color\": \"lightgray\",\n",
    "        \"figure.facecolor\": \"black\",\n",
    "        \"figure.edgecolor\": \"black\",\n",
    "        \"savefig.facecolor\": \"black\",\n",
    "        \"savefig.edgecolor\": \"black\",\n",
    "    })"
   ]
  },
  {
   "cell_type": "markdown",
   "id": "dceae51e",
   "metadata": {},
   "source": [
    "# Season Dataset (Version 2)\n",
    "In this version, we will have the `month` feature like in version 1. In addition to that, we have added a new `day` feature.\n",
    "It is still a model for the seasons in Northern semisphere, and\n",
    "we set the following rule:\n",
    "\n",
    "- Spring: 1st March to end May (inclusive)\n",
    "- Summer: 1st June to end August\n",
    "- Autumn: 1st September to end November\n",
    "- Winter: 1st December to end February"
   ]
  },
  {
   "cell_type": "code",
   "execution_count": 3,
   "id": "5cb88c56",
   "metadata": {},
   "outputs": [
    {
     "data": {
      "text/plain": [
       "array([False,  True])"
      ]
     },
     "execution_count": 3,
     "metadata": {},
     "output_type": "execute_result"
    }
   ],
   "source": [
    "np.array([3, 31]) > np.array([7, 1])"
   ]
  },
  {
   "cell_type": "markdown",
   "id": "f78c024f",
   "metadata": {},
   "source": [
    "We need to first construct a dataset. For convenience, we would like that arrays can be compared/ordered. Ndarrays cannot."
   ]
  },
  {
   "cell_type": "code",
   "execution_count": 4,
   "id": "afbfa8ff",
   "metadata": {},
   "outputs": [
    {
     "data": {
      "text/plain": [
       "False"
      ]
     },
     "execution_count": 4,
     "metadata": {},
     "output_type": "execute_result"
    }
   ],
   "source": [
    "[3, 31] > [7, 1]"
   ]
  },
  {
   "cell_type": "markdown",
   "id": "2816caf9",
   "metadata": {},
   "source": [
    "Let's make a list named `L_month_day` as follows:\n",
    "\n",
    "```python\n",
    "print(L_month_day)\n",
    "\n",
    "[[1,1],\n",
    " [1,2],\n",
    " ...,\n",
    " [1,31],\n",
    " [2,1],\n",
    " ...,\n",
    " [2,28],\n",
    " ...,\n",
    " [12,31],\n",
    "]\n",
    "```"
   ]
  },
  {
   "cell_type": "code",
   "execution_count": 5,
   "id": "df83fff4",
   "metadata": {},
   "outputs": [],
   "source": [
    "JAN = 1\n",
    "FEB = 2\n",
    "MAR = 3\n",
    "APR = 4\n",
    "MAY = 5\n",
    "JUN = 6\n",
    "JUL = 7\n",
    "AUG = 8\n",
    "SEP = 9\n",
    "OCT = 10\n",
    "NOV = 11\n",
    "DEC = 12\n",
    "\n",
    "SPRING = 0\n",
    "SUMMER = 1\n",
    "AUTUMN = 2\n",
    "WINTER = 3\n",
    "\n",
    "season_to_id = {\n",
    "    \"spring\": 0,\n",
    "    \"summer\": 1,\n",
    "    \"autumn\": 2,\n",
    "    \"winter\": 3,\n",
    "}\n",
    "\n",
    "SEED = 20\n"
   ]
  },
  {
   "cell_type": "raw",
   "id": "0b78362c",
   "metadata": {},
   "source": [
    "D_month_BigMonth = {\n",
    "    JAN: 1,\n",
    "    FEB: -1,\n",
    "    MAR: 1,\n",
    "    APR: 0,\n",
    "    MAY: 1,\n",
    "    JUN: 0,\n",
    "    JUL: 1,\n",
    "    AUG: 1, \n",
    "    SEP: 0,\n",
    "    OCT: 1,\n",
    "    NOV: 0,\n",
    "    DEC: 1,\n",
    "}\n",
    "\n",
    "# Verify if this gives 365 days in one year.\n",
    "somme = 0\n",
    "for indicator in D_month_BigMonth.values():\n",
    "    if indicator == 1:\n",
    "        somme += 31\n",
    "    elif indicator == 0:\n",
    "        somme += 30\n",
    "    elif indicator == -1:\n",
    "        somme += 28\n",
    "somme"
   ]
  },
  {
   "cell_type": "raw",
   "id": "3d5a880e",
   "metadata": {},
   "source": [
    "def n_days_in(month):\n",
    "    indicator = D_month_BigMonth[month]\n",
    "    if indicator == 1:\n",
    "        return 31\n",
    "    elif indicator == 0:\n",
    "        return 30\n",
    "    elif indicator == -1:\n",
    "        return 28"
   ]
  },
  {
   "cell_type": "markdown",
   "id": "cc35de13",
   "metadata": {},
   "source": [
    "I don't know what happened to me last week, but the above way to access the number of days in some month is less efficient than simply using a dictionary."
   ]
  },
  {
   "cell_type": "code",
   "execution_count": 6,
   "id": "e6bab112",
   "metadata": {},
   "outputs": [],
   "source": [
    "ndays_big = 31\n",
    "ndays_small = 30\n",
    "ndays_feb = 28\n",
    "\n",
    "D_month_ndays = {\n",
    "    JAN: ndays_big,\n",
    "    FEB: ndays_feb,\n",
    "    MAR: ndays_big,\n",
    "    APR: ndays_small,\n",
    "    MAY: ndays_big,\n",
    "    JUN: ndays_small,\n",
    "    JUL: ndays_big,\n",
    "    AUG: ndays_big, \n",
    "    SEP: ndays_small,\n",
    "    OCT: ndays_big,\n",
    "    NOV: ndays_small,\n",
    "    DEC: ndays_big,\n",
    "}"
   ]
  },
  {
   "cell_type": "code",
   "execution_count": 7,
   "id": "02873b19",
   "metadata": {},
   "outputs": [
    {
     "data": {
      "text/plain": [
       "365"
      ]
     },
     "execution_count": 7,
     "metadata": {},
     "output_type": "execute_result"
    }
   ],
   "source": [
    "# Similarly, we verify if there are 365 days in a year\n",
    "sum(D_month_ndays.values())"
   ]
  },
  {
   "cell_type": "raw",
   "id": "61530320",
   "metadata": {},
   "source": [
    "L_month_day = [[0, 0] for _ in range(365)]\n",
    "len(L_month_day), len(L_month_day[-1])"
   ]
  },
  {
   "cell_type": "code",
   "execution_count": 8,
   "id": "a5fb6a36",
   "metadata": {},
   "outputs": [],
   "source": [
    "L_month_day = []\n",
    "for month in (JAN, FEB, MAR, APR, MAY, JUN, JUL, AUG, SEP, OCT, NOV, DEC,):\n",
    "    #L = [[month, i] for i in range(1, n_days_in(month)+1)]\n",
    "    L = [[month, i] for i in range(1, D_month_ndays[month]+1)]\n",
    "    L_month_day.extend(L)"
   ]
  },
  {
   "cell_type": "code",
   "execution_count": 9,
   "id": "ad92093d",
   "metadata": {},
   "outputs": [
    {
     "data": {
      "text/plain": [
       "[[1, 1],\n",
       " [1, 2],\n",
       " [1, 3],\n",
       " [1, 4],\n",
       " [1, 5],\n",
       " [1, 6],\n",
       " [1, 7],\n",
       " [1, 8],\n",
       " [1, 9],\n",
       " [1, 10],\n",
       " [1, 11],\n",
       " [1, 12],\n",
       " [1, 13],\n",
       " [1, 14],\n",
       " [1, 15],\n",
       " [1, 16],\n",
       " [1, 17],\n",
       " [1, 18],\n",
       " [1, 19],\n",
       " [1, 20],\n",
       " [1, 21],\n",
       " [1, 22],\n",
       " [1, 23],\n",
       " [1, 24],\n",
       " [1, 25],\n",
       " [1, 26],\n",
       " [1, 27],\n",
       " [1, 28],\n",
       " [1, 29],\n",
       " [1, 30],\n",
       " [1, 31]]"
      ]
     },
     "execution_count": 9,
     "metadata": {},
     "output_type": "execute_result"
    }
   ],
   "source": [
    "#i = np.random.randint(JAN, DEC+1)\n",
    "#L_month_day[-31:]\n",
    "L_month_day[:31]"
   ]
  },
  {
   "cell_type": "code",
   "execution_count": 10,
   "id": "c6220fe3",
   "metadata": {},
   "outputs": [
    {
     "data": {
      "text/plain": [
       "365"
      ]
     },
     "execution_count": 10,
     "metadata": {},
     "output_type": "execute_result"
    }
   ],
   "source": [
    "len(L_month_day)"
   ]
  },
  {
   "cell_type": "code",
   "execution_count": 11,
   "id": "c02ad415",
   "metadata": {
    "scrolled": true
   },
   "outputs": [
    {
     "data": {
      "text/plain": [
       "[3, 3, 0, 0, 0, 1, 1, 1, 2, 2, 2, 3]"
      ]
     },
     "execution_count": 11,
     "metadata": {},
     "output_type": "execute_result"
    }
   ],
   "source": [
    "y_rule1 = []\n",
    "for month, _ in L_month_day:\n",
    "    if MAR <= month <= MAY:\n",
    "        y_rule1.append(SPRING)\n",
    "    elif JUN <= month <= AUG:\n",
    "        y_rule1.append(SUMMER)\n",
    "    elif SEP <= month <= NOV:\n",
    "        y_rule1.append(AUTUMN)\n",
    "    else:\n",
    "        y_rule1.append(WINTER)\n",
    "y_rule1[0:-1:31]"
   ]
  },
  {
   "cell_type": "code",
   "execution_count": 12,
   "id": "dfaeee0d",
   "metadata": {},
   "outputs": [
    {
     "data": {
      "text/plain": [
       "(dtype('int64'), (365, 2))"
      ]
     },
     "execution_count": 12,
     "metadata": {},
     "output_type": "execute_result"
    }
   ],
   "source": [
    "X = np.array(L_month_day)\n",
    "X.dtype, X.shape"
   ]
  },
  {
   "cell_type": "markdown",
   "id": "b535c16f",
   "metadata": {},
   "source": [
    "## How to Split Train/Test sets?"
   ]
  },
  {
   "cell_type": "code",
   "execution_count": 13,
   "id": "89174e8a",
   "metadata": {},
   "outputs": [],
   "source": [
    "from sklearn.model_selection import StratifiedShuffleSplit"
   ]
  },
  {
   "cell_type": "markdown",
   "id": "116966ca",
   "metadata": {},
   "source": [
    "**(?)** What is the `n_splits` for?<br>"
   ]
  },
  {
   "cell_type": "raw",
   "id": "c5baf10b",
   "metadata": {},
   "source": [
    "help(StratifiedShuffleSplit)"
   ]
  },
  {
   "cell_type": "code",
   "execution_count": 14,
   "id": "0191629d",
   "metadata": {},
   "outputs": [],
   "source": [
    "y_rule1 = np.array(y_rule1)"
   ]
  },
  {
   "cell_type": "code",
   "execution_count": 15,
   "id": "c8cb2265",
   "metadata": {},
   "outputs": [],
   "source": [
    "split = StratifiedShuffleSplit(n_splits=10, test_size=0.2, random_state=SEED)\n",
    "n_iterations = 0\n",
    "for train_indices, test_indices in split.split(X, X[:, 0]):\n",
    "    n_iterations += 1\n",
    "    X_train_raw = X[train_indices, :]\n",
    "    X_test_raw = X[test_indices, :]\n",
    "    y_rule1_train = y_rule1[train_indices]\n",
    "    y_rule1_test = y_rule1[test_indices]"
   ]
  },
  {
   "cell_type": "markdown",
   "id": "75bf2bd1",
   "metadata": {},
   "source": [
    "**(?)** Did you notice that the syntax for the `split.split` above is somewhat diff from what we are used to?"
   ]
  },
  {
   "cell_type": "raw",
   "id": "b5346a85",
   "metadata": {},
   "source": [
    "split = StratifiedShuffleSplit(n_splits=3, test_size=0.2, random_state=SEED)\n",
    "train_indices, test_indices = split.split(X, X[:, 0])\n",
    "print(f\"type(test_indices) = {type(test_indices)}\")\n",
    "test_indices"
   ]
  },
  {
   "cell_type": "raw",
   "id": "5c22b981",
   "metadata": {},
   "source": [
    "ValueError: too many values to unpack (expected 2)"
   ]
  },
  {
   "cell_type": "code",
   "execution_count": 16,
   "id": "90a500b7",
   "metadata": {},
   "outputs": [
    {
     "data": {
      "text/plain": [
       "10"
      ]
     },
     "execution_count": 16,
     "metadata": {},
     "output_type": "execute_result"
    }
   ],
   "source": [
    "n_iterations"
   ]
  },
  {
   "cell_type": "code",
   "execution_count": null,
   "id": "a8309d4a",
   "metadata": {},
   "outputs": [],
   "source": [
    "np.array_equal(X_train_raw, X[train_indices, :])"
   ]
  },
  {
   "cell_type": "code",
   "execution_count": null,
   "id": "35cb03fe",
   "metadata": {},
   "outputs": [],
   "source": [
    "test_indices"
   ]
  },
  {
   "cell_type": "code",
   "execution_count": null,
   "id": "7bf015e8",
   "metadata": {},
   "outputs": [],
   "source": [
    "test_indices.shape"
   ]
  },
  {
   "cell_type": "code",
   "execution_count": null,
   "id": "1e276b78",
   "metadata": {},
   "outputs": [],
   "source": [
    "int(365 * 0.2)"
   ]
  },
  {
   "cell_type": "code",
   "execution_count": null,
   "id": "0f4d7c4b",
   "metadata": {},
   "outputs": [],
   "source": [
    "X_train_raw.shape, X_test_raw.shape"
   ]
  },
  {
   "cell_type": "code",
   "execution_count": null,
   "id": "175d532c",
   "metadata": {},
   "outputs": [],
   "source": [
    "import pandas as pd"
   ]
  },
  {
   "cell_type": "code",
   "execution_count": null,
   "id": "682c0246",
   "metadata": {},
   "outputs": [],
   "source": [
    "df_X_test_raw = pd.DataFrame(X_test_raw, columns=[\"month\", \"day\",])\n",
    "df_X_test_raw"
   ]
  },
  {
   "cell_type": "code",
   "execution_count": null,
   "id": "847e7fd6",
   "metadata": {},
   "outputs": [],
   "source": [
    "df_X_test_raw[\"month\"].value_counts()"
   ]
  },
  {
   "cell_type": "code",
   "execution_count": null,
   "id": "a527a7a1",
   "metadata": {},
   "outputs": [],
   "source": [
    "df_X = pd.DataFrame(X, columns=[\"month\", \"day\"])\n",
    "df_X[\"month\"].value_counts()"
   ]
  },
  {
   "cell_type": "code",
   "execution_count": null,
   "id": "1623cb12",
   "metadata": {},
   "outputs": [],
   "source": [
    "df_Xy_test_raw = pd.DataFrame(np.c_[X_test_raw, y_rule1_test], columns=[\"month\", \"day\", \"season_id\"])\n",
    "df_Xy_test_raw"
   ]
  },
  {
   "cell_type": "code",
   "execution_count": null,
   "id": "95e7afc6",
   "metadata": {},
   "outputs": [],
   "source": []
  },
  {
   "cell_type": "markdown",
   "id": "f3ed566b",
   "metadata": {},
   "source": [
    "## First Dataset, First Model\n",
    "Just take `X_train_raw` and `X_test_raw` to train a few ML models and see what that gives."
   ]
  },
  {
   "cell_type": "code",
   "execution_count": null,
   "id": "120532d4",
   "metadata": {},
   "outputs": [],
   "source": [
    "from sklearn.linear_model import LogisticRegression\n",
    "from sklearn.tree import DecisionTreeClassifier\n",
    "from sklearn.svm import SVC\n",
    "from sklearn.ensemble import RandomForestClassifier\n",
    "\n",
    "from sklearn.metrics import accuracy_score, precision_score, recall_score"
   ]
  },
  {
   "cell_type": "code",
   "execution_count": null,
   "id": "19b73eeb",
   "metadata": {},
   "outputs": [],
   "source": [
    "log_clf = LogisticRegression()\n",
    "tree_clf = DecisionTreeClassifier()\n",
    "#svm_clf = SVC(probability=True)\n",
    "svm_clf = SVC()\n",
    "#rnd_clf = RandomForestClassifier()\n",
    "T_classifiers = (log_clf, tree_clf, svm_clf)"
   ]
  },
  {
   "cell_type": "code",
   "execution_count": null,
   "id": "c76c02d5",
   "metadata": {},
   "outputs": [],
   "source": [
    "for clf in T_classifiers:\n",
    "    clf.fit(X_train_raw, y_rule1_train)\n",
    "    y_pred = clf.predict(X_test_raw)\n",
    "    \n",
    "    acc = accuracy_score(y_rule1_test, y_pred)\n",
    "\n",
    "    ## ValueError: Target is multiclass but average='binary'. Please choose another average setting, one of [None, 'micro', 'macro', 'weighted'].\n",
    "    #precision = precision_score(y_rule1_test, y_pred)\n",
    "    ## TypeError: unsupported format string passed to numpy.ndarray.__format__\n",
    "    #precision = precision_score(y_rule1_test, y_pred, average=None)\n",
    "    precision = precision_score(y_rule1_test, y_pred, average=\"weighted\")\n",
    "\n",
    "    #recall = recall_score(y_rule1_test, y_pred)\n",
    "    #recall = recall_score(y_rule1_test, y_pred, average=None)\n",
    "    recall = recall_score(y_rule1_test, y_pred, average=\"weighted\")\n",
    "\n",
    "    print(f\"({clf.__class__.__name__})\\nacc = {acc:.2f}, precision = {precision:.2f}, recall = {recall:.2f}\\n\")\n"
   ]
  },
  {
   "cell_type": "code",
   "execution_count": null,
   "id": "ece67b4b",
   "metadata": {
    "scrolled": true
   },
   "outputs": [],
   "source": [
    "# What about performance on the training data?\n",
    "for clf in T_classifiers:\n",
    "    clf.fit(X_train_raw, y_rule1_train)\n",
    "    y_pred = clf.predict(X_train_raw)\n",
    "    acc = accuracy_score(y_rule1_train, y_pred)\n",
    "    precision = precision_score(y_rule1_train, y_pred, average=\"micro\")\n",
    "    recall = recall_score(y_rule1_train, y_pred, average=\"micro\")    \n",
    "    print(f\"({clf.__class__.__name__})\\nacc = {acc:.2f}, precision = {precision:.2f}, recall = {recall:.2f}\\n\")"
   ]
  },
  {
   "cell_type": "markdown",
   "id": "1d16ecc5",
   "metadata": {},
   "source": [
    "We see that\n",
    "\n",
    "- Random forest performances perfectly. So does decision tree.\n",
    "\n",
    "Maybe the task is too simple. Even without taking the cyclic nature into consideration, some of the classifiers\n",
    "can already reach near perfect performance.\n"
   ]
  },
  {
   "cell_type": "markdown",
   "id": "05f612f9",
   "metadata": {},
   "source": [
    "# Season Dataset (Version 3)\n",
    "In this version, we will have exactly the same features like in version 2.<br>\n",
    "Only that we set a diff rule to increase the difficulty:\n",
    "\n",
    "- Spring: 15th March to 14th June (inclusive)\n",
    "- Summer: 15th June to 14th September\n",
    "- Autumn: 15th September to 14th December\n",
    "- Winter: 15th December to 14th March\n",
    "\n",
    "**N.B.** Note that we just need to create a new label, `y_rule2`. No need to modify `X`."
   ]
  },
  {
   "cell_type": "code",
   "execution_count": null,
   "id": "38fd8040",
   "metadata": {},
   "outputs": [],
   "source": [
    "y_rule2 = []\n",
    "start = 15\n",
    "end = 14\n",
    "for month_day in L_month_day:\n",
    "    if [MAR,start] <= month_day <= [JUN,end]:\n",
    "        y_rule2.append(SPRING)\n",
    "    elif [JUN,start] <= month_day <= [SEP,end]:\n",
    "        y_rule2.append(SUMMER)\n",
    "    elif [SEP,start] <= month_day <= [DEC,end]:\n",
    "        y_rule2.append(AUTUMN)\n",
    "    else:\n",
    "        y_rule2.append(WINTER)\n",
    "\n",
    "y_rule2[0:-1:31]"
   ]
  },
  {
   "cell_type": "markdown",
   "id": "ce5c9ce2",
   "metadata": {},
   "source": [
    "### Let's verify the correctness"
   ]
  },
  {
   "cell_type": "code",
   "execution_count": null,
   "id": "ddca0336",
   "metadata": {},
   "outputs": [],
   "source": [
    "np.c_[L_month_day, y_rule2][30:-1]"
   ]
  },
  {
   "cell_type": "code",
   "execution_count": null,
   "id": "0becce3b",
   "metadata": {},
   "outputs": [],
   "source": [
    "np.c_[L_month_day, y_rule2][31:-1]"
   ]
  },
  {
   "cell_type": "code",
   "execution_count": null,
   "id": "24205e82",
   "metadata": {},
   "outputs": [],
   "source": [
    "y_rule2 = np.array(y_rule2)"
   ]
  },
  {
   "cell_type": "code",
   "execution_count": null,
   "id": "4e9ec218",
   "metadata": {},
   "outputs": [],
   "source": [
    "y_rule2_train = y_rule2[train_indices]\n",
    "y_rule2_test = y_rule2[test_indices]"
   ]
  },
  {
   "cell_type": "code",
   "execution_count": null,
   "id": "1259deeb",
   "metadata": {
    "scrolled": true
   },
   "outputs": [],
   "source": [
    "for clf in T_classifiers:\n",
    "    clf.fit(X_train_raw, y_rule2_train)\n",
    "    y_pred = clf.predict(X_test_raw)\n",
    "    acc = accuracy_score(y_rule2_test, y_pred)\n",
    "    precision = precision_score(y_rule2_test, y_pred, average=\"micro\")\n",
    "    recall = recall_score(y_rule2_test, y_pred, average=\"micro\")    \n",
    "    print(f\"({clf.__class__.__name__})\\nacc = {acc:.4f}, precision = {precision:.4f}, recall = {recall:.4f}\\n\")"
   ]
  },
  {
   "cell_type": "markdown",
   "id": "88261a7f",
   "metadata": {},
   "source": [
    "In this case, our <s>random forest</s> and decision tree classifies are no longer perfect (even though still perform with high accuracy)."
   ]
  },
  {
   "cell_type": "code",
   "execution_count": null,
   "id": "168b3519",
   "metadata": {},
   "outputs": [],
   "source": [
    "# On training set\n",
    "for clf in T_classifiers:\n",
    "    y_pred = clf.predict(X_train_raw)\n",
    "    acc = accuracy_score(y_rule2_train, y_pred)\n",
    "    precision = precision_score(y_rule2_train, y_pred, average=\"micro\")\n",
    "    recall = recall_score(y_rule2_train, y_pred, average=\"micro\")    \n",
    "    print(f\"({clf.__class__.__name__})\\nacc = {acc:.4f}, precision = {precision:.4f}, recall = {recall:.4f}\\n\")"
   ]
  },
  {
   "cell_type": "markdown",
   "id": "5661da40",
   "metadata": {},
   "source": [
    "Let's see whether incorporating the cyclic nature improves the situation."
   ]
  },
  {
   "cell_type": "markdown",
   "id": "c121d9eb",
   "metadata": {},
   "source": [
    "**(?)** It seems that `ageron` once said in his book that `svm_clf` and a few other classifiers cannot do multiclass classification. But if they really\n",
    "cannot, and that we have misused them here, why the metrics shown above are not low?<br>\n",
    "**(R)** If you read carefully Chapter3 on the same section of multiclass classification, `ageron` has explained that these classifiers are indeed only capable of doing binary classification; however, the reason why we can still use these classes in `sklearn` to do multiclass classification is that behind the scene `sklearn` has implemented for us OneVsAll or OneVsOne."
   ]
  },
  {
   "cell_type": "markdown",
   "id": "070c3bbc",
   "metadata": {},
   "source": [
    "## Cyclic Nature"
   ]
  },
  {
   "cell_type": "code",
   "execution_count": null,
   "id": "ee5d3e92",
   "metadata": {},
   "outputs": [],
   "source": [
    "!cat utils.py"
   ]
  },
  {
   "cell_type": "code",
   "execution_count": null,
   "id": "0234ba59",
   "metadata": {},
   "outputs": [],
   "source": [
    "from utils import *"
   ]
  },
  {
   "cell_type": "raw",
   "id": "852dda5b",
   "metadata": {},
   "source": [
    "help(np.c_)"
   ]
  },
  {
   "cell_type": "code",
   "execution_count": null,
   "id": "862968e7",
   "metadata": {},
   "outputs": [],
   "source": [
    "cyclicize_series(X[:, 0], max_=12, min_=0)"
   ]
  },
  {
   "cell_type": "code",
   "execution_count": null,
   "id": "655d3113",
   "metadata": {},
   "outputs": [],
   "source": [
    "X_cyclic = np.c_[\n",
    "    cyclicize_series(X[:, 0], max_=12, min_=0),\n",
    "    cyclicize_series(X[:, 1], max_=31, min_=0),\n",
    "]\n",
    "X_cyclic"
   ]
  },
  {
   "cell_type": "code",
   "execution_count": null,
   "id": "4e6764ea",
   "metadata": {},
   "outputs": [],
   "source": [
    "X_train_cyclic = X_cyclic[train_indices]\n",
    "X_test_cyclic = X_cyclic[test_indices]"
   ]
  },
  {
   "cell_type": "code",
   "execution_count": null,
   "id": "77f12323",
   "metadata": {},
   "outputs": [],
   "source": [
    "for clf in T_classifiers:\n",
    "    clf.fit(X_train_cyclic, y_rule2_train)\n",
    "    y_pred = clf.predict(X_test_cyclic)\n",
    "    acc = accuracy_score(y_rule2_test, y_pred)\n",
    "    precision = precision_score(y_rule2_test, y_pred, average=\"micro\")\n",
    "    recall = recall_score(y_rule2_test, y_pred, average=\"micro\")    \n",
    "    print(f\"({clf.__class__.__name__})\\nacc = {acc:.4f}, precision = {precision:.4f}, recall = {recall:.4f}\\n\")"
   ]
  },
  {
   "cell_type": "code",
   "execution_count": null,
   "id": "7ef1d3ee",
   "metadata": {
    "scrolled": true
   },
   "outputs": [],
   "source": [
    "# On training set\n",
    "for clf in T_classifiers:\n",
    "    y_pred = clf.predict(X_train_cyclic)\n",
    "    acc = accuracy_score(y_rule2_train, y_pred)\n",
    "    precision = precision_score(y_rule2_train, y_pred, average=\"micro\")\n",
    "    recall = recall_score(y_rule2_train, y_pred, average=\"micro\")    \n",
    "    print(f\"({clf.__class__.__name__})\\nacc = {acc:.4f}, precision = {precision:.4f}, recall = {recall:.4f}\\n\")"
   ]
  }
 ],
 "metadata": {
  "kernelspec": {
   "display_name": "Python 3",
   "language": "python",
   "name": "python3"
  },
  "language_info": {
   "codemirror_mode": {
    "name": "ipython",
    "version": 3
   },
   "file_extension": ".py",
   "mimetype": "text/x-python",
   "name": "python",
   "nbconvert_exporter": "python",
   "pygments_lexer": "ipython3",
   "version": "3.7.10"
  }
 },
 "nbformat": 4,
 "nbformat_minor": 5
}
