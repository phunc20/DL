{
 "cells": [
  {
   "cell_type": "code",
   "execution_count": 1,
   "id": "1ebc83bb",
   "metadata": {},
   "outputs": [],
   "source": [
    "import numpy as np\n",
    "import matplotlib as mpl\n",
    "import matplotlib.pyplot as plt"
   ]
  },
  {
   "cell_type": "code",
   "execution_count": 2,
   "id": "5b261798",
   "metadata": {},
   "outputs": [],
   "source": [
    "DARK_READER = True\n",
    "if DARK_READER:\n",
    "    plt.rcParams.update({\n",
    "        \"lines.color\": \"white\",\n",
    "        \"patch.edgecolor\": \"white\",\n",
    "        \"text.color\": \"black\",\n",
    "        \"axes.facecolor\": \"black\",\n",
    "        \"axes.edgecolor\": \"lightgray\",\n",
    "        \"axes.labelcolor\": \"white\",\n",
    "        \"xtick.color\": \"white\",\n",
    "        \"ytick.color\": \"white\",\n",
    "        \"grid.color\": \"lightgray\",\n",
    "        \"figure.facecolor\": \"black\",\n",
    "        \"figure.edgecolor\": \"black\",\n",
    "        \"savefig.facecolor\": \"black\",\n",
    "        \"savefig.edgecolor\": \"black\",\n",
    "    })"
   ]
  },
  {
   "cell_type": "code",
   "execution_count": null,
   "id": "c9047290",
   "metadata": {},
   "outputs": [],
   "source": []
  },
  {
   "cell_type": "code",
   "execution_count": null,
   "id": "48f16767",
   "metadata": {},
   "outputs": [],
   "source": []
  },
  {
   "cell_type": "markdown",
   "id": "dceae51e",
   "metadata": {},
   "source": [
    "# Season Dataset (Version 2)\n",
    "In this version, we will have the `month` feature like in version 1. In addition to that, we have added a new `day` feature.\n",
    "It is still a model for the seasons in Northern semisphere, and\n",
    "we set the following rule:\n",
    "\n",
    "- Spring: 1st March to end May (inclusive)\n",
    "- Summer: 1st June to end August\n",
    "- Autumn: 1st September to end November\n",
    "- Winter: 1st December to end February"
   ]
  },
  {
   "cell_type": "code",
   "execution_count": 3,
   "id": "3ee21d2d",
   "metadata": {},
   "outputs": [],
   "source": [
    "import numpy as np"
   ]
  },
  {
   "cell_type": "code",
   "execution_count": 4,
   "id": "8c0589cc",
   "metadata": {},
   "outputs": [
    {
     "data": {
      "text/plain": [
       "array([False,  True])"
      ]
     },
     "execution_count": 4,
     "metadata": {},
     "output_type": "execute_result"
    }
   ],
   "source": [
    "np.array([3, 31]) > np.array([7, 1])"
   ]
  },
  {
   "cell_type": "code",
   "execution_count": 5,
   "id": "8a483890",
   "metadata": {},
   "outputs": [
    {
     "data": {
      "text/plain": [
       "False"
      ]
     },
     "execution_count": 5,
     "metadata": {},
     "output_type": "execute_result"
    }
   ],
   "source": [
    "[3, 31] > [7, 1]"
   ]
  },
  {
   "cell_type": "markdown",
   "id": "3dbff190",
   "metadata": {},
   "source": [
    "Let's make a list named `L_month_day` as follows:\n",
    "\n",
    "```python\n",
    "print(L_month_day)\n",
    "\n",
    "[[1,1],\n",
    " [1,2],\n",
    " ...,\n",
    " [1,31],\n",
    " [2,1],\n",
    " ...,\n",
    " [2,28],\n",
    " ...,\n",
    " [12,31],\n",
    "]\n",
    "```"
   ]
  },
  {
   "cell_type": "code",
   "execution_count": 6,
   "id": "df83fff4",
   "metadata": {},
   "outputs": [],
   "source": [
    "JAN = 1\n",
    "FEB = 2\n",
    "MAR = 3\n",
    "APR = 4\n",
    "MAY = 5\n",
    "JUN = 6\n",
    "JUL = 7\n",
    "AUG = 8\n",
    "SEP = 9\n",
    "OCT = 10\n",
    "NOV = 11\n",
    "DEC = 12\n",
    "\n",
    "SPRING = 0\n",
    "SUMMER = 1\n",
    "AUTUMN = 2\n",
    "WINTER = 3\n",
    "\n",
    "season_to_id = {\n",
    "    \"spring\": 0,\n",
    "    \"summer\": 1,\n",
    "    \"autumn\": 2,\n",
    "    \"winter\": 3,\n",
    "}\n",
    "\n",
    "SEED = 20\n",
    "\n"
   ]
  },
  {
   "cell_type": "code",
   "execution_count": 7,
   "id": "101956d4",
   "metadata": {},
   "outputs": [
    {
     "data": {
      "text/plain": [
       "365"
      ]
     },
     "execution_count": 7,
     "metadata": {},
     "output_type": "execute_result"
    }
   ],
   "source": [
    "D_month_BigMonth = {\n",
    "    JAN: 1,\n",
    "    FEB: -1,\n",
    "    MAR: 1,\n",
    "    APR: 0,\n",
    "    MAY: 1,\n",
    "    JUN: 0,\n",
    "    JUL: 1,\n",
    "    AUG: 1, \n",
    "    SEP: 0,\n",
    "    OCT: 1,\n",
    "    NOV: 0,\n",
    "    DEC: 1,\n",
    "}\n",
    "\n",
    "# Verify if this gives 365 days in one year.\n",
    "somme = 0\n",
    "for indicator in D_month_BigMonth.values():\n",
    "    if indicator == 1:\n",
    "        somme += 31\n",
    "    elif indicator == 0:\n",
    "        somme += 30\n",
    "    elif indicator == -1:\n",
    "        somme += 28\n",
    "somme"
   ]
  },
  {
   "cell_type": "code",
   "execution_count": 8,
   "id": "1321dead",
   "metadata": {},
   "outputs": [],
   "source": [
    "def n_days_in(month):\n",
    "    indicator = D_month_BigMonth[month]\n",
    "    if indicator == 1:\n",
    "        return 31\n",
    "    elif indicator == 0:\n",
    "        return 30\n",
    "    elif indicator == -1:\n",
    "        return 28"
   ]
  },
  {
   "cell_type": "raw",
   "id": "de9fdc1e",
   "metadata": {},
   "source": [
    "L_month_day = [[0, 0] for _ in range(365)]\n",
    "len(L_month_day), len(L_month_day[-1])"
   ]
  },
  {
   "cell_type": "code",
   "execution_count": 9,
   "id": "a604d296",
   "metadata": {},
   "outputs": [],
   "source": [
    "L_month_day = []\n",
    "for month in (JAN, FEB, MAR, APR, MAY, JUN, JUL, AUG, SEP, OCT, NOV, DEC,):\n",
    "    L = [[month, i] for i in range(1, n_days_in(month)+1)]\n",
    "    L_month_day.extend(L)"
   ]
  },
  {
   "cell_type": "code",
   "execution_count": 10,
   "id": "aa34a6ee",
   "metadata": {},
   "outputs": [
    {
     "data": {
      "text/plain": [
       "[[1, 1],\n",
       " [1, 2],\n",
       " [1, 3],\n",
       " [1, 4],\n",
       " [1, 5],\n",
       " [1, 6],\n",
       " [1, 7],\n",
       " [1, 8],\n",
       " [1, 9],\n",
       " [1, 10],\n",
       " [1, 11],\n",
       " [1, 12],\n",
       " [1, 13],\n",
       " [1, 14],\n",
       " [1, 15],\n",
       " [1, 16],\n",
       " [1, 17],\n",
       " [1, 18],\n",
       " [1, 19],\n",
       " [1, 20],\n",
       " [1, 21],\n",
       " [1, 22],\n",
       " [1, 23],\n",
       " [1, 24],\n",
       " [1, 25],\n",
       " [1, 26],\n",
       " [1, 27],\n",
       " [1, 28],\n",
       " [1, 29],\n",
       " [1, 30],\n",
       " [1, 31]]"
      ]
     },
     "execution_count": 10,
     "metadata": {},
     "output_type": "execute_result"
    }
   ],
   "source": [
    "#i = np.random.randint(JAN, DEC+1)\n",
    "#L_month_day[-31:]\n",
    "L_month_day[:31]"
   ]
  },
  {
   "cell_type": "code",
   "execution_count": 11,
   "id": "83e3f9c6",
   "metadata": {},
   "outputs": [
    {
     "data": {
      "text/plain": [
       "365"
      ]
     },
     "execution_count": 11,
     "metadata": {},
     "output_type": "execute_result"
    }
   ],
   "source": [
    "len(L_month_day)"
   ]
  },
  {
   "cell_type": "code",
   "execution_count": 12,
   "id": "b7a59004",
   "metadata": {
    "scrolled": true
   },
   "outputs": [
    {
     "data": {
      "text/plain": [
       "[3, 3, 0, 0, 0, 1, 1, 1, 2, 2, 2, 3]"
      ]
     },
     "execution_count": 12,
     "metadata": {},
     "output_type": "execute_result"
    }
   ],
   "source": [
    "y_rule1 = []\n",
    "for month, _ in L_month_day:\n",
    "    if MAR <= month <= MAY:\n",
    "        y_rule1.append(SPRING)\n",
    "    elif JUN <= month <= AUG:\n",
    "        y_rule1.append(SUMMER)\n",
    "    elif SEP <= month <= NOV:\n",
    "        y_rule1.append(AUTUMN)\n",
    "    else:\n",
    "        y_rule1.append(WINTER)\n",
    "y_rule1[0:-1:31]"
   ]
  },
  {
   "cell_type": "code",
   "execution_count": 13,
   "id": "c6cc8152",
   "metadata": {},
   "outputs": [
    {
     "data": {
      "text/plain": [
       "(dtype('int64'), (365, 2))"
      ]
     },
     "execution_count": 13,
     "metadata": {},
     "output_type": "execute_result"
    }
   ],
   "source": [
    "X = np.array(L_month_day)\n",
    "X.dtype, X.shape"
   ]
  },
  {
   "cell_type": "markdown",
   "id": "1627b0b9",
   "metadata": {},
   "source": [
    "## How to Split Train/Test sets?"
   ]
  },
  {
   "cell_type": "code",
   "execution_count": 14,
   "id": "26ebdc47",
   "metadata": {},
   "outputs": [],
   "source": [
    "from sklearn.model_selection import StratifiedShuffleSplit"
   ]
  },
  {
   "cell_type": "markdown",
   "id": "8c0ec617",
   "metadata": {},
   "source": [
    "**(?)** What is the `n_splits` for?<br>"
   ]
  },
  {
   "cell_type": "raw",
   "id": "652c9cd2",
   "metadata": {},
   "source": [
    "help(StratifiedShuffleSplit)"
   ]
  },
  {
   "cell_type": "code",
   "execution_count": 19,
   "id": "7241d05b",
   "metadata": {},
   "outputs": [],
   "source": [
    "y_rule1 = np.array(y_rule1)"
   ]
  },
  {
   "cell_type": "code",
   "execution_count": 20,
   "id": "d3affba1",
   "metadata": {},
   "outputs": [],
   "source": [
    "split = StratifiedShuffleSplit(n_splits=3, test_size=0.2, random_state=SEED)\n",
    "for train_indices, test_indices in split.split(X, X[:, 0]):\n",
    "    X_train_raw = X[train_indices, :]\n",
    "    X_test_raw = X[test_indices, :]\n",
    "    y_rule1_train = y_rule1[train_indices]\n",
    "    y_rule1_test = y_rule1[test_indices]"
   ]
  },
  {
   "cell_type": "markdown",
   "id": "f110de77",
   "metadata": {},
   "source": [
    "**(?)** Did you notice that the syntax for the `split.split` above is somewhat diff from what we are used to?"
   ]
  },
  {
   "cell_type": "raw",
   "id": "7fc76ce9",
   "metadata": {},
   "source": [
    "split = StratifiedShuffleSplit(n_splits=3, test_size=0.2, random_state=SEED)\n",
    "train_indices, test_indices = split.split(X, X[:, 0])\n",
    "print(f\"type(test_indices) = {type(test_indices)}\")\n",
    "test_indices"
   ]
  },
  {
   "cell_type": "raw",
   "id": "236aa617",
   "metadata": {},
   "source": [
    "ValueError: too many values to unpack (expected 2)"
   ]
  },
  {
   "cell_type": "code",
   "execution_count": 30,
   "id": "070f74d8",
   "metadata": {},
   "outputs": [
    {
     "data": {
      "text/plain": [
       "array([ 95, 255, 146, 339, 152,  93, 349,  27, 264, 127,  87, 136, 260,\n",
       "        36, 156, 230,  50, 253, 257, 205, 222,  73, 211, 238,  19, 128,\n",
       "       358, 319, 299, 101, 111, 302,   5, 213, 310, 151, 174,  45, 321,\n",
       "       138, 282,  43,  20, 194, 229, 361, 326, 242, 313, 274, 108, 208,\n",
       "        57,  76, 132, 116, 311, 297, 240, 179, 280,  10, 243, 209, 184,\n",
       "        79, 173, 350,  37,  63,  74, 344,   6])"
      ]
     },
     "execution_count": 30,
     "metadata": {},
     "output_type": "execute_result"
    }
   ],
   "source": [
    "test_indices"
   ]
  },
  {
   "cell_type": "code",
   "execution_count": 31,
   "id": "04578de4",
   "metadata": {},
   "outputs": [
    {
     "data": {
      "text/plain": [
       "(73,)"
      ]
     },
     "execution_count": 31,
     "metadata": {},
     "output_type": "execute_result"
    }
   ],
   "source": [
    "test_indices.shape"
   ]
  },
  {
   "cell_type": "code",
   "execution_count": 32,
   "id": "c236e25b",
   "metadata": {},
   "outputs": [
    {
     "data": {
      "text/plain": [
       "73"
      ]
     },
     "execution_count": 32,
     "metadata": {},
     "output_type": "execute_result"
    }
   ],
   "source": [
    "int(365 * 0.2)"
   ]
  },
  {
   "cell_type": "code",
   "execution_count": 22,
   "id": "6f798827",
   "metadata": {},
   "outputs": [
    {
     "data": {
      "text/plain": [
       "((292, 2), (73, 2))"
      ]
     },
     "execution_count": 22,
     "metadata": {},
     "output_type": "execute_result"
    }
   ],
   "source": [
    "X_train_raw.shape, X_test_raw.shape"
   ]
  },
  {
   "cell_type": "code",
   "execution_count": 23,
   "id": "7b2cfe56",
   "metadata": {},
   "outputs": [],
   "source": [
    "import pandas as pd"
   ]
  },
  {
   "cell_type": "code",
   "execution_count": 26,
   "id": "d3c190fa",
   "metadata": {},
   "outputs": [
    {
     "data": {
      "text/html": [
       "<div>\n",
       "<style scoped>\n",
       "    .dataframe tbody tr th:only-of-type {\n",
       "        vertical-align: middle;\n",
       "    }\n",
       "\n",
       "    .dataframe tbody tr th {\n",
       "        vertical-align: top;\n",
       "    }\n",
       "\n",
       "    .dataframe thead th {\n",
       "        text-align: right;\n",
       "    }\n",
       "</style>\n",
       "<table border=\"1\" class=\"dataframe\">\n",
       "  <thead>\n",
       "    <tr style=\"text-align: right;\">\n",
       "      <th></th>\n",
       "      <th>month</th>\n",
       "      <th>day</th>\n",
       "    </tr>\n",
       "  </thead>\n",
       "  <tbody>\n",
       "    <tr>\n",
       "      <th>0</th>\n",
       "      <td>4</td>\n",
       "      <td>6</td>\n",
       "    </tr>\n",
       "    <tr>\n",
       "      <th>1</th>\n",
       "      <td>9</td>\n",
       "      <td>13</td>\n",
       "    </tr>\n",
       "    <tr>\n",
       "      <th>2</th>\n",
       "      <td>5</td>\n",
       "      <td>27</td>\n",
       "    </tr>\n",
       "    <tr>\n",
       "      <th>3</th>\n",
       "      <td>12</td>\n",
       "      <td>6</td>\n",
       "    </tr>\n",
       "    <tr>\n",
       "      <th>4</th>\n",
       "      <td>6</td>\n",
       "      <td>2</td>\n",
       "    </tr>\n",
       "    <tr>\n",
       "      <th>...</th>\n",
       "      <td>...</td>\n",
       "      <td>...</td>\n",
       "    </tr>\n",
       "    <tr>\n",
       "      <th>68</th>\n",
       "      <td>2</td>\n",
       "      <td>7</td>\n",
       "    </tr>\n",
       "    <tr>\n",
       "      <th>69</th>\n",
       "      <td>3</td>\n",
       "      <td>5</td>\n",
       "    </tr>\n",
       "    <tr>\n",
       "      <th>70</th>\n",
       "      <td>3</td>\n",
       "      <td>16</td>\n",
       "    </tr>\n",
       "    <tr>\n",
       "      <th>71</th>\n",
       "      <td>12</td>\n",
       "      <td>11</td>\n",
       "    </tr>\n",
       "    <tr>\n",
       "      <th>72</th>\n",
       "      <td>1</td>\n",
       "      <td>7</td>\n",
       "    </tr>\n",
       "  </tbody>\n",
       "</table>\n",
       "<p>73 rows × 2 columns</p>\n",
       "</div>"
      ],
      "text/plain": [
       "    month  day\n",
       "0       4    6\n",
       "1       9   13\n",
       "2       5   27\n",
       "3      12    6\n",
       "4       6    2\n",
       "..    ...  ...\n",
       "68      2    7\n",
       "69      3    5\n",
       "70      3   16\n",
       "71     12   11\n",
       "72      1    7\n",
       "\n",
       "[73 rows x 2 columns]"
      ]
     },
     "execution_count": 26,
     "metadata": {},
     "output_type": "execute_result"
    }
   ],
   "source": [
    "df_X_test_raw = pd.DataFrame(X_test_raw, columns=[\"month\", \"day\",])\n",
    "df_X_test_raw"
   ]
  },
  {
   "cell_type": "code",
   "execution_count": 27,
   "id": "7719f241",
   "metadata": {},
   "outputs": [
    {
     "data": {
      "text/plain": [
       "8     7\n",
       "1     6\n",
       "2     6\n",
       "3     6\n",
       "4     6\n",
       "5     6\n",
       "6     6\n",
       "7     6\n",
       "9     6\n",
       "10    6\n",
       "11    6\n",
       "12    6\n",
       "Name: month, dtype: int64"
      ]
     },
     "execution_count": 27,
     "metadata": {},
     "output_type": "execute_result"
    }
   ],
   "source": [
    "df_X_test_raw[\"month\"].value_counts()"
   ]
  },
  {
   "cell_type": "code",
   "execution_count": 28,
   "id": "8a8b46ef",
   "metadata": {},
   "outputs": [
    {
     "data": {
      "text/plain": [
       "1     31\n",
       "3     31\n",
       "5     31\n",
       "7     31\n",
       "8     31\n",
       "10    31\n",
       "12    31\n",
       "4     30\n",
       "6     30\n",
       "9     30\n",
       "11    30\n",
       "2     28\n",
       "Name: month, dtype: int64"
      ]
     },
     "execution_count": 28,
     "metadata": {},
     "output_type": "execute_result"
    }
   ],
   "source": [
    "df_X = pd.DataFrame(X, columns=[\"month\", \"day\"])\n",
    "df_X[\"month\"].value_counts()"
   ]
  },
  {
   "cell_type": "code",
   "execution_count": 29,
   "id": "23e81682",
   "metadata": {},
   "outputs": [
    {
     "data": {
      "text/html": [
       "<div>\n",
       "<style scoped>\n",
       "    .dataframe tbody tr th:only-of-type {\n",
       "        vertical-align: middle;\n",
       "    }\n",
       "\n",
       "    .dataframe tbody tr th {\n",
       "        vertical-align: top;\n",
       "    }\n",
       "\n",
       "    .dataframe thead th {\n",
       "        text-align: right;\n",
       "    }\n",
       "</style>\n",
       "<table border=\"1\" class=\"dataframe\">\n",
       "  <thead>\n",
       "    <tr style=\"text-align: right;\">\n",
       "      <th></th>\n",
       "      <th>month</th>\n",
       "      <th>day</th>\n",
       "      <th>season_id</th>\n",
       "    </tr>\n",
       "  </thead>\n",
       "  <tbody>\n",
       "    <tr>\n",
       "      <th>0</th>\n",
       "      <td>4</td>\n",
       "      <td>6</td>\n",
       "      <td>0</td>\n",
       "    </tr>\n",
       "    <tr>\n",
       "      <th>1</th>\n",
       "      <td>9</td>\n",
       "      <td>13</td>\n",
       "      <td>2</td>\n",
       "    </tr>\n",
       "    <tr>\n",
       "      <th>2</th>\n",
       "      <td>5</td>\n",
       "      <td>27</td>\n",
       "      <td>0</td>\n",
       "    </tr>\n",
       "    <tr>\n",
       "      <th>3</th>\n",
       "      <td>12</td>\n",
       "      <td>6</td>\n",
       "      <td>3</td>\n",
       "    </tr>\n",
       "    <tr>\n",
       "      <th>4</th>\n",
       "      <td>6</td>\n",
       "      <td>2</td>\n",
       "      <td>1</td>\n",
       "    </tr>\n",
       "    <tr>\n",
       "      <th>...</th>\n",
       "      <td>...</td>\n",
       "      <td>...</td>\n",
       "      <td>...</td>\n",
       "    </tr>\n",
       "    <tr>\n",
       "      <th>68</th>\n",
       "      <td>2</td>\n",
       "      <td>7</td>\n",
       "      <td>3</td>\n",
       "    </tr>\n",
       "    <tr>\n",
       "      <th>69</th>\n",
       "      <td>3</td>\n",
       "      <td>5</td>\n",
       "      <td>0</td>\n",
       "    </tr>\n",
       "    <tr>\n",
       "      <th>70</th>\n",
       "      <td>3</td>\n",
       "      <td>16</td>\n",
       "      <td>0</td>\n",
       "    </tr>\n",
       "    <tr>\n",
       "      <th>71</th>\n",
       "      <td>12</td>\n",
       "      <td>11</td>\n",
       "      <td>3</td>\n",
       "    </tr>\n",
       "    <tr>\n",
       "      <th>72</th>\n",
       "      <td>1</td>\n",
       "      <td>7</td>\n",
       "      <td>3</td>\n",
       "    </tr>\n",
       "  </tbody>\n",
       "</table>\n",
       "<p>73 rows × 3 columns</p>\n",
       "</div>"
      ],
      "text/plain": [
       "    month  day  season_id\n",
       "0       4    6          0\n",
       "1       9   13          2\n",
       "2       5   27          0\n",
       "3      12    6          3\n",
       "4       6    2          1\n",
       "..    ...  ...        ...\n",
       "68      2    7          3\n",
       "69      3    5          0\n",
       "70      3   16          0\n",
       "71     12   11          3\n",
       "72      1    7          3\n",
       "\n",
       "[73 rows x 3 columns]"
      ]
     },
     "execution_count": 29,
     "metadata": {},
     "output_type": "execute_result"
    }
   ],
   "source": [
    "df_Xy_test_raw = pd.DataFrame(np.c_[X_test_raw, y_rule1_test], columns=[\"month\", \"day\", \"season_id\"])\n",
    "df_Xy_test_raw"
   ]
  },
  {
   "cell_type": "code",
   "execution_count": null,
   "id": "0afdeaaa",
   "metadata": {},
   "outputs": [],
   "source": []
  },
  {
   "cell_type": "markdown",
   "id": "26c99a5b",
   "metadata": {},
   "source": [
    "## First Dataset, First Model\n",
    "Just take `X_train_raw` and `X_test_raw` to train a few ML models and see what that gives."
   ]
  },
  {
   "cell_type": "code",
   "execution_count": 33,
   "id": "120532d4",
   "metadata": {},
   "outputs": [],
   "source": [
    "from sklearn.linear_model import LogisticRegression\n",
    "from sklearn.tree import DecisionTreeClassifier\n",
    "from sklearn.svm import SVC\n",
    "from sklearn.ensemble import RandomForestClassifier\n",
    "from sklearn.ensemble import VotingClassifier\n",
    "\n",
    "from sklearn.metrics import accuracy_score, precision_score, recall_score"
   ]
  },
  {
   "cell_type": "code",
   "execution_count": 34,
   "id": "19b73eeb",
   "metadata": {},
   "outputs": [],
   "source": [
    "log_clf = LogisticRegression()\n",
    "svm_clf = SVC(probability=True)\n",
    "rnd_clf = RandomForestClassifier()"
   ]
  },
  {
   "cell_type": "code",
   "execution_count": 35,
   "id": "f6a26dfe",
   "metadata": {},
   "outputs": [],
   "source": [
    "voting_clf = VotingClassifier(\n",
    "    estimators=[(\"lr\", log_clf), (\"svm\", svm_clf), (\"rf\", rnd_clf)],\n",
    "    voting=\"soft\",\n",
    ")"
   ]
  },
  {
   "cell_type": "code",
   "execution_count": 36,
   "id": "c76c02d5",
   "metadata": {},
   "outputs": [
    {
     "name": "stdout",
     "output_type": "stream",
     "text": [
      "(LogisticRegression)\n",
      "acc = 0.64, precision = 0.64, recall = 0.64\n",
      "\n",
      "(SVC)\n",
      "acc = 0.82, precision = 0.82, recall = 0.82\n",
      "\n",
      "(RandomForestClassifier)\n",
      "acc = 1.00, precision = 1.00, recall = 1.00\n",
      "\n",
      "(VotingClassifier)\n",
      "acc = 0.92, precision = 0.92, recall = 0.92\n",
      "\n"
     ]
    }
   ],
   "source": [
    "for clf in (log_clf, svm_clf, rnd_clf, voting_clf):\n",
    "    clf.fit(X_train_raw, y_rule1_train)\n",
    "    y_pred = clf.predict(X_test_raw)\n",
    "    acc = accuracy_score(y_rule1_test, y_pred)\n",
    "    precision = precision_score(y_rule1_test, y_pred, average=\"micro\")\n",
    "    recall = recall_score(y_rule1_test, y_pred, average=\"micro\")    \n",
    "    print(f\"({clf.__class__.__name__})\\nacc = {acc:.2f}, precision = {precision:.2f}, recall = {recall:.2f}\\n\")"
   ]
  },
  {
   "cell_type": "code",
   "execution_count": 42,
   "id": "628f2b50",
   "metadata": {},
   "outputs": [
    {
     "name": "stdout",
     "output_type": "stream",
     "text": [
      "(LogisticRegression)\n",
      "acc = 0.64, precision = 0.64, recall = 0.64\n",
      "\n",
      "(SVC)\n",
      "acc = 0.88, precision = 0.88, recall = 0.88\n",
      "\n",
      "(RandomForestClassifier)\n",
      "acc = 1.00, precision = 1.00, recall = 1.00\n",
      "\n",
      "(VotingClassifier)\n",
      "acc = 0.91, precision = 0.91, recall = 0.91\n",
      "\n"
     ]
    }
   ],
   "source": [
    "for clf in (log_clf, svm_clf, rnd_clf, voting_clf):\n",
    "    clf.fit(X_train_raw, y_rule1_train)\n",
    "    y_pred = clf.predict(X_train_raw)\n",
    "    acc = accuracy_score(y_rule1_train, y_pred)\n",
    "    precision = precision_score(y_rule1_train, y_pred, average=\"micro\")\n",
    "    recall = recall_score(y_rule1_train, y_pred, average=\"micro\")    \n",
    "    print(f\"({clf.__class__.__name__})\\nacc = {acc:.2f}, precision = {precision:.2f}, recall = {recall:.2f}\\n\")"
   ]
  },
  {
   "cell_type": "markdown",
   "id": "a32d16d5",
   "metadata": {},
   "source": [
    "We see that\n",
    "\n",
    "- Random forest performances perfectly\n",
    "- Voting classifier's performance has been averaged and thus a little lower than random forest\n",
    "\n",
    "Maybe the task is too simple. Even without taking the cyclic nature into consideration, some of the classifiers\n",
    "can already reach near perfect performance.\n"
   ]
  },
  {
   "cell_type": "raw",
   "id": "6189b95e",
   "metadata": {
    "scrolled": true
   },
   "source": [
    "print(f\"X_test.reshape(-1) = {X_test.reshape(-1)}\")\n",
    "print(f\"y_test = {y_test}\")\n",
    "for clf in (log_clf, svm_clf, rnd_clf, voting_clf):\n",
    "    y_pred = clf.predict(X_test)\n",
    "    print(f\"\\n({clf.__class__.__name__})\")\n",
    "    print(f\"y_pred = {y_pred}\")"
   ]
  },
  {
   "cell_type": "markdown",
   "id": "cfe2b631",
   "metadata": {},
   "source": [
    "## Second Dataset, Same Models\n",
    "Let's standardize the features and then just apply the same model to see if things will get better."
   ]
  },
  {
   "cell_type": "raw",
   "id": "686341d9",
   "metadata": {},
   "source": [
    "X_train"
   ]
  },
  {
   "cell_type": "raw",
   "id": "941c8391",
   "metadata": {},
   "source": [
    "X_test"
   ]
  },
  {
   "cell_type": "raw",
   "id": "42061488",
   "metadata": {},
   "source": [
    "X_train_stand = X_train / DEC\n",
    "X_test_stand = X_test / DEC\n",
    "X_train_stand"
   ]
  },
  {
   "cell_type": "raw",
   "id": "e3a89e1d",
   "metadata": {},
   "source": [
    "for clf in (log_clf, svm_clf, rnd_clf, voting_clf):\n",
    "    clf.fit(X_train_stand, y_train)\n",
    "    y_pred = clf.predict(X_test_stand)\n",
    "    acc = accuracy_score(y_test, y_pred)\n",
    "    precision = precision_score(y_test, y_pred, average=\"micro\")\n",
    "    recall = recall_score(y_test, y_pred, average=\"micro\")\n",
    "    print(f\"({clf.__class__.__name__})\\nacc = {acc:.2f}, precision = {precision:.2f}, recall = {recall:.2f}\\n\")"
   ]
  },
  {
   "cell_type": "markdown",
   "id": "aaf3e84e",
   "metadata": {},
   "source": [
    "> The situation after standardization is **not getting better**."
   ]
  },
  {
   "cell_type": "markdown",
   "id": "6e3f689a",
   "metadata": {},
   "source": [
    "**(?)** How come `acc, precision, recall` all have the same value for each classifier? Did you do it wrong or sth?"
   ]
  },
  {
   "cell_type": "markdown",
   "id": "de3be8ac",
   "metadata": {},
   "source": [
    "## Third Dataset, Same Models\n",
    "Use sine and cosine to try to make the points more separable. This is actually more like increasing the number of features to increase the possibility to separate the data points geometrically!"
   ]
  },
  {
   "cell_type": "code",
   "execution_count": 52,
   "id": "e0eeb17b",
   "metadata": {},
   "outputs": [],
   "source": [
    "def sinusoid(X_batch, period):\n",
    "    \"\"\"\n",
    "    args\n",
    "        theta, float\n",
    "            e.g. DEC gives 2pi and JAN gives 2pi / 12\n",
    "    \"\"\"\n",
    "    theta = 2 * np.pi * (X_batch / period)\n",
    "    return np.c_[np.cos(theta), np.sin(theta)]"
   ]
  },
  {
   "cell_type": "code",
   "execution_count": 55,
   "id": "e3bd7998",
   "metadata": {},
   "outputs": [
    {
     "data": {
      "text/plain": [
       "((365, 2), dtype('float64'))"
      ]
     },
     "execution_count": 55,
     "metadata": {},
     "output_type": "execute_result"
    }
   ],
   "source": [
    "X_month_sinusoid = sinusoid(X[:,0], period=12)\n",
    "X_month_sinusoid.shape, X_month_sinusoid.dtype"
   ]
  },
  {
   "cell_type": "code",
   "execution_count": 56,
   "id": "56627b59",
   "metadata": {},
   "outputs": [
    {
     "data": {
      "text/plain": [
       "((365, 2), dtype('float64'))"
      ]
     },
     "execution_count": 56,
     "metadata": {},
     "output_type": "execute_result"
    }
   ],
   "source": [
    "X_day_sinusoid = np.empty_like(X_month_sinusoid)\n",
    "X_day_sinusoid.shape, X_day_sinusoid.dtype"
   ]
  },
  {
   "cell_type": "code",
   "execution_count": 60,
   "id": "38cf839d",
   "metadata": {},
   "outputs": [
    {
     "data": {
      "text/plain": [
       "array([[ 9.79529941e-01,  2.01298520e-01],\n",
       "       [ 9.18957812e-01,  3.94355855e-01],\n",
       "       [ 8.20763441e-01,  5.71268215e-01],\n",
       "       [ 6.88966919e-01,  7.24792787e-01],\n",
       "       [ 5.28964010e-01,  8.48644257e-01],\n",
       "       [ 3.47305253e-01,  9.37752132e-01],\n",
       "       [ 1.51427778e-01,  9.88468324e-01],\n",
       "       [-5.06491688e-02,  9.98716507e-01],\n",
       "       [-2.50652532e-01,  9.68077119e-01],\n",
       "       [-4.40394152e-01,  8.97804540e-01],\n",
       "       [-6.12105983e-01,  7.90775737e-01],\n",
       "       [-7.58758123e-01,  6.51372483e-01],\n",
       "       [-8.74346616e-01,  4.85301963e-01],\n",
       "       [-9.54139256e-01,  2.99363123e-01],\n",
       "       [-9.94869323e-01,  1.01168322e-01],\n",
       "       [-9.94869323e-01, -1.01168322e-01],\n",
       "       [-9.54139256e-01, -2.99363123e-01],\n",
       "       [-8.74346616e-01, -4.85301963e-01],\n",
       "       [-7.58758123e-01, -6.51372483e-01],\n",
       "       [-6.12105983e-01, -7.90775737e-01],\n",
       "       [-4.40394152e-01, -8.97804540e-01],\n",
       "       [-2.50652532e-01, -9.68077119e-01],\n",
       "       [-5.06491688e-02, -9.98716507e-01],\n",
       "       [ 1.51427778e-01, -9.88468324e-01],\n",
       "       [ 3.47305253e-01, -9.37752132e-01],\n",
       "       [ 5.28964010e-01, -8.48644257e-01],\n",
       "       [ 6.88966919e-01, -7.24792787e-01],\n",
       "       [ 8.20763441e-01, -5.71268215e-01],\n",
       "       [ 9.18957812e-01, -3.94355855e-01],\n",
       "       [ 9.79529941e-01, -2.01298520e-01],\n",
       "       [ 1.00000000e+00, -2.44929360e-16]])"
      ]
     },
     "execution_count": 60,
     "metadata": {},
     "output_type": "execute_result"
    }
   ],
   "source": [
    "start = 0\n",
    "for month in (JAN, FEB, MAR, APR, MAY, JUN, JUL, AUG, SEP, OCT, NOV, DEC):\n",
    "    n_days = n_days_in(month)\n",
    "    X_day_sinusoid[start:start+n_days, :] = sinusoid(X[start:start+n_days, 1], period=n_days)\n",
    "    start += n_days\n",
    "\n",
    "X_day_sinusoid[:n_days_in(JAN)]"
   ]
  },
  {
   "cell_type": "code",
   "execution_count": 63,
   "id": "17009c1c",
   "metadata": {
    "scrolled": true
   },
   "outputs": [
    {
     "name": "stdout",
     "output_type": "stream",
     "text": [
      "[[ 9.79529941e-01  2.01298520e-01  9.79529941e-01  2.01298520e-01]\n",
      " [ 9.18957812e-01  3.94355855e-01  9.18957812e-01  3.94355855e-01]\n",
      " [ 8.20763441e-01  5.71268215e-01  8.20763441e-01  5.71268215e-01]\n",
      " [ 6.88966919e-01  7.24792787e-01  6.88966919e-01  7.24792787e-01]\n",
      " [ 5.28964010e-01  8.48644257e-01  5.28964010e-01  8.48644257e-01]\n",
      " [ 3.47305253e-01  9.37752132e-01  3.47305253e-01  9.37752132e-01]\n",
      " [ 1.51427778e-01  9.88468324e-01  1.51427778e-01  9.88468324e-01]\n",
      " [-5.06491688e-02  9.98716507e-01 -5.06491688e-02  9.98716507e-01]\n",
      " [-2.50652532e-01  9.68077119e-01 -2.50652532e-01  9.68077119e-01]\n",
      " [-4.40394152e-01  8.97804540e-01 -4.40394152e-01  8.97804540e-01]\n",
      " [-6.12105983e-01  7.90775737e-01 -6.12105983e-01  7.90775737e-01]\n",
      " [-7.58758123e-01  6.51372483e-01 -7.58758123e-01  6.51372483e-01]\n",
      " [-8.74346616e-01  4.85301963e-01 -8.74346616e-01  4.85301963e-01]\n",
      " [-9.54139256e-01  2.99363123e-01 -9.54139256e-01  2.99363123e-01]\n",
      " [-9.94869323e-01  1.01168322e-01 -9.94869323e-01  1.01168322e-01]\n",
      " [-9.94869323e-01 -1.01168322e-01 -9.94869323e-01 -1.01168322e-01]\n",
      " [-9.54139256e-01 -2.99363123e-01 -9.54139256e-01 -2.99363123e-01]\n",
      " [-8.74346616e-01 -4.85301963e-01 -8.74346616e-01 -4.85301963e-01]\n",
      " [-7.58758123e-01 -6.51372483e-01 -7.58758123e-01 -6.51372483e-01]\n",
      " [-6.12105983e-01 -7.90775737e-01 -6.12105983e-01 -7.90775737e-01]\n",
      " [-4.40394152e-01 -8.97804540e-01 -4.40394152e-01 -8.97804540e-01]\n",
      " [-2.50652532e-01 -9.68077119e-01 -2.50652532e-01 -9.68077119e-01]\n",
      " [-5.06491688e-02 -9.98716507e-01 -5.06491688e-02 -9.98716507e-01]\n",
      " [ 1.51427778e-01 -9.88468324e-01  1.51427778e-01 -9.88468324e-01]\n",
      " [ 3.47305253e-01 -9.37752132e-01  3.47305253e-01 -9.37752132e-01]\n",
      " [ 5.28964010e-01 -8.48644257e-01  5.28964010e-01 -8.48644257e-01]\n",
      " [ 6.88966919e-01 -7.24792787e-01  6.88966919e-01 -7.24792787e-01]\n",
      " [ 8.20763441e-01 -5.71268215e-01  8.20763441e-01 -5.71268215e-01]\n",
      " [ 9.18957812e-01 -3.94355855e-01  9.18957812e-01 -3.94355855e-01]\n",
      " [ 9.79529941e-01 -2.01298520e-01  9.79529941e-01 -2.01298520e-01]\n",
      " [ 1.00000000e+00 -2.44929360e-16  1.00000000e+00 -2.44929360e-16]]\n"
     ]
    }
   ],
   "source": [
    "print(np.c_[X_day_sinusoid[:n_days_in(JAN)], X_day_sinusoid[31+28:31+28+n_days_in(MAR)]])"
   ]
  },
  {
   "cell_type": "code",
   "execution_count": 71,
   "id": "29d84bb8",
   "metadata": {},
   "outputs": [
    {
     "data": {
      "text/plain": [
       "True"
      ]
     },
     "execution_count": 71,
     "metadata": {},
     "output_type": "execute_result"
    }
   ],
   "source": [
    "np.array_equal(X_day_sinusoid[:n_days_in(JAN)], X_day_sinusoid[31+28:31+28+n_days_in(MAR)])"
   ]
  },
  {
   "cell_type": "code",
   "execution_count": 72,
   "id": "87aa7491",
   "metadata": {},
   "outputs": [
    {
     "data": {
      "text/plain": [
       "['array_equal', 'array_equiv', 'array_repr', 'array_split', 'array_str']"
      ]
     },
     "execution_count": 72,
     "metadata": {},
     "output_type": "execute_result"
    }
   ],
   "source": [
    "[s for s in dir(np) if s.startswith(\"array_\")]"
   ]
  },
  {
   "cell_type": "raw",
   "id": "948ee73a",
   "metadata": {},
   "source": [
    "help(np.array_equal)"
   ]
  },
  {
   "cell_type": "code",
   "execution_count": 73,
   "id": "83932822",
   "metadata": {},
   "outputs": [
    {
     "data": {
      "text/plain": [
       "True"
      ]
     },
     "execution_count": 73,
     "metadata": {},
     "output_type": "execute_result"
    }
   ],
   "source": [
    "np.allclose(X_day_sinusoid[:n_days_in(JAN)], X_day_sinusoid[31+28:31+28+n_days_in(MAR)])"
   ]
  },
  {
   "cell_type": "code",
   "execution_count": 74,
   "id": "3a7847fe",
   "metadata": {},
   "outputs": [
    {
     "data": {
      "text/plain": [
       "((292, 4), (73, 4))"
      ]
     },
     "execution_count": 74,
     "metadata": {},
     "output_type": "execute_result"
    }
   ],
   "source": [
    "X_sinusoid = np.c_[X_month_sinusoid, X_day_sinusoid]\n",
    "X_sinusoid_train = X_sinusoid[train_indices]\n",
    "X_sinusoid_test = X_sinusoid[test_indices]\n",
    "X_sinusoid_train.shape, X_sinusoid_test.shape"
   ]
  },
  {
   "cell_type": "code",
   "execution_count": 75,
   "id": "24585163",
   "metadata": {},
   "outputs": [
    {
     "name": "stdout",
     "output_type": "stream",
     "text": [
      "(LogisticRegression)\n",
      "acc = 0.81, precision = 0.81, recall = 0.81\n",
      "\n",
      "(SVC)\n",
      "acc = 0.95, precision = 0.95, recall = 0.95\n",
      "\n",
      "(RandomForestClassifier)\n",
      "acc = 0.99, precision = 0.99, recall = 0.99\n",
      "\n",
      "(VotingClassifier)\n",
      "acc = 0.97, precision = 0.97, recall = 0.97\n",
      "\n"
     ]
    }
   ],
   "source": [
    "for clf in (log_clf, svm_clf, rnd_clf, voting_clf):\n",
    "    clf.fit(X_sinusoid_train, y_rule2_train)\n",
    "    y_pred = clf.predict(X_sinusoid_test)\n",
    "    acc = accuracy_score(y_rule2_test, y_pred)\n",
    "    precision = precision_score(y_rule2_test, y_pred, average=\"micro\")\n",
    "    recall = recall_score(y_rule2_test, y_pred, average=\"micro\")    \n",
    "    print(f\"({clf.__class__.__name__})\\nacc = {acc:.2f}, precision = {precision:.2f}, recall = {recall:.2f}\\n\")"
   ]
  },
  {
   "cell_type": "code",
   "execution_count": null,
   "id": "3aa35b94",
   "metadata": {},
   "outputs": [],
   "source": []
  },
  {
   "cell_type": "code",
   "execution_count": null,
   "id": "34de2508",
   "metadata": {},
   "outputs": [],
   "source": []
  },
  {
   "cell_type": "code",
   "execution_count": null,
   "id": "a31c8524",
   "metadata": {},
   "outputs": [],
   "source": []
  },
  {
   "cell_type": "code",
   "execution_count": null,
   "id": "c5f61340",
   "metadata": {},
   "outputs": [],
   "source": [
    "X_train"
   ]
  },
  {
   "cell_type": "code",
   "execution_count": null,
   "id": "043672fa",
   "metadata": {},
   "outputs": [],
   "source": [
    "X_train_sinusoid = sinusoid(X_train)\n",
    "X_train_sinusoid"
   ]
  },
  {
   "cell_type": "code",
   "execution_count": null,
   "id": "6df55578",
   "metadata": {
    "scrolled": true
   },
   "outputs": [],
   "source": [
    "plt.plot(X_train_sinusoid[:, 0], X_train_sinusoid[:, 1], \"ro\");\n",
    "t = np.linspace(0, 2*np.pi, 100)\n",
    "plt.plot(np.cos(t), np.sin(t))\n",
    "plt.gca().set_aspect('equal', adjustable='box')\n",
    "plt.grid(True);"
   ]
  },
  {
   "cell_type": "code",
   "execution_count": null,
   "id": "953f4fc4",
   "metadata": {},
   "outputs": [],
   "source": [
    "X_test_sinusoid = sinusoid(X_test)\n",
    "X_test_sinusoid"
   ]
  },
  {
   "cell_type": "code",
   "execution_count": null,
   "id": "550fabb5",
   "metadata": {},
   "outputs": [],
   "source": [
    "for clf in (log_clf, svm_clf, rnd_clf, voting_clf):\n",
    "    clf.fit(X_train_sinusoid, y_train)\n",
    "    y_pred = clf.predict(X_test_sinusoid)\n",
    "    acc = accuracy_score(y_test, y_pred)\n",
    "    precision = precision_score(y_test, y_pred, average=\"micro\")\n",
    "    recall = recall_score(y_test, y_pred, average=\"micro\")\n",
    "    print(f\"({clf.__class__.__name__})\\nacc = {acc:.2f}, precision = {precision:.2f}, recall = {recall:.2f}\\n\")"
   ]
  },
  {
   "cell_type": "markdown",
   "id": "56d78d89",
   "metadata": {},
   "source": [
    "What? Even worse than the naive and worst dataset from the beginning?\n",
    "\n",
    "## Maybe...\n",
    "There are just too little data for this to make sense. Too little data to do ML, maybe.\n",
    "\n",
    "This is actually funny: I thought this was going to be the easiest among the notebooks I was going to create, the models' performance all really good, etc. etc. But quite the contrary.\n",
    "\n",
    "We have only `8` training instances and would like to predict `4` test instances, doing a multiclass classification. I think of a stupid test which I saw a few years ago:\n",
    "\n",
    "> Given a sequence `2, 3, 5`, please guess what numbers will follow.\n",
    "\n",
    "This is not a good test because there can be many, many interesting answers and might not have **the right answer**. For example, it could be the sequence of primes, or the subsequence of fibonacci numbers starting from `2`. So I was so stupid as not to have designed this notebook for testing whether or not the method of spreading the cyclic data on a circle would be effective. In some sense, data science needs a sufficient amount of data to extract some kind of pattern that human might judge as useful to them.\n"
   ]
  },
  {
   "cell_type": "markdown",
   "id": "9902aa89",
   "metadata": {},
   "source": [
    "# Season Dataset (Version 3)\n",
    "In this version, we will have exactly the same features like in version 2.<br>\n",
    "Only that we set a diff rule to increase the difficulty:\n",
    "\n",
    "- Spring: 15th March to 14th June (inclusive)\n",
    "- Summer: 15th June to 14th September\n",
    "- Autumn: 15th September to 14th December\n",
    "- Winter: 15th December to 14th March\n"
   ]
  },
  {
   "cell_type": "code",
   "execution_count": 43,
   "id": "38fd8040",
   "metadata": {},
   "outputs": [
    {
     "data": {
      "text/plain": [
       "[3, 3, 3, 0, 0, 0, 1, 1, 1, 2, 2, 2]"
      ]
     },
     "execution_count": 43,
     "metadata": {},
     "output_type": "execute_result"
    }
   ],
   "source": [
    "y_rule2 = []\n",
    "start = 15\n",
    "end = 14\n",
    "for month_day in L_month_day:\n",
    "    if [MAR,start] <= month_day <= [JUN,end]:\n",
    "        y_rule2.append(SPRING)\n",
    "    elif [JUN,start] <= month_day <= [SEP,end]:\n",
    "        y_rule2.append(SUMMER)\n",
    "    elif [SEP,start] <= month_day <= [DEC,end]:\n",
    "        y_rule2.append(AUTUMN)\n",
    "    else:\n",
    "        y_rule2.append(WINTER)\n",
    "\n",
    "y_rule2[0:-1:31]"
   ]
  },
  {
   "cell_type": "markdown",
   "id": "991ace27",
   "metadata": {},
   "source": [
    "### Let's verify the correctness"
   ]
  },
  {
   "cell_type": "code",
   "execution_count": 44,
   "id": "baf9e2d5",
   "metadata": {},
   "outputs": [
    {
     "data": {
      "text/plain": [
       "array([[ 1, 31,  3],\n",
       "       [ 2,  1,  3],\n",
       "       [ 2,  2,  3],\n",
       "       ...,\n",
       "       [12, 28,  3],\n",
       "       [12, 29,  3],\n",
       "       [12, 30,  3]])"
      ]
     },
     "execution_count": 44,
     "metadata": {},
     "output_type": "execute_result"
    }
   ],
   "source": [
    "np.c_[L_month_day, y_rule2][30:-1]"
   ]
  },
  {
   "cell_type": "code",
   "execution_count": 45,
   "id": "6627d8b2",
   "metadata": {},
   "outputs": [
    {
     "data": {
      "text/plain": [
       "array([[ 2,  1,  3],\n",
       "       [ 2,  2,  3],\n",
       "       [ 2,  3,  3],\n",
       "       [ 2,  4,  3],\n",
       "       [ 2,  5,  3],\n",
       "       [ 2,  6,  3],\n",
       "       [ 2,  7,  3],\n",
       "       [ 2,  8,  3],\n",
       "       [ 2,  9,  3],\n",
       "       [ 2, 10,  3],\n",
       "       [ 2, 11,  3],\n",
       "       [ 2, 12,  3],\n",
       "       [ 2, 13,  3],\n",
       "       [ 2, 14,  3],\n",
       "       [ 2, 15,  3],\n",
       "       [ 2, 16,  3],\n",
       "       [ 2, 17,  3],\n",
       "       [ 2, 18,  3],\n",
       "       [ 2, 19,  3],\n",
       "       [ 2, 20,  3],\n",
       "       [ 2, 21,  3],\n",
       "       [ 2, 22,  3],\n",
       "       [ 2, 23,  3],\n",
       "       [ 2, 24,  3],\n",
       "       [ 2, 25,  3],\n",
       "       [ 2, 26,  3],\n",
       "       [ 2, 27,  3],\n",
       "       [ 2, 28,  3],\n",
       "       [ 3,  1,  3],\n",
       "       [ 3,  2,  3],\n",
       "       [ 3,  3,  3],\n",
       "       [ 3,  4,  3],\n",
       "       [ 3,  5,  3],\n",
       "       [ 3,  6,  3],\n",
       "       [ 3,  7,  3],\n",
       "       [ 3,  8,  3],\n",
       "       [ 3,  9,  3],\n",
       "       [ 3, 10,  3],\n",
       "       [ 3, 11,  3],\n",
       "       [ 3, 12,  3],\n",
       "       [ 3, 13,  3],\n",
       "       [ 3, 14,  3],\n",
       "       [ 3, 15,  0],\n",
       "       [ 3, 16,  0],\n",
       "       [ 3, 17,  0],\n",
       "       [ 3, 18,  0],\n",
       "       [ 3, 19,  0],\n",
       "       [ 3, 20,  0],\n",
       "       [ 3, 21,  0],\n",
       "       [ 3, 22,  0],\n",
       "       [ 3, 23,  0],\n",
       "       [ 3, 24,  0],\n",
       "       [ 3, 25,  0],\n",
       "       [ 3, 26,  0],\n",
       "       [ 3, 27,  0],\n",
       "       [ 3, 28,  0],\n",
       "       [ 3, 29,  0],\n",
       "       [ 3, 30,  0],\n",
       "       [ 3, 31,  0],\n",
       "       [ 4,  1,  0],\n",
       "       [ 4,  2,  0],\n",
       "       [ 4,  3,  0],\n",
       "       [ 4,  4,  0],\n",
       "       [ 4,  5,  0],\n",
       "       [ 4,  6,  0],\n",
       "       [ 4,  7,  0],\n",
       "       [ 4,  8,  0],\n",
       "       [ 4,  9,  0],\n",
       "       [ 4, 10,  0],\n",
       "       [ 4, 11,  0],\n",
       "       [ 4, 12,  0],\n",
       "       [ 4, 13,  0],\n",
       "       [ 4, 14,  0],\n",
       "       [ 4, 15,  0],\n",
       "       [ 4, 16,  0],\n",
       "       [ 4, 17,  0],\n",
       "       [ 4, 18,  0],\n",
       "       [ 4, 19,  0],\n",
       "       [ 4, 20,  0],\n",
       "       [ 4, 21,  0],\n",
       "       [ 4, 22,  0],\n",
       "       [ 4, 23,  0],\n",
       "       [ 4, 24,  0],\n",
       "       [ 4, 25,  0],\n",
       "       [ 4, 26,  0],\n",
       "       [ 4, 27,  0],\n",
       "       [ 4, 28,  0],\n",
       "       [ 4, 29,  0],\n",
       "       [ 4, 30,  0],\n",
       "       [ 5,  1,  0],\n",
       "       [ 5,  2,  0],\n",
       "       [ 5,  3,  0],\n",
       "       [ 5,  4,  0],\n",
       "       [ 5,  5,  0],\n",
       "       [ 5,  6,  0],\n",
       "       [ 5,  7,  0],\n",
       "       [ 5,  8,  0],\n",
       "       [ 5,  9,  0],\n",
       "       [ 5, 10,  0],\n",
       "       [ 5, 11,  0],\n",
       "       [ 5, 12,  0],\n",
       "       [ 5, 13,  0],\n",
       "       [ 5, 14,  0],\n",
       "       [ 5, 15,  0],\n",
       "       [ 5, 16,  0],\n",
       "       [ 5, 17,  0],\n",
       "       [ 5, 18,  0],\n",
       "       [ 5, 19,  0],\n",
       "       [ 5, 20,  0],\n",
       "       [ 5, 21,  0],\n",
       "       [ 5, 22,  0],\n",
       "       [ 5, 23,  0],\n",
       "       [ 5, 24,  0],\n",
       "       [ 5, 25,  0],\n",
       "       [ 5, 26,  0],\n",
       "       [ 5, 27,  0],\n",
       "       [ 5, 28,  0],\n",
       "       [ 5, 29,  0],\n",
       "       [ 5, 30,  0],\n",
       "       [ 5, 31,  0],\n",
       "       [ 6,  1,  0],\n",
       "       [ 6,  2,  0],\n",
       "       [ 6,  3,  0],\n",
       "       [ 6,  4,  0],\n",
       "       [ 6,  5,  0],\n",
       "       [ 6,  6,  0],\n",
       "       [ 6,  7,  0],\n",
       "       [ 6,  8,  0],\n",
       "       [ 6,  9,  0],\n",
       "       [ 6, 10,  0],\n",
       "       [ 6, 11,  0],\n",
       "       [ 6, 12,  0],\n",
       "       [ 6, 13,  0],\n",
       "       [ 6, 14,  0],\n",
       "       [ 6, 15,  1],\n",
       "       [ 6, 16,  1],\n",
       "       [ 6, 17,  1],\n",
       "       [ 6, 18,  1],\n",
       "       [ 6, 19,  1],\n",
       "       [ 6, 20,  1],\n",
       "       [ 6, 21,  1],\n",
       "       [ 6, 22,  1],\n",
       "       [ 6, 23,  1],\n",
       "       [ 6, 24,  1],\n",
       "       [ 6, 25,  1],\n",
       "       [ 6, 26,  1],\n",
       "       [ 6, 27,  1],\n",
       "       [ 6, 28,  1],\n",
       "       [ 6, 29,  1],\n",
       "       [ 6, 30,  1],\n",
       "       [ 7,  1,  1],\n",
       "       [ 7,  2,  1],\n",
       "       [ 7,  3,  1],\n",
       "       [ 7,  4,  1],\n",
       "       [ 7,  5,  1],\n",
       "       [ 7,  6,  1],\n",
       "       [ 7,  7,  1],\n",
       "       [ 7,  8,  1],\n",
       "       [ 7,  9,  1],\n",
       "       [ 7, 10,  1],\n",
       "       [ 7, 11,  1],\n",
       "       [ 7, 12,  1],\n",
       "       [ 7, 13,  1],\n",
       "       [ 7, 14,  1],\n",
       "       [ 7, 15,  1],\n",
       "       [ 7, 16,  1],\n",
       "       [ 7, 17,  1],\n",
       "       [ 7, 18,  1],\n",
       "       [ 7, 19,  1],\n",
       "       [ 7, 20,  1],\n",
       "       [ 7, 21,  1],\n",
       "       [ 7, 22,  1],\n",
       "       [ 7, 23,  1],\n",
       "       [ 7, 24,  1],\n",
       "       [ 7, 25,  1],\n",
       "       [ 7, 26,  1],\n",
       "       [ 7, 27,  1],\n",
       "       [ 7, 28,  1],\n",
       "       [ 7, 29,  1],\n",
       "       [ 7, 30,  1],\n",
       "       [ 7, 31,  1],\n",
       "       [ 8,  1,  1],\n",
       "       [ 8,  2,  1],\n",
       "       [ 8,  3,  1],\n",
       "       [ 8,  4,  1],\n",
       "       [ 8,  5,  1],\n",
       "       [ 8,  6,  1],\n",
       "       [ 8,  7,  1],\n",
       "       [ 8,  8,  1],\n",
       "       [ 8,  9,  1],\n",
       "       [ 8, 10,  1],\n",
       "       [ 8, 11,  1],\n",
       "       [ 8, 12,  1],\n",
       "       [ 8, 13,  1],\n",
       "       [ 8, 14,  1],\n",
       "       [ 8, 15,  1],\n",
       "       [ 8, 16,  1],\n",
       "       [ 8, 17,  1],\n",
       "       [ 8, 18,  1],\n",
       "       [ 8, 19,  1],\n",
       "       [ 8, 20,  1],\n",
       "       [ 8, 21,  1],\n",
       "       [ 8, 22,  1],\n",
       "       [ 8, 23,  1],\n",
       "       [ 8, 24,  1],\n",
       "       [ 8, 25,  1],\n",
       "       [ 8, 26,  1],\n",
       "       [ 8, 27,  1],\n",
       "       [ 8, 28,  1],\n",
       "       [ 8, 29,  1],\n",
       "       [ 8, 30,  1],\n",
       "       [ 8, 31,  1],\n",
       "       [ 9,  1,  1],\n",
       "       [ 9,  2,  1],\n",
       "       [ 9,  3,  1],\n",
       "       [ 9,  4,  1],\n",
       "       [ 9,  5,  1],\n",
       "       [ 9,  6,  1],\n",
       "       [ 9,  7,  1],\n",
       "       [ 9,  8,  1],\n",
       "       [ 9,  9,  1],\n",
       "       [ 9, 10,  1],\n",
       "       [ 9, 11,  1],\n",
       "       [ 9, 12,  1],\n",
       "       [ 9, 13,  1],\n",
       "       [ 9, 14,  1],\n",
       "       [ 9, 15,  2],\n",
       "       [ 9, 16,  2],\n",
       "       [ 9, 17,  2],\n",
       "       [ 9, 18,  2],\n",
       "       [ 9, 19,  2],\n",
       "       [ 9, 20,  2],\n",
       "       [ 9, 21,  2],\n",
       "       [ 9, 22,  2],\n",
       "       [ 9, 23,  2],\n",
       "       [ 9, 24,  2],\n",
       "       [ 9, 25,  2],\n",
       "       [ 9, 26,  2],\n",
       "       [ 9, 27,  2],\n",
       "       [ 9, 28,  2],\n",
       "       [ 9, 29,  2],\n",
       "       [ 9, 30,  2],\n",
       "       [10,  1,  2],\n",
       "       [10,  2,  2],\n",
       "       [10,  3,  2],\n",
       "       [10,  4,  2],\n",
       "       [10,  5,  2],\n",
       "       [10,  6,  2],\n",
       "       [10,  7,  2],\n",
       "       [10,  8,  2],\n",
       "       [10,  9,  2],\n",
       "       [10, 10,  2],\n",
       "       [10, 11,  2],\n",
       "       [10, 12,  2],\n",
       "       [10, 13,  2],\n",
       "       [10, 14,  2],\n",
       "       [10, 15,  2],\n",
       "       [10, 16,  2],\n",
       "       [10, 17,  2],\n",
       "       [10, 18,  2],\n",
       "       [10, 19,  2],\n",
       "       [10, 20,  2],\n",
       "       [10, 21,  2],\n",
       "       [10, 22,  2],\n",
       "       [10, 23,  2],\n",
       "       [10, 24,  2],\n",
       "       [10, 25,  2],\n",
       "       [10, 26,  2],\n",
       "       [10, 27,  2],\n",
       "       [10, 28,  2],\n",
       "       [10, 29,  2],\n",
       "       [10, 30,  2],\n",
       "       [10, 31,  2],\n",
       "       [11,  1,  2],\n",
       "       [11,  2,  2],\n",
       "       [11,  3,  2],\n",
       "       [11,  4,  2],\n",
       "       [11,  5,  2],\n",
       "       [11,  6,  2],\n",
       "       [11,  7,  2],\n",
       "       [11,  8,  2],\n",
       "       [11,  9,  2],\n",
       "       [11, 10,  2],\n",
       "       [11, 11,  2],\n",
       "       [11, 12,  2],\n",
       "       [11, 13,  2],\n",
       "       [11, 14,  2],\n",
       "       [11, 15,  2],\n",
       "       [11, 16,  2],\n",
       "       [11, 17,  2],\n",
       "       [11, 18,  2],\n",
       "       [11, 19,  2],\n",
       "       [11, 20,  2],\n",
       "       [11, 21,  2],\n",
       "       [11, 22,  2],\n",
       "       [11, 23,  2],\n",
       "       [11, 24,  2],\n",
       "       [11, 25,  2],\n",
       "       [11, 26,  2],\n",
       "       [11, 27,  2],\n",
       "       [11, 28,  2],\n",
       "       [11, 29,  2],\n",
       "       [11, 30,  2],\n",
       "       [12,  1,  2],\n",
       "       [12,  2,  2],\n",
       "       [12,  3,  2],\n",
       "       [12,  4,  2],\n",
       "       [12,  5,  2],\n",
       "       [12,  6,  2],\n",
       "       [12,  7,  2],\n",
       "       [12,  8,  2],\n",
       "       [12,  9,  2],\n",
       "       [12, 10,  2],\n",
       "       [12, 11,  2],\n",
       "       [12, 12,  2],\n",
       "       [12, 13,  2],\n",
       "       [12, 14,  2],\n",
       "       [12, 15,  3],\n",
       "       [12, 16,  3],\n",
       "       [12, 17,  3],\n",
       "       [12, 18,  3],\n",
       "       [12, 19,  3],\n",
       "       [12, 20,  3],\n",
       "       [12, 21,  3],\n",
       "       [12, 22,  3],\n",
       "       [12, 23,  3],\n",
       "       [12, 24,  3],\n",
       "       [12, 25,  3],\n",
       "       [12, 26,  3],\n",
       "       [12, 27,  3],\n",
       "       [12, 28,  3],\n",
       "       [12, 29,  3],\n",
       "       [12, 30,  3]])"
      ]
     },
     "execution_count": 45,
     "metadata": {},
     "output_type": "execute_result"
    }
   ],
   "source": [
    "np.c_[L_month_day, y_rule2][31:-1]"
   ]
  },
  {
   "cell_type": "code",
   "execution_count": 47,
   "id": "eef0a786",
   "metadata": {},
   "outputs": [],
   "source": [
    "y_rule2 = np.array(y_rule2)"
   ]
  },
  {
   "cell_type": "code",
   "execution_count": 48,
   "id": "6442ea8f",
   "metadata": {},
   "outputs": [],
   "source": [
    "y_rule2_train = y_rule2[train_indices]\n",
    "y_rule2_test = y_rule2[test_indices]"
   ]
  },
  {
   "cell_type": "code",
   "execution_count": 49,
   "id": "5ebc2089",
   "metadata": {},
   "outputs": [
    {
     "name": "stdout",
     "output_type": "stream",
     "text": [
      "(LogisticRegression)\n",
      "acc = 0.71, precision = 0.71, recall = 0.71\n",
      "\n",
      "(SVC)\n",
      "acc = 0.86, precision = 0.86, recall = 0.86\n",
      "\n",
      "(RandomForestClassifier)\n",
      "acc = 0.97, precision = 0.97, recall = 0.97\n",
      "\n",
      "(VotingClassifier)\n",
      "acc = 0.92, precision = 0.92, recall = 0.92\n",
      "\n"
     ]
    }
   ],
   "source": [
    "for clf in (log_clf, svm_clf, rnd_clf, voting_clf):\n",
    "    clf.fit(X_train_raw, y_rule2_train)\n",
    "    y_pred = clf.predict(X_test_raw)\n",
    "    acc = accuracy_score(y_rule2_test, y_pred)\n",
    "    precision = precision_score(y_rule2_test, y_pred, average=\"micro\")\n",
    "    recall = recall_score(y_rule2_test, y_pred, average=\"micro\")    \n",
    "    print(f\"({clf.__class__.__name__})\\nacc = {acc:.2f}, precision = {precision:.2f}, recall = {recall:.2f}\\n\")"
   ]
  },
  {
   "cell_type": "markdown",
   "id": "f00be732",
   "metadata": {},
   "source": [
    "In this case, our random forest classifier is no longer perfect.\n",
    "\n",
    "Let's see whether incorporating the cyclic nature improves the situation."
   ]
  },
  {
   "cell_type": "markdown",
   "id": "4203c1de",
   "metadata": {},
   "source": [
    "## Cyclic Nature"
   ]
  },
  {
   "cell_type": "code",
   "execution_count": null,
   "id": "0d11c4e7",
   "metadata": {},
   "outputs": [],
   "source": []
  },
  {
   "cell_type": "code",
   "execution_count": null,
   "id": "c54b99ba",
   "metadata": {},
   "outputs": [],
   "source": []
  }
 ],
 "metadata": {
  "kernelspec": {
   "display_name": "Python 3",
   "language": "python",
   "name": "python3"
  },
  "language_info": {
   "codemirror_mode": {
    "name": "ipython",
    "version": 3
   },
   "file_extension": ".py",
   "mimetype": "text/x-python",
   "name": "python",
   "nbconvert_exporter": "python",
   "pygments_lexer": "ipython3",
   "version": "3.7.10"
  }
 },
 "nbformat": 4,
 "nbformat_minor": 5
}
