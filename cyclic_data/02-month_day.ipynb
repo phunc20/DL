{
 "cells": [
  {
   "cell_type": "code",
   "execution_count": 2,
   "id": "7bf15564",
   "metadata": {},
   "outputs": [],
   "source": [
    "import numpy as np\n",
    "import matplotlib as mpl\n",
    "import matplotlib.pyplot as plt"
   ]
  },
  {
   "cell_type": "code",
   "execution_count": 3,
   "id": "f4cb03a7",
   "metadata": {},
   "outputs": [],
   "source": [
    "DARK_READER = True\n",
    "if DARK_READER:\n",
    "    plt.rcParams.update({\n",
    "        \"lines.color\": \"white\",\n",
    "        \"patch.edgecolor\": \"white\",\n",
    "        \"text.color\": \"black\",\n",
    "        \"axes.facecolor\": \"black\",\n",
    "        \"axes.edgecolor\": \"lightgray\",\n",
    "        \"axes.labelcolor\": \"white\",\n",
    "        \"xtick.color\": \"white\",\n",
    "        \"ytick.color\": \"white\",\n",
    "        \"grid.color\": \"lightgray\",\n",
    "        \"figure.facecolor\": \"black\",\n",
    "        \"figure.edgecolor\": \"black\",\n",
    "        \"savefig.facecolor\": \"black\",\n",
    "        \"savefig.edgecolor\": \"black\",\n",
    "    })"
   ]
  },
  {
   "cell_type": "markdown",
   "id": "dceae51e",
   "metadata": {},
   "source": [
    "# Season Dataset (Version 2)\n",
    "In this version, we will have the `month` feature like in version 1. In addition to that, we have added a new `day` feature.\n",
    "It is still a model for the seasons in Northern semisphere, and\n",
    "we set the following rule:\n",
    "\n",
    "- Spring: 1st March to end May (inclusive)\n",
    "- Summer: 1st June to end August\n",
    "- Autumn: 1st September to end November\n",
    "- Winter: 1st December to end February"
   ]
  },
  {
   "cell_type": "code",
   "execution_count": 4,
   "id": "5cb88c56",
   "metadata": {},
   "outputs": [
    {
     "data": {
      "text/plain": [
       "array([False,  True])"
      ]
     },
     "execution_count": 4,
     "metadata": {},
     "output_type": "execute_result"
    }
   ],
   "source": [
    "np.array([3, 31]) > np.array([7, 1])"
   ]
  },
  {
   "cell_type": "markdown",
   "id": "f78c024f",
   "metadata": {},
   "source": [
    "We need to first construct a dataset. For convenience, we would like that arrays can be compared/ordered. Ndarrays cannot."
   ]
  },
  {
   "cell_type": "code",
   "execution_count": 5,
   "id": "afbfa8ff",
   "metadata": {},
   "outputs": [
    {
     "data": {
      "text/plain": [
       "False"
      ]
     },
     "execution_count": 5,
     "metadata": {},
     "output_type": "execute_result"
    }
   ],
   "source": [
    "[3, 31] > [7, 1]"
   ]
  },
  {
   "cell_type": "markdown",
   "id": "2816caf9",
   "metadata": {},
   "source": [
    "Let's make a list named `L_month_day` as follows:\n",
    "\n",
    "```python\n",
    "print(L_month_day)\n",
    "\n",
    "[[1,1],\n",
    " [1,2],\n",
    " ...,\n",
    " [1,31],\n",
    " [2,1],\n",
    " ...,\n",
    " [2,28],\n",
    " ...,\n",
    " [12,31],\n",
    "]\n",
    "```"
   ]
  },
  {
   "cell_type": "code",
   "execution_count": 6,
   "id": "df83fff4",
   "metadata": {},
   "outputs": [],
   "source": [
    "JAN = 1\n",
    "FEB = 2\n",
    "MAR = 3\n",
    "APR = 4\n",
    "MAY = 5\n",
    "JUN = 6\n",
    "JUL = 7\n",
    "AUG = 8\n",
    "SEP = 9\n",
    "OCT = 10\n",
    "NOV = 11\n",
    "DEC = 12\n",
    "\n",
    "SPRING = 0\n",
    "SUMMER = 1\n",
    "AUTUMN = 2\n",
    "WINTER = 3\n",
    "\n",
    "season_to_id = {\n",
    "    \"spring\": 0,\n",
    "    \"summer\": 1,\n",
    "    \"autumn\": 2,\n",
    "    \"winter\": 3,\n",
    "}\n",
    "\n",
    "SEED = 20\n"
   ]
  },
  {
   "cell_type": "raw",
   "id": "0b78362c",
   "metadata": {},
   "source": [
    "D_month_BigMonth = {\n",
    "    JAN: 1,\n",
    "    FEB: -1,\n",
    "    MAR: 1,\n",
    "    APR: 0,\n",
    "    MAY: 1,\n",
    "    JUN: 0,\n",
    "    JUL: 1,\n",
    "    AUG: 1, \n",
    "    SEP: 0,\n",
    "    OCT: 1,\n",
    "    NOV: 0,\n",
    "    DEC: 1,\n",
    "}\n",
    "\n",
    "# Verify if this gives 365 days in one year.\n",
    "somme = 0\n",
    "for indicator in D_month_BigMonth.values():\n",
    "    if indicator == 1:\n",
    "        somme += 31\n",
    "    elif indicator == 0:\n",
    "        somme += 30\n",
    "    elif indicator == -1:\n",
    "        somme += 28\n",
    "somme"
   ]
  },
  {
   "cell_type": "raw",
   "id": "3d5a880e",
   "metadata": {},
   "source": [
    "def n_days_in(month):\n",
    "    indicator = D_month_BigMonth[month]\n",
    "    if indicator == 1:\n",
    "        return 31\n",
    "    elif indicator == 0:\n",
    "        return 30\n",
    "    elif indicator == -1:\n",
    "        return 28"
   ]
  },
  {
   "cell_type": "markdown",
   "id": "cc35de13",
   "metadata": {},
   "source": [
    "I don't know what happened to me last week, but the above way to access the number of days in some month is less efficient than simply using a dictionary."
   ]
  },
  {
   "cell_type": "code",
   "execution_count": 7,
   "id": "e6bab112",
   "metadata": {},
   "outputs": [],
   "source": [
    "ndays_big = 31\n",
    "ndays_small = 30\n",
    "ndays_feb = 28\n",
    "\n",
    "D_month_ndays = {\n",
    "    JAN: ndays_big,\n",
    "    FEB: ndays_feb,\n",
    "    MAR: ndays_big,\n",
    "    APR: ndays_small,\n",
    "    MAY: ndays_big,\n",
    "    JUN: ndays_small,\n",
    "    JUL: ndays_big,\n",
    "    AUG: ndays_big, \n",
    "    SEP: ndays_small,\n",
    "    OCT: ndays_big,\n",
    "    NOV: ndays_small,\n",
    "    DEC: ndays_big,\n",
    "}"
   ]
  },
  {
   "cell_type": "code",
   "execution_count": 8,
   "id": "02873b19",
   "metadata": {},
   "outputs": [
    {
     "data": {
      "text/plain": [
       "365"
      ]
     },
     "execution_count": 8,
     "metadata": {},
     "output_type": "execute_result"
    }
   ],
   "source": [
    "# Similarly, we verify if there are 365 days in a year\n",
    "sum(D_month_ndays.values())"
   ]
  },
  {
   "cell_type": "raw",
   "id": "61530320",
   "metadata": {},
   "source": [
    "L_month_day = [[0, 0] for _ in range(365)]\n",
    "len(L_month_day), len(L_month_day[-1])"
   ]
  },
  {
   "cell_type": "code",
   "execution_count": 9,
   "id": "a5fb6a36",
   "metadata": {},
   "outputs": [],
   "source": [
    "L_month_day = []\n",
    "for month in (JAN, FEB, MAR, APR, MAY, JUN, JUL, AUG, SEP, OCT, NOV, DEC,):\n",
    "    #L = [[month, i] for i in range(1, n_days_in(month)+1)]\n",
    "    L = [[month, i] for i in range(1, D_month_ndays[month]+1)]\n",
    "    L_month_day.extend(L)"
   ]
  },
  {
   "cell_type": "code",
   "execution_count": 10,
   "id": "ad92093d",
   "metadata": {},
   "outputs": [
    {
     "data": {
      "text/plain": [
       "[[1, 1],\n",
       " [1, 2],\n",
       " [1, 3],\n",
       " [1, 4],\n",
       " [1, 5],\n",
       " [1, 6],\n",
       " [1, 7],\n",
       " [1, 8],\n",
       " [1, 9],\n",
       " [1, 10],\n",
       " [1, 11],\n",
       " [1, 12],\n",
       " [1, 13],\n",
       " [1, 14],\n",
       " [1, 15],\n",
       " [1, 16],\n",
       " [1, 17],\n",
       " [1, 18],\n",
       " [1, 19],\n",
       " [1, 20],\n",
       " [1, 21],\n",
       " [1, 22],\n",
       " [1, 23],\n",
       " [1, 24],\n",
       " [1, 25],\n",
       " [1, 26],\n",
       " [1, 27],\n",
       " [1, 28],\n",
       " [1, 29],\n",
       " [1, 30],\n",
       " [1, 31]]"
      ]
     },
     "execution_count": 10,
     "metadata": {},
     "output_type": "execute_result"
    }
   ],
   "source": [
    "#i = np.random.randint(JAN, DEC+1)\n",
    "#L_month_day[-31:]\n",
    "L_month_day[:31]"
   ]
  },
  {
   "cell_type": "code",
   "execution_count": 11,
   "id": "c6220fe3",
   "metadata": {},
   "outputs": [
    {
     "data": {
      "text/plain": [
       "365"
      ]
     },
     "execution_count": 11,
     "metadata": {},
     "output_type": "execute_result"
    }
   ],
   "source": [
    "len(L_month_day)"
   ]
  },
  {
   "cell_type": "code",
   "execution_count": 12,
   "id": "c02ad415",
   "metadata": {
    "scrolled": true
   },
   "outputs": [
    {
     "data": {
      "text/plain": [
       "[3, 3, 0, 0, 0, 1, 1, 1, 2, 2, 2, 3]"
      ]
     },
     "execution_count": 12,
     "metadata": {},
     "output_type": "execute_result"
    }
   ],
   "source": [
    "y_rule1 = []\n",
    "for month, _ in L_month_day:\n",
    "    if MAR <= month <= MAY:\n",
    "        y_rule1.append(SPRING)\n",
    "    elif JUN <= month <= AUG:\n",
    "        y_rule1.append(SUMMER)\n",
    "    elif SEP <= month <= NOV:\n",
    "        y_rule1.append(AUTUMN)\n",
    "    else:\n",
    "        y_rule1.append(WINTER)\n",
    "y_rule1[0:-1:31]"
   ]
  },
  {
   "cell_type": "code",
   "execution_count": 13,
   "id": "dfaeee0d",
   "metadata": {},
   "outputs": [
    {
     "data": {
      "text/plain": [
       "(dtype('int64'), (365, 2))"
      ]
     },
     "execution_count": 13,
     "metadata": {},
     "output_type": "execute_result"
    }
   ],
   "source": [
    "X = np.array(L_month_day)\n",
    "X.dtype, X.shape"
   ]
  },
  {
   "cell_type": "markdown",
   "id": "b535c16f",
   "metadata": {},
   "source": [
    "## How to Split Train/Test sets?"
   ]
  },
  {
   "cell_type": "code",
   "execution_count": 14,
   "id": "89174e8a",
   "metadata": {},
   "outputs": [],
   "source": [
    "from sklearn.model_selection import StratifiedShuffleSplit"
   ]
  },
  {
   "cell_type": "markdown",
   "id": "116966ca",
   "metadata": {},
   "source": [
    "**(?)** What is the `n_splits` for?<br>"
   ]
  },
  {
   "cell_type": "raw",
   "id": "c5baf10b",
   "metadata": {},
   "source": [
    "help(StratifiedShuffleSplit)"
   ]
  },
  {
   "cell_type": "code",
   "execution_count": 15,
   "id": "0191629d",
   "metadata": {},
   "outputs": [],
   "source": [
    "y_rule1 = np.array(y_rule1)"
   ]
  },
  {
   "cell_type": "code",
   "execution_count": 16,
   "id": "c8cb2265",
   "metadata": {},
   "outputs": [],
   "source": [
    "split = StratifiedShuffleSplit(n_splits=3, test_size=0.2, random_state=SEED)\n",
    "for train_indices, test_indices in split.split(X, X[:, 0]):\n",
    "    X_train_raw = X[train_indices, :]\n",
    "    X_test_raw = X[test_indices, :]\n",
    "    y_rule1_train = y_rule1[train_indices]\n",
    "    y_rule1_test = y_rule1[test_indices]"
   ]
  },
  {
   "cell_type": "markdown",
   "id": "75bf2bd1",
   "metadata": {},
   "source": [
    "**(?)** Did you notice that the syntax for the `split.split` above is somewhat diff from what we are used to?"
   ]
  },
  {
   "cell_type": "raw",
   "id": "b5346a85",
   "metadata": {},
   "source": [
    "split = StratifiedShuffleSplit(n_splits=3, test_size=0.2, random_state=SEED)\n",
    "train_indices, test_indices = split.split(X, X[:, 0])\n",
    "print(f\"type(test_indices) = {type(test_indices)}\")\n",
    "test_indices"
   ]
  },
  {
   "cell_type": "raw",
   "id": "5c22b981",
   "metadata": {},
   "source": [
    "ValueError: too many values to unpack (expected 2)"
   ]
  },
  {
   "cell_type": "code",
   "execution_count": 17,
   "id": "35cb03fe",
   "metadata": {},
   "outputs": [
    {
     "data": {
      "text/plain": [
       "array([ 95, 255, 146, 339, 152,  93, 349,  27, 264, 127,  87, 136, 260,\n",
       "        36, 156, 230,  50, 253, 257, 205, 222,  73, 211, 238,  19, 128,\n",
       "       358, 319, 299, 101, 111, 302,   5, 213, 310, 151, 174,  45, 321,\n",
       "       138, 282,  43,  20, 194, 229, 361, 326, 242, 313, 274, 108, 208,\n",
       "        57,  76, 132, 116, 311, 297, 240, 179, 280,  10, 243, 209, 184,\n",
       "        79, 173, 350,  37,  63,  74, 344,   6])"
      ]
     },
     "execution_count": 17,
     "metadata": {},
     "output_type": "execute_result"
    }
   ],
   "source": [
    "test_indices"
   ]
  },
  {
   "cell_type": "code",
   "execution_count": 18,
   "id": "7bf015e8",
   "metadata": {},
   "outputs": [
    {
     "data": {
      "text/plain": [
       "(73,)"
      ]
     },
     "execution_count": 18,
     "metadata": {},
     "output_type": "execute_result"
    }
   ],
   "source": [
    "test_indices.shape"
   ]
  },
  {
   "cell_type": "code",
   "execution_count": 19,
   "id": "1e276b78",
   "metadata": {},
   "outputs": [
    {
     "data": {
      "text/plain": [
       "73"
      ]
     },
     "execution_count": 19,
     "metadata": {},
     "output_type": "execute_result"
    }
   ],
   "source": [
    "int(365 * 0.2)"
   ]
  },
  {
   "cell_type": "code",
   "execution_count": 20,
   "id": "0f4d7c4b",
   "metadata": {},
   "outputs": [
    {
     "data": {
      "text/plain": [
       "((292, 2), (73, 2))"
      ]
     },
     "execution_count": 20,
     "metadata": {},
     "output_type": "execute_result"
    }
   ],
   "source": [
    "X_train_raw.shape, X_test_raw.shape"
   ]
  },
  {
   "cell_type": "code",
   "execution_count": 21,
   "id": "175d532c",
   "metadata": {},
   "outputs": [],
   "source": [
    "import pandas as pd"
   ]
  },
  {
   "cell_type": "code",
   "execution_count": 22,
   "id": "682c0246",
   "metadata": {},
   "outputs": [
    {
     "data": {
      "text/html": [
       "<div>\n",
       "<style scoped>\n",
       "    .dataframe tbody tr th:only-of-type {\n",
       "        vertical-align: middle;\n",
       "    }\n",
       "\n",
       "    .dataframe tbody tr th {\n",
       "        vertical-align: top;\n",
       "    }\n",
       "\n",
       "    .dataframe thead th {\n",
       "        text-align: right;\n",
       "    }\n",
       "</style>\n",
       "<table border=\"1\" class=\"dataframe\">\n",
       "  <thead>\n",
       "    <tr style=\"text-align: right;\">\n",
       "      <th></th>\n",
       "      <th>month</th>\n",
       "      <th>day</th>\n",
       "    </tr>\n",
       "  </thead>\n",
       "  <tbody>\n",
       "    <tr>\n",
       "      <th>0</th>\n",
       "      <td>4</td>\n",
       "      <td>6</td>\n",
       "    </tr>\n",
       "    <tr>\n",
       "      <th>1</th>\n",
       "      <td>9</td>\n",
       "      <td>13</td>\n",
       "    </tr>\n",
       "    <tr>\n",
       "      <th>2</th>\n",
       "      <td>5</td>\n",
       "      <td>27</td>\n",
       "    </tr>\n",
       "    <tr>\n",
       "      <th>3</th>\n",
       "      <td>12</td>\n",
       "      <td>6</td>\n",
       "    </tr>\n",
       "    <tr>\n",
       "      <th>4</th>\n",
       "      <td>6</td>\n",
       "      <td>2</td>\n",
       "    </tr>\n",
       "    <tr>\n",
       "      <th>...</th>\n",
       "      <td>...</td>\n",
       "      <td>...</td>\n",
       "    </tr>\n",
       "    <tr>\n",
       "      <th>68</th>\n",
       "      <td>2</td>\n",
       "      <td>7</td>\n",
       "    </tr>\n",
       "    <tr>\n",
       "      <th>69</th>\n",
       "      <td>3</td>\n",
       "      <td>5</td>\n",
       "    </tr>\n",
       "    <tr>\n",
       "      <th>70</th>\n",
       "      <td>3</td>\n",
       "      <td>16</td>\n",
       "    </tr>\n",
       "    <tr>\n",
       "      <th>71</th>\n",
       "      <td>12</td>\n",
       "      <td>11</td>\n",
       "    </tr>\n",
       "    <tr>\n",
       "      <th>72</th>\n",
       "      <td>1</td>\n",
       "      <td>7</td>\n",
       "    </tr>\n",
       "  </tbody>\n",
       "</table>\n",
       "<p>73 rows × 2 columns</p>\n",
       "</div>"
      ],
      "text/plain": [
       "    month  day\n",
       "0       4    6\n",
       "1       9   13\n",
       "2       5   27\n",
       "3      12    6\n",
       "4       6    2\n",
       "..    ...  ...\n",
       "68      2    7\n",
       "69      3    5\n",
       "70      3   16\n",
       "71     12   11\n",
       "72      1    7\n",
       "\n",
       "[73 rows x 2 columns]"
      ]
     },
     "execution_count": 22,
     "metadata": {},
     "output_type": "execute_result"
    }
   ],
   "source": [
    "df_X_test_raw = pd.DataFrame(X_test_raw, columns=[\"month\", \"day\",])\n",
    "df_X_test_raw"
   ]
  },
  {
   "cell_type": "code",
   "execution_count": 23,
   "id": "847e7fd6",
   "metadata": {},
   "outputs": [
    {
     "data": {
      "text/plain": [
       "8     7\n",
       "1     6\n",
       "2     6\n",
       "3     6\n",
       "4     6\n",
       "5     6\n",
       "6     6\n",
       "7     6\n",
       "9     6\n",
       "10    6\n",
       "11    6\n",
       "12    6\n",
       "Name: month, dtype: int64"
      ]
     },
     "execution_count": 23,
     "metadata": {},
     "output_type": "execute_result"
    }
   ],
   "source": [
    "df_X_test_raw[\"month\"].value_counts()"
   ]
  },
  {
   "cell_type": "code",
   "execution_count": 24,
   "id": "a527a7a1",
   "metadata": {},
   "outputs": [
    {
     "data": {
      "text/plain": [
       "1     31\n",
       "3     31\n",
       "5     31\n",
       "7     31\n",
       "8     31\n",
       "10    31\n",
       "12    31\n",
       "4     30\n",
       "6     30\n",
       "9     30\n",
       "11    30\n",
       "2     28\n",
       "Name: month, dtype: int64"
      ]
     },
     "execution_count": 24,
     "metadata": {},
     "output_type": "execute_result"
    }
   ],
   "source": [
    "df_X = pd.DataFrame(X, columns=[\"month\", \"day\"])\n",
    "df_X[\"month\"].value_counts()"
   ]
  },
  {
   "cell_type": "code",
   "execution_count": 25,
   "id": "1623cb12",
   "metadata": {},
   "outputs": [
    {
     "data": {
      "text/html": [
       "<div>\n",
       "<style scoped>\n",
       "    .dataframe tbody tr th:only-of-type {\n",
       "        vertical-align: middle;\n",
       "    }\n",
       "\n",
       "    .dataframe tbody tr th {\n",
       "        vertical-align: top;\n",
       "    }\n",
       "\n",
       "    .dataframe thead th {\n",
       "        text-align: right;\n",
       "    }\n",
       "</style>\n",
       "<table border=\"1\" class=\"dataframe\">\n",
       "  <thead>\n",
       "    <tr style=\"text-align: right;\">\n",
       "      <th></th>\n",
       "      <th>month</th>\n",
       "      <th>day</th>\n",
       "      <th>season_id</th>\n",
       "    </tr>\n",
       "  </thead>\n",
       "  <tbody>\n",
       "    <tr>\n",
       "      <th>0</th>\n",
       "      <td>4</td>\n",
       "      <td>6</td>\n",
       "      <td>0</td>\n",
       "    </tr>\n",
       "    <tr>\n",
       "      <th>1</th>\n",
       "      <td>9</td>\n",
       "      <td>13</td>\n",
       "      <td>2</td>\n",
       "    </tr>\n",
       "    <tr>\n",
       "      <th>2</th>\n",
       "      <td>5</td>\n",
       "      <td>27</td>\n",
       "      <td>0</td>\n",
       "    </tr>\n",
       "    <tr>\n",
       "      <th>3</th>\n",
       "      <td>12</td>\n",
       "      <td>6</td>\n",
       "      <td>3</td>\n",
       "    </tr>\n",
       "    <tr>\n",
       "      <th>4</th>\n",
       "      <td>6</td>\n",
       "      <td>2</td>\n",
       "      <td>1</td>\n",
       "    </tr>\n",
       "    <tr>\n",
       "      <th>...</th>\n",
       "      <td>...</td>\n",
       "      <td>...</td>\n",
       "      <td>...</td>\n",
       "    </tr>\n",
       "    <tr>\n",
       "      <th>68</th>\n",
       "      <td>2</td>\n",
       "      <td>7</td>\n",
       "      <td>3</td>\n",
       "    </tr>\n",
       "    <tr>\n",
       "      <th>69</th>\n",
       "      <td>3</td>\n",
       "      <td>5</td>\n",
       "      <td>0</td>\n",
       "    </tr>\n",
       "    <tr>\n",
       "      <th>70</th>\n",
       "      <td>3</td>\n",
       "      <td>16</td>\n",
       "      <td>0</td>\n",
       "    </tr>\n",
       "    <tr>\n",
       "      <th>71</th>\n",
       "      <td>12</td>\n",
       "      <td>11</td>\n",
       "      <td>3</td>\n",
       "    </tr>\n",
       "    <tr>\n",
       "      <th>72</th>\n",
       "      <td>1</td>\n",
       "      <td>7</td>\n",
       "      <td>3</td>\n",
       "    </tr>\n",
       "  </tbody>\n",
       "</table>\n",
       "<p>73 rows × 3 columns</p>\n",
       "</div>"
      ],
      "text/plain": [
       "    month  day  season_id\n",
       "0       4    6          0\n",
       "1       9   13          2\n",
       "2       5   27          0\n",
       "3      12    6          3\n",
       "4       6    2          1\n",
       "..    ...  ...        ...\n",
       "68      2    7          3\n",
       "69      3    5          0\n",
       "70      3   16          0\n",
       "71     12   11          3\n",
       "72      1    7          3\n",
       "\n",
       "[73 rows x 3 columns]"
      ]
     },
     "execution_count": 25,
     "metadata": {},
     "output_type": "execute_result"
    }
   ],
   "source": [
    "df_Xy_test_raw = pd.DataFrame(np.c_[X_test_raw, y_rule1_test], columns=[\"month\", \"day\", \"season_id\"])\n",
    "df_Xy_test_raw"
   ]
  },
  {
   "cell_type": "code",
   "execution_count": null,
   "id": "95e7afc6",
   "metadata": {},
   "outputs": [],
   "source": []
  },
  {
   "cell_type": "markdown",
   "id": "f3ed566b",
   "metadata": {},
   "source": [
    "## First Dataset, First Model\n",
    "Just take `X_train_raw` and `X_test_raw` to train a few ML models and see what that gives."
   ]
  },
  {
   "cell_type": "code",
   "execution_count": 26,
   "id": "120532d4",
   "metadata": {},
   "outputs": [],
   "source": [
    "from sklearn.linear_model import LogisticRegression\n",
    "from sklearn.tree import DecisionTreeClassifier\n",
    "from sklearn.svm import SVC\n",
    "from sklearn.ensemble import RandomForestClassifier\n",
    "\n",
    "from sklearn.metrics import accuracy_score, precision_score, recall_score"
   ]
  },
  {
   "cell_type": "code",
   "execution_count": 27,
   "id": "19b73eeb",
   "metadata": {},
   "outputs": [],
   "source": [
    "log_clf = LogisticRegression()\n",
    "tree_clf = DecisionTreeClassifier()\n",
    "#svm_clf = SVC(probability=True)\n",
    "svm_clf = SVC()\n",
    "rnd_clf = RandomForestClassifier()"
   ]
  },
  {
   "cell_type": "code",
   "execution_count": 34,
   "id": "c76c02d5",
   "metadata": {},
   "outputs": [
    {
     "name": "stdout",
     "output_type": "stream",
     "text": [
      "(LogisticRegression)\n",
      "acc = 0.64, precision = 0.57, recall = 0.64\n",
      "\n",
      "(DecisionTreeClassifier)\n",
      "acc = 1.00, precision = 1.00, recall = 1.00\n",
      "\n",
      "(SVC)\n",
      "acc = 0.82, precision = 0.87, recall = 0.82\n",
      "\n",
      "(RandomForestClassifier)\n",
      "acc = 1.00, precision = 1.00, recall = 1.00\n",
      "\n"
     ]
    }
   ],
   "source": [
    "for clf in (log_clf, tree_clf, svm_clf, rnd_clf):\n",
    "    clf.fit(X_train_raw, y_rule1_train)\n",
    "    y_pred = clf.predict(X_test_raw)\n",
    "    \n",
    "    acc = accuracy_score(y_rule1_test, y_pred)\n",
    "\n",
    "    ## ValueError: Target is multiclass but average='binary'. Please choose another average setting, one of [None, 'micro', 'macro', 'weighted'].\n",
    "    #precision = precision_score(y_rule1_test, y_pred)\n",
    "    ## TypeError: unsupported format string passed to numpy.ndarray.__format__\n",
    "    #precision = precision_score(y_rule1_test, y_pred, average=None)\n",
    "    precision = precision_score(y_rule1_test, y_pred, average=\"weighted\")\n",
    "\n",
    "    #recall = recall_score(y_rule1_test, y_pred)\n",
    "    #recall = recall_score(y_rule1_test, y_pred, average=None)\n",
    "    recall = recall_score(y_rule1_test, y_pred, average=\"weighted\")\n",
    "\n",
    "    print(f\"({clf.__class__.__name__})\\nacc = {acc:.2f}, precision = {precision:.2f}, recall = {recall:.2f}\\n\")\n"
   ]
  },
  {
   "cell_type": "code",
   "execution_count": 36,
   "id": "ece67b4b",
   "metadata": {
    "scrolled": true
   },
   "outputs": [
    {
     "name": "stdout",
     "output_type": "stream",
     "text": [
      "(LogisticRegression)\n",
      "acc = 0.64, precision = 0.64, recall = 0.64\n",
      "\n",
      "(DecisionTreeClassifier)\n",
      "acc = 1.00, precision = 1.00, recall = 1.00\n",
      "\n",
      "(SVC)\n",
      "acc = 0.88, precision = 0.88, recall = 0.88\n",
      "\n",
      "(RandomForestClassifier)\n",
      "acc = 1.00, precision = 1.00, recall = 1.00\n",
      "\n"
     ]
    }
   ],
   "source": [
    "# What about performance on the training data?\n",
    "for clf in (log_clf, tree_clf, svm_clf, rnd_clf):\n",
    "    clf.fit(X_train_raw, y_rule1_train)\n",
    "    y_pred = clf.predict(X_train_raw)\n",
    "    acc = accuracy_score(y_rule1_train, y_pred)\n",
    "    precision = precision_score(y_rule1_train, y_pred, average=\"micro\")\n",
    "    recall = recall_score(y_rule1_train, y_pred, average=\"micro\")    \n",
    "    print(f\"({clf.__class__.__name__})\\nacc = {acc:.2f}, precision = {precision:.2f}, recall = {recall:.2f}\\n\")"
   ]
  },
  {
   "cell_type": "markdown",
   "id": "1d16ecc5",
   "metadata": {},
   "source": [
    "We see that\n",
    "\n",
    "- Random forest performances perfectly. So does decision tree.\n",
    "\n",
    "Maybe the task is too simple. Even without taking the cyclic nature into consideration, some of the classifiers\n",
    "can already reach near perfect performance.\n"
   ]
  },
  {
   "cell_type": "markdown",
   "id": "05f612f9",
   "metadata": {},
   "source": [
    "# Season Dataset (Version 3)\n",
    "In this version, we will have exactly the same features like in version 2.<br>\n",
    "Only that we set a diff rule to increase the difficulty:\n",
    "\n",
    "- Spring: 15th March to 14th June (inclusive)\n",
    "- Summer: 15th June to 14th September\n",
    "- Autumn: 15th September to 14th December\n",
    "- Winter: 15th December to 14th March\n",
    "\n",
    "**N.B.** Note that we just need to create a new label, `y_rule2`. No need to modify `X`."
   ]
  },
  {
   "cell_type": "code",
   "execution_count": 43,
   "id": "38fd8040",
   "metadata": {},
   "outputs": [
    {
     "data": {
      "text/plain": [
       "[3, 3, 3, 0, 0, 0, 1, 1, 1, 2, 2, 2]"
      ]
     },
     "execution_count": 43,
     "metadata": {},
     "output_type": "execute_result"
    }
   ],
   "source": [
    "y_rule2 = []\n",
    "start = 15\n",
    "end = 14\n",
    "for month_day in L_month_day:\n",
    "    if [MAR,start] <= month_day <= [JUN,end]:\n",
    "        y_rule2.append(SPRING)\n",
    "    elif [JUN,start] <= month_day <= [SEP,end]:\n",
    "        y_rule2.append(SUMMER)\n",
    "    elif [SEP,start] <= month_day <= [DEC,end]:\n",
    "        y_rule2.append(AUTUMN)\n",
    "    else:\n",
    "        y_rule2.append(WINTER)\n",
    "\n",
    "y_rule2[0:-1:31]"
   ]
  },
  {
   "cell_type": "markdown",
   "id": "ce5c9ce2",
   "metadata": {},
   "source": [
    "### Let's verify the correctness"
   ]
  },
  {
   "cell_type": "code",
   "execution_count": 44,
   "id": "ddca0336",
   "metadata": {},
   "outputs": [
    {
     "data": {
      "text/plain": [
       "array([[ 1, 31,  3],\n",
       "       [ 2,  1,  3],\n",
       "       [ 2,  2,  3],\n",
       "       ...,\n",
       "       [12, 28,  3],\n",
       "       [12, 29,  3],\n",
       "       [12, 30,  3]])"
      ]
     },
     "execution_count": 44,
     "metadata": {},
     "output_type": "execute_result"
    }
   ],
   "source": [
    "np.c_[L_month_day, y_rule2][30:-1]"
   ]
  },
  {
   "cell_type": "code",
   "execution_count": 45,
   "id": "0becce3b",
   "metadata": {},
   "outputs": [
    {
     "data": {
      "text/plain": [
       "array([[ 2,  1,  3],\n",
       "       [ 2,  2,  3],\n",
       "       [ 2,  3,  3],\n",
       "       [ 2,  4,  3],\n",
       "       [ 2,  5,  3],\n",
       "       [ 2,  6,  3],\n",
       "       [ 2,  7,  3],\n",
       "       [ 2,  8,  3],\n",
       "       [ 2,  9,  3],\n",
       "       [ 2, 10,  3],\n",
       "       [ 2, 11,  3],\n",
       "       [ 2, 12,  3],\n",
       "       [ 2, 13,  3],\n",
       "       [ 2, 14,  3],\n",
       "       [ 2, 15,  3],\n",
       "       [ 2, 16,  3],\n",
       "       [ 2, 17,  3],\n",
       "       [ 2, 18,  3],\n",
       "       [ 2, 19,  3],\n",
       "       [ 2, 20,  3],\n",
       "       [ 2, 21,  3],\n",
       "       [ 2, 22,  3],\n",
       "       [ 2, 23,  3],\n",
       "       [ 2, 24,  3],\n",
       "       [ 2, 25,  3],\n",
       "       [ 2, 26,  3],\n",
       "       [ 2, 27,  3],\n",
       "       [ 2, 28,  3],\n",
       "       [ 3,  1,  3],\n",
       "       [ 3,  2,  3],\n",
       "       [ 3,  3,  3],\n",
       "       [ 3,  4,  3],\n",
       "       [ 3,  5,  3],\n",
       "       [ 3,  6,  3],\n",
       "       [ 3,  7,  3],\n",
       "       [ 3,  8,  3],\n",
       "       [ 3,  9,  3],\n",
       "       [ 3, 10,  3],\n",
       "       [ 3, 11,  3],\n",
       "       [ 3, 12,  3],\n",
       "       [ 3, 13,  3],\n",
       "       [ 3, 14,  3],\n",
       "       [ 3, 15,  0],\n",
       "       [ 3, 16,  0],\n",
       "       [ 3, 17,  0],\n",
       "       [ 3, 18,  0],\n",
       "       [ 3, 19,  0],\n",
       "       [ 3, 20,  0],\n",
       "       [ 3, 21,  0],\n",
       "       [ 3, 22,  0],\n",
       "       [ 3, 23,  0],\n",
       "       [ 3, 24,  0],\n",
       "       [ 3, 25,  0],\n",
       "       [ 3, 26,  0],\n",
       "       [ 3, 27,  0],\n",
       "       [ 3, 28,  0],\n",
       "       [ 3, 29,  0],\n",
       "       [ 3, 30,  0],\n",
       "       [ 3, 31,  0],\n",
       "       [ 4,  1,  0],\n",
       "       [ 4,  2,  0],\n",
       "       [ 4,  3,  0],\n",
       "       [ 4,  4,  0],\n",
       "       [ 4,  5,  0],\n",
       "       [ 4,  6,  0],\n",
       "       [ 4,  7,  0],\n",
       "       [ 4,  8,  0],\n",
       "       [ 4,  9,  0],\n",
       "       [ 4, 10,  0],\n",
       "       [ 4, 11,  0],\n",
       "       [ 4, 12,  0],\n",
       "       [ 4, 13,  0],\n",
       "       [ 4, 14,  0],\n",
       "       [ 4, 15,  0],\n",
       "       [ 4, 16,  0],\n",
       "       [ 4, 17,  0],\n",
       "       [ 4, 18,  0],\n",
       "       [ 4, 19,  0],\n",
       "       [ 4, 20,  0],\n",
       "       [ 4, 21,  0],\n",
       "       [ 4, 22,  0],\n",
       "       [ 4, 23,  0],\n",
       "       [ 4, 24,  0],\n",
       "       [ 4, 25,  0],\n",
       "       [ 4, 26,  0],\n",
       "       [ 4, 27,  0],\n",
       "       [ 4, 28,  0],\n",
       "       [ 4, 29,  0],\n",
       "       [ 4, 30,  0],\n",
       "       [ 5,  1,  0],\n",
       "       [ 5,  2,  0],\n",
       "       [ 5,  3,  0],\n",
       "       [ 5,  4,  0],\n",
       "       [ 5,  5,  0],\n",
       "       [ 5,  6,  0],\n",
       "       [ 5,  7,  0],\n",
       "       [ 5,  8,  0],\n",
       "       [ 5,  9,  0],\n",
       "       [ 5, 10,  0],\n",
       "       [ 5, 11,  0],\n",
       "       [ 5, 12,  0],\n",
       "       [ 5, 13,  0],\n",
       "       [ 5, 14,  0],\n",
       "       [ 5, 15,  0],\n",
       "       [ 5, 16,  0],\n",
       "       [ 5, 17,  0],\n",
       "       [ 5, 18,  0],\n",
       "       [ 5, 19,  0],\n",
       "       [ 5, 20,  0],\n",
       "       [ 5, 21,  0],\n",
       "       [ 5, 22,  0],\n",
       "       [ 5, 23,  0],\n",
       "       [ 5, 24,  0],\n",
       "       [ 5, 25,  0],\n",
       "       [ 5, 26,  0],\n",
       "       [ 5, 27,  0],\n",
       "       [ 5, 28,  0],\n",
       "       [ 5, 29,  0],\n",
       "       [ 5, 30,  0],\n",
       "       [ 5, 31,  0],\n",
       "       [ 6,  1,  0],\n",
       "       [ 6,  2,  0],\n",
       "       [ 6,  3,  0],\n",
       "       [ 6,  4,  0],\n",
       "       [ 6,  5,  0],\n",
       "       [ 6,  6,  0],\n",
       "       [ 6,  7,  0],\n",
       "       [ 6,  8,  0],\n",
       "       [ 6,  9,  0],\n",
       "       [ 6, 10,  0],\n",
       "       [ 6, 11,  0],\n",
       "       [ 6, 12,  0],\n",
       "       [ 6, 13,  0],\n",
       "       [ 6, 14,  0],\n",
       "       [ 6, 15,  1],\n",
       "       [ 6, 16,  1],\n",
       "       [ 6, 17,  1],\n",
       "       [ 6, 18,  1],\n",
       "       [ 6, 19,  1],\n",
       "       [ 6, 20,  1],\n",
       "       [ 6, 21,  1],\n",
       "       [ 6, 22,  1],\n",
       "       [ 6, 23,  1],\n",
       "       [ 6, 24,  1],\n",
       "       [ 6, 25,  1],\n",
       "       [ 6, 26,  1],\n",
       "       [ 6, 27,  1],\n",
       "       [ 6, 28,  1],\n",
       "       [ 6, 29,  1],\n",
       "       [ 6, 30,  1],\n",
       "       [ 7,  1,  1],\n",
       "       [ 7,  2,  1],\n",
       "       [ 7,  3,  1],\n",
       "       [ 7,  4,  1],\n",
       "       [ 7,  5,  1],\n",
       "       [ 7,  6,  1],\n",
       "       [ 7,  7,  1],\n",
       "       [ 7,  8,  1],\n",
       "       [ 7,  9,  1],\n",
       "       [ 7, 10,  1],\n",
       "       [ 7, 11,  1],\n",
       "       [ 7, 12,  1],\n",
       "       [ 7, 13,  1],\n",
       "       [ 7, 14,  1],\n",
       "       [ 7, 15,  1],\n",
       "       [ 7, 16,  1],\n",
       "       [ 7, 17,  1],\n",
       "       [ 7, 18,  1],\n",
       "       [ 7, 19,  1],\n",
       "       [ 7, 20,  1],\n",
       "       [ 7, 21,  1],\n",
       "       [ 7, 22,  1],\n",
       "       [ 7, 23,  1],\n",
       "       [ 7, 24,  1],\n",
       "       [ 7, 25,  1],\n",
       "       [ 7, 26,  1],\n",
       "       [ 7, 27,  1],\n",
       "       [ 7, 28,  1],\n",
       "       [ 7, 29,  1],\n",
       "       [ 7, 30,  1],\n",
       "       [ 7, 31,  1],\n",
       "       [ 8,  1,  1],\n",
       "       [ 8,  2,  1],\n",
       "       [ 8,  3,  1],\n",
       "       [ 8,  4,  1],\n",
       "       [ 8,  5,  1],\n",
       "       [ 8,  6,  1],\n",
       "       [ 8,  7,  1],\n",
       "       [ 8,  8,  1],\n",
       "       [ 8,  9,  1],\n",
       "       [ 8, 10,  1],\n",
       "       [ 8, 11,  1],\n",
       "       [ 8, 12,  1],\n",
       "       [ 8, 13,  1],\n",
       "       [ 8, 14,  1],\n",
       "       [ 8, 15,  1],\n",
       "       [ 8, 16,  1],\n",
       "       [ 8, 17,  1],\n",
       "       [ 8, 18,  1],\n",
       "       [ 8, 19,  1],\n",
       "       [ 8, 20,  1],\n",
       "       [ 8, 21,  1],\n",
       "       [ 8, 22,  1],\n",
       "       [ 8, 23,  1],\n",
       "       [ 8, 24,  1],\n",
       "       [ 8, 25,  1],\n",
       "       [ 8, 26,  1],\n",
       "       [ 8, 27,  1],\n",
       "       [ 8, 28,  1],\n",
       "       [ 8, 29,  1],\n",
       "       [ 8, 30,  1],\n",
       "       [ 8, 31,  1],\n",
       "       [ 9,  1,  1],\n",
       "       [ 9,  2,  1],\n",
       "       [ 9,  3,  1],\n",
       "       [ 9,  4,  1],\n",
       "       [ 9,  5,  1],\n",
       "       [ 9,  6,  1],\n",
       "       [ 9,  7,  1],\n",
       "       [ 9,  8,  1],\n",
       "       [ 9,  9,  1],\n",
       "       [ 9, 10,  1],\n",
       "       [ 9, 11,  1],\n",
       "       [ 9, 12,  1],\n",
       "       [ 9, 13,  1],\n",
       "       [ 9, 14,  1],\n",
       "       [ 9, 15,  2],\n",
       "       [ 9, 16,  2],\n",
       "       [ 9, 17,  2],\n",
       "       [ 9, 18,  2],\n",
       "       [ 9, 19,  2],\n",
       "       [ 9, 20,  2],\n",
       "       [ 9, 21,  2],\n",
       "       [ 9, 22,  2],\n",
       "       [ 9, 23,  2],\n",
       "       [ 9, 24,  2],\n",
       "       [ 9, 25,  2],\n",
       "       [ 9, 26,  2],\n",
       "       [ 9, 27,  2],\n",
       "       [ 9, 28,  2],\n",
       "       [ 9, 29,  2],\n",
       "       [ 9, 30,  2],\n",
       "       [10,  1,  2],\n",
       "       [10,  2,  2],\n",
       "       [10,  3,  2],\n",
       "       [10,  4,  2],\n",
       "       [10,  5,  2],\n",
       "       [10,  6,  2],\n",
       "       [10,  7,  2],\n",
       "       [10,  8,  2],\n",
       "       [10,  9,  2],\n",
       "       [10, 10,  2],\n",
       "       [10, 11,  2],\n",
       "       [10, 12,  2],\n",
       "       [10, 13,  2],\n",
       "       [10, 14,  2],\n",
       "       [10, 15,  2],\n",
       "       [10, 16,  2],\n",
       "       [10, 17,  2],\n",
       "       [10, 18,  2],\n",
       "       [10, 19,  2],\n",
       "       [10, 20,  2],\n",
       "       [10, 21,  2],\n",
       "       [10, 22,  2],\n",
       "       [10, 23,  2],\n",
       "       [10, 24,  2],\n",
       "       [10, 25,  2],\n",
       "       [10, 26,  2],\n",
       "       [10, 27,  2],\n",
       "       [10, 28,  2],\n",
       "       [10, 29,  2],\n",
       "       [10, 30,  2],\n",
       "       [10, 31,  2],\n",
       "       [11,  1,  2],\n",
       "       [11,  2,  2],\n",
       "       [11,  3,  2],\n",
       "       [11,  4,  2],\n",
       "       [11,  5,  2],\n",
       "       [11,  6,  2],\n",
       "       [11,  7,  2],\n",
       "       [11,  8,  2],\n",
       "       [11,  9,  2],\n",
       "       [11, 10,  2],\n",
       "       [11, 11,  2],\n",
       "       [11, 12,  2],\n",
       "       [11, 13,  2],\n",
       "       [11, 14,  2],\n",
       "       [11, 15,  2],\n",
       "       [11, 16,  2],\n",
       "       [11, 17,  2],\n",
       "       [11, 18,  2],\n",
       "       [11, 19,  2],\n",
       "       [11, 20,  2],\n",
       "       [11, 21,  2],\n",
       "       [11, 22,  2],\n",
       "       [11, 23,  2],\n",
       "       [11, 24,  2],\n",
       "       [11, 25,  2],\n",
       "       [11, 26,  2],\n",
       "       [11, 27,  2],\n",
       "       [11, 28,  2],\n",
       "       [11, 29,  2],\n",
       "       [11, 30,  2],\n",
       "       [12,  1,  2],\n",
       "       [12,  2,  2],\n",
       "       [12,  3,  2],\n",
       "       [12,  4,  2],\n",
       "       [12,  5,  2],\n",
       "       [12,  6,  2],\n",
       "       [12,  7,  2],\n",
       "       [12,  8,  2],\n",
       "       [12,  9,  2],\n",
       "       [12, 10,  2],\n",
       "       [12, 11,  2],\n",
       "       [12, 12,  2],\n",
       "       [12, 13,  2],\n",
       "       [12, 14,  2],\n",
       "       [12, 15,  3],\n",
       "       [12, 16,  3],\n",
       "       [12, 17,  3],\n",
       "       [12, 18,  3],\n",
       "       [12, 19,  3],\n",
       "       [12, 20,  3],\n",
       "       [12, 21,  3],\n",
       "       [12, 22,  3],\n",
       "       [12, 23,  3],\n",
       "       [12, 24,  3],\n",
       "       [12, 25,  3],\n",
       "       [12, 26,  3],\n",
       "       [12, 27,  3],\n",
       "       [12, 28,  3],\n",
       "       [12, 29,  3],\n",
       "       [12, 30,  3]])"
      ]
     },
     "execution_count": 45,
     "metadata": {},
     "output_type": "execute_result"
    }
   ],
   "source": [
    "np.c_[L_month_day, y_rule2][31:-1]"
   ]
  },
  {
   "cell_type": "code",
   "execution_count": 46,
   "id": "24205e82",
   "metadata": {},
   "outputs": [],
   "source": [
    "y_rule2 = np.array(y_rule2)"
   ]
  },
  {
   "cell_type": "code",
   "execution_count": 47,
   "id": "4e9ec218",
   "metadata": {},
   "outputs": [],
   "source": [
    "y_rule2_train = y_rule2[train_indices]\n",
    "y_rule2_test = y_rule2[test_indices]"
   ]
  },
  {
   "cell_type": "code",
   "execution_count": 49,
   "id": "1259deeb",
   "metadata": {},
   "outputs": [
    {
     "name": "stdout",
     "output_type": "stream",
     "text": [
      "(LogisticRegression)\n",
      "acc = 0.71, precision = 0.71, recall = 0.71\n",
      "\n",
      "(DecisionTreeClassifier)\n",
      "acc = 0.97, precision = 0.97, recall = 0.97\n",
      "\n",
      "(SVC)\n",
      "acc = 0.86, precision = 0.86, recall = 0.86\n",
      "\n",
      "(RandomForestClassifier)\n",
      "acc = 0.99, precision = 0.99, recall = 0.99\n",
      "\n"
     ]
    }
   ],
   "source": [
    "for clf in (log_clf, tree_clf, svm_clf, rnd_clf):\n",
    "    clf.fit(X_train_raw, y_rule2_train)\n",
    "    y_pred = clf.predict(X_test_raw)\n",
    "    acc = accuracy_score(y_rule2_test, y_pred)\n",
    "    precision = precision_score(y_rule2_test, y_pred, average=\"micro\")\n",
    "    recall = recall_score(y_rule2_test, y_pred, average=\"micro\")    \n",
    "    print(f\"({clf.__class__.__name__})\\nacc = {acc:.2f}, precision = {precision:.2f}, recall = {recall:.2f}\\n\")"
   ]
  },
  {
   "cell_type": "code",
   "execution_count": 51,
   "id": "168b3519",
   "metadata": {},
   "outputs": [
    {
     "name": "stdout",
     "output_type": "stream",
     "text": [
      "(LogisticRegression)\n",
      "acc = 0.74, precision = 0.74, recall = 0.74\n",
      "\n",
      "(DecisionTreeClassifier)\n",
      "acc = 1.00, precision = 1.00, recall = 1.00\n",
      "\n",
      "(SVC)\n",
      "acc = 0.91, precision = 0.91, recall = 0.91\n",
      "\n",
      "(RandomForestClassifier)\n",
      "acc = 1.00, precision = 1.00, recall = 1.00\n",
      "\n"
     ]
    }
   ],
   "source": [
    "# On training set\n",
    "for clf in (log_clf, tree_clf, svm_clf, rnd_clf):\n",
    "    y_pred = clf.predict(X_train_raw)\n",
    "    acc = accuracy_score(y_rule2_train, y_pred)\n",
    "    precision = precision_score(y_rule2_train, y_pred, average=\"micro\")\n",
    "    recall = recall_score(y_rule2_train, y_pred, average=\"micro\")    \n",
    "    print(f\"({clf.__class__.__name__})\\nacc = {acc:.2f}, precision = {precision:.2f}, recall = {recall:.2f}\\n\")"
   ]
  },
  {
   "cell_type": "markdown",
   "id": "fde85247",
   "metadata": {},
   "source": [
    "In this case, our random forest classifier is no longer perfect.\n",
    "\n",
    "Let's see whether incorporating the cyclic nature improves the situation."
   ]
  },
  {
   "cell_type": "markdown",
   "id": "070c3bbc",
   "metadata": {},
   "source": [
    "## Cyclic Nature"
   ]
  },
  {
   "cell_type": "code",
   "execution_count": null,
   "id": "0234ba59",
   "metadata": {},
   "outputs": [],
   "source": []
  },
  {
   "cell_type": "code",
   "execution_count": null,
   "id": "eea1954e",
   "metadata": {},
   "outputs": [],
   "source": []
  }
 ],
 "metadata": {
  "kernelspec": {
   "display_name": "Python 3",
   "language": "python",
   "name": "python3"
  },
  "language_info": {
   "codemirror_mode": {
    "name": "ipython",
    "version": 3
   },
   "file_extension": ".py",
   "mimetype": "text/x-python",
   "name": "python",
   "nbconvert_exporter": "python",
   "pygments_lexer": "ipython3",
   "version": "3.7.10"
  }
 },
 "nbformat": 4,
 "nbformat_minor": 5
}
