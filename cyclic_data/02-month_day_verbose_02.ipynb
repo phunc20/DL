{
 "cells": [
  {
   "cell_type": "code",
   "execution_count": 150,
   "id": "7bf15564",
   "metadata": {},
   "outputs": [],
   "source": [
    "import numpy as np\n",
    "import matplotlib as mpl\n",
    "import matplotlib.pyplot as plt\n",
    "from matplotlib.colors import ListedColormap"
   ]
  },
  {
   "cell_type": "code",
   "execution_count": 151,
   "id": "f4cb03a7",
   "metadata": {},
   "outputs": [],
   "source": [
    "mpl.rc('axes', labelsize=14)\n",
    "mpl.rc('xtick', labelsize=12)\n",
    "mpl.rc('ytick', labelsize=12)\n",
    "\n",
    "DARK_READER = True\n",
    "if DARK_READER:\n",
    "    plt.rcParams.update({\n",
    "        \"lines.color\": \"white\",\n",
    "        \"patch.edgecolor\": \"white\",\n",
    "        \"text.color\": \"black\",\n",
    "        \"axes.facecolor\": \"black\",\n",
    "        \"axes.edgecolor\": \"lightgray\",\n",
    "        \"axes.labelcolor\": \"white\",\n",
    "        \"xtick.color\": \"white\",\n",
    "        \"ytick.color\": \"white\",\n",
    "        \"grid.color\": \"lightgray\",\n",
    "        \"figure.facecolor\": \"black\",\n",
    "        \"figure.edgecolor\": \"black\",\n",
    "        \"savefig.facecolor\": \"black\",\n",
    "        \"savefig.edgecolor\": \"black\",\n",
    "    })"
   ]
  },
  {
   "cell_type": "markdown",
   "id": "dceae51e",
   "metadata": {},
   "source": [
    "# Season Dataset (Version 2)\n",
    "In this version, we will have the `month` feature like in version 1. In addition to that, we have added a new `day` feature.\n",
    "It is still a model for the seasons in Northern semisphere, and\n",
    "we set the following rule:\n",
    "\n",
    "- Spring: 1st March to end May (inclusive)\n",
    "- Summer: 1st June to end August\n",
    "- Autumn: 1st September to end November\n",
    "- Winter: 1st December to end February"
   ]
  },
  {
   "cell_type": "markdown",
   "id": "2816caf9",
   "metadata": {},
   "source": [
    "Let's make a list named `L_month_day` as follows:\n",
    "\n",
    "```python\n",
    "print(L_month_day)\n",
    "\n",
    "[[1,1],\n",
    " [1,2],\n",
    " ...,\n",
    " [1,31],\n",
    " [2,1],\n",
    " ...,\n",
    " [2,28],\n",
    " ...,\n",
    " [12,31],\n",
    "]\n",
    "```"
   ]
  },
  {
   "cell_type": "code",
   "execution_count": 152,
   "id": "11828e37",
   "metadata": {},
   "outputs": [],
   "source": [
    "from constants import *"
   ]
  },
  {
   "cell_type": "code",
   "execution_count": 153,
   "id": "01444950",
   "metadata": {},
   "outputs": [
    {
     "data": {
      "text/plain": [
       "array([[ 1,  1],\n",
       "       [ 1,  2],\n",
       "       [ 1,  3],\n",
       "       [ 1,  4],\n",
       "       [ 1,  5],\n",
       "       [ 1,  6],\n",
       "       [ 1,  7],\n",
       "       [ 1,  8],\n",
       "       [ 1,  9],\n",
       "       [ 1, 10],\n",
       "       [ 1, 11],\n",
       "       [ 1, 12],\n",
       "       [ 1, 13],\n",
       "       [ 1, 14],\n",
       "       [ 1, 15],\n",
       "       [ 1, 16],\n",
       "       [ 1, 17],\n",
       "       [ 1, 18],\n",
       "       [ 1, 19],\n",
       "       [ 1, 20],\n",
       "       [ 1, 21],\n",
       "       [ 1, 22],\n",
       "       [ 1, 23],\n",
       "       [ 1, 24],\n",
       "       [ 1, 25],\n",
       "       [ 1, 26],\n",
       "       [ 1, 27],\n",
       "       [ 1, 28],\n",
       "       [ 1, 29],\n",
       "       [ 1, 30],\n",
       "       [ 1, 31],\n",
       "       [ 2,  1],\n",
       "       [ 2,  2],\n",
       "       [ 2,  3],\n",
       "       [ 2,  4],\n",
       "       [ 2,  5],\n",
       "       [ 2,  6],\n",
       "       [ 2,  7],\n",
       "       [ 2,  8],\n",
       "       [ 2,  9],\n",
       "       [ 2, 10],\n",
       "       [ 2, 11],\n",
       "       [ 2, 12],\n",
       "       [ 2, 13],\n",
       "       [ 2, 14],\n",
       "       [ 2, 15],\n",
       "       [ 2, 16],\n",
       "       [ 2, 17],\n",
       "       [ 2, 18],\n",
       "       [ 2, 19],\n",
       "       [ 2, 20],\n",
       "       [ 2, 21],\n",
       "       [ 2, 22],\n",
       "       [ 2, 23],\n",
       "       [ 2, 24],\n",
       "       [ 2, 25],\n",
       "       [ 2, 26],\n",
       "       [ 2, 27],\n",
       "       [ 2, 28],\n",
       "       [ 3,  1],\n",
       "       [ 3,  2],\n",
       "       [ 3,  3],\n",
       "       [ 3,  4],\n",
       "       [ 3,  5],\n",
       "       [ 3,  6],\n",
       "       [ 3,  7],\n",
       "       [ 3,  8],\n",
       "       [ 3,  9],\n",
       "       [ 3, 10],\n",
       "       [ 3, 11],\n",
       "       [ 3, 12],\n",
       "       [ 3, 13],\n",
       "       [ 3, 14],\n",
       "       [ 3, 15],\n",
       "       [ 3, 16],\n",
       "       [ 3, 17],\n",
       "       [ 3, 18],\n",
       "       [ 3, 19],\n",
       "       [ 3, 20],\n",
       "       [ 3, 21],\n",
       "       [ 3, 22],\n",
       "       [ 3, 23],\n",
       "       [ 3, 24],\n",
       "       [ 3, 25],\n",
       "       [ 3, 26],\n",
       "       [ 3, 27],\n",
       "       [ 3, 28],\n",
       "       [ 3, 29],\n",
       "       [ 3, 30],\n",
       "       [ 3, 31],\n",
       "       [ 4,  1],\n",
       "       [ 4,  2],\n",
       "       [ 4,  3],\n",
       "       [ 4,  4],\n",
       "       [ 4,  5],\n",
       "       [ 4,  6],\n",
       "       [ 4,  7],\n",
       "       [ 4,  8],\n",
       "       [ 4,  9],\n",
       "       [ 4, 10],\n",
       "       [ 4, 11],\n",
       "       [ 4, 12],\n",
       "       [ 4, 13],\n",
       "       [ 4, 14],\n",
       "       [ 4, 15],\n",
       "       [ 4, 16],\n",
       "       [ 4, 17],\n",
       "       [ 4, 18],\n",
       "       [ 4, 19],\n",
       "       [ 4, 20],\n",
       "       [ 4, 21],\n",
       "       [ 4, 22],\n",
       "       [ 4, 23],\n",
       "       [ 4, 24],\n",
       "       [ 4, 25],\n",
       "       [ 4, 26],\n",
       "       [ 4, 27],\n",
       "       [ 4, 28],\n",
       "       [ 4, 29],\n",
       "       [ 4, 30],\n",
       "       [ 5,  1],\n",
       "       [ 5,  2],\n",
       "       [ 5,  3],\n",
       "       [ 5,  4],\n",
       "       [ 5,  5],\n",
       "       [ 5,  6],\n",
       "       [ 5,  7],\n",
       "       [ 5,  8],\n",
       "       [ 5,  9],\n",
       "       [ 5, 10],\n",
       "       [ 5, 11],\n",
       "       [ 5, 12],\n",
       "       [ 5, 13],\n",
       "       [ 5, 14],\n",
       "       [ 5, 15],\n",
       "       [ 5, 16],\n",
       "       [ 5, 17],\n",
       "       [ 5, 18],\n",
       "       [ 5, 19],\n",
       "       [ 5, 20],\n",
       "       [ 5, 21],\n",
       "       [ 5, 22],\n",
       "       [ 5, 23],\n",
       "       [ 5, 24],\n",
       "       [ 5, 25],\n",
       "       [ 5, 26],\n",
       "       [ 5, 27],\n",
       "       [ 5, 28],\n",
       "       [ 5, 29],\n",
       "       [ 5, 30],\n",
       "       [ 5, 31],\n",
       "       [ 6,  1],\n",
       "       [ 6,  2],\n",
       "       [ 6,  3],\n",
       "       [ 6,  4],\n",
       "       [ 6,  5],\n",
       "       [ 6,  6],\n",
       "       [ 6,  7],\n",
       "       [ 6,  8],\n",
       "       [ 6,  9],\n",
       "       [ 6, 10],\n",
       "       [ 6, 11],\n",
       "       [ 6, 12],\n",
       "       [ 6, 13],\n",
       "       [ 6, 14],\n",
       "       [ 6, 15],\n",
       "       [ 6, 16],\n",
       "       [ 6, 17],\n",
       "       [ 6, 18],\n",
       "       [ 6, 19],\n",
       "       [ 6, 20],\n",
       "       [ 6, 21],\n",
       "       [ 6, 22],\n",
       "       [ 6, 23],\n",
       "       [ 6, 24],\n",
       "       [ 6, 25],\n",
       "       [ 6, 26],\n",
       "       [ 6, 27],\n",
       "       [ 6, 28],\n",
       "       [ 6, 29],\n",
       "       [ 6, 30],\n",
       "       [ 7,  1],\n",
       "       [ 7,  2],\n",
       "       [ 7,  3],\n",
       "       [ 7,  4],\n",
       "       [ 7,  5],\n",
       "       [ 7,  6],\n",
       "       [ 7,  7],\n",
       "       [ 7,  8],\n",
       "       [ 7,  9],\n",
       "       [ 7, 10],\n",
       "       [ 7, 11],\n",
       "       [ 7, 12],\n",
       "       [ 7, 13],\n",
       "       [ 7, 14],\n",
       "       [ 7, 15],\n",
       "       [ 7, 16],\n",
       "       [ 7, 17],\n",
       "       [ 7, 18],\n",
       "       [ 7, 19],\n",
       "       [ 7, 20],\n",
       "       [ 7, 21],\n",
       "       [ 7, 22],\n",
       "       [ 7, 23],\n",
       "       [ 7, 24],\n",
       "       [ 7, 25],\n",
       "       [ 7, 26],\n",
       "       [ 7, 27],\n",
       "       [ 7, 28],\n",
       "       [ 7, 29],\n",
       "       [ 7, 30],\n",
       "       [ 7, 31],\n",
       "       [ 8,  1],\n",
       "       [ 8,  2],\n",
       "       [ 8,  3],\n",
       "       [ 8,  4],\n",
       "       [ 8,  5],\n",
       "       [ 8,  6],\n",
       "       [ 8,  7],\n",
       "       [ 8,  8],\n",
       "       [ 8,  9],\n",
       "       [ 8, 10],\n",
       "       [ 8, 11],\n",
       "       [ 8, 12],\n",
       "       [ 8, 13],\n",
       "       [ 8, 14],\n",
       "       [ 8, 15],\n",
       "       [ 8, 16],\n",
       "       [ 8, 17],\n",
       "       [ 8, 18],\n",
       "       [ 8, 19],\n",
       "       [ 8, 20],\n",
       "       [ 8, 21],\n",
       "       [ 8, 22],\n",
       "       [ 8, 23],\n",
       "       [ 8, 24],\n",
       "       [ 8, 25],\n",
       "       [ 8, 26],\n",
       "       [ 8, 27],\n",
       "       [ 8, 28],\n",
       "       [ 8, 29],\n",
       "       [ 8, 30],\n",
       "       [ 8, 31],\n",
       "       [ 9,  1],\n",
       "       [ 9,  2],\n",
       "       [ 9,  3],\n",
       "       [ 9,  4],\n",
       "       [ 9,  5],\n",
       "       [ 9,  6],\n",
       "       [ 9,  7],\n",
       "       [ 9,  8],\n",
       "       [ 9,  9],\n",
       "       [ 9, 10],\n",
       "       [ 9, 11],\n",
       "       [ 9, 12],\n",
       "       [ 9, 13],\n",
       "       [ 9, 14],\n",
       "       [ 9, 15],\n",
       "       [ 9, 16],\n",
       "       [ 9, 17],\n",
       "       [ 9, 18],\n",
       "       [ 9, 19],\n",
       "       [ 9, 20],\n",
       "       [ 9, 21],\n",
       "       [ 9, 22],\n",
       "       [ 9, 23],\n",
       "       [ 9, 24],\n",
       "       [ 9, 25],\n",
       "       [ 9, 26],\n",
       "       [ 9, 27],\n",
       "       [ 9, 28],\n",
       "       [ 9, 29],\n",
       "       [ 9, 30],\n",
       "       [10,  1],\n",
       "       [10,  2],\n",
       "       [10,  3],\n",
       "       [10,  4],\n",
       "       [10,  5],\n",
       "       [10,  6],\n",
       "       [10,  7],\n",
       "       [10,  8],\n",
       "       [10,  9],\n",
       "       [10, 10],\n",
       "       [10, 11],\n",
       "       [10, 12],\n",
       "       [10, 13],\n",
       "       [10, 14],\n",
       "       [10, 15],\n",
       "       [10, 16],\n",
       "       [10, 17],\n",
       "       [10, 18],\n",
       "       [10, 19],\n",
       "       [10, 20],\n",
       "       [10, 21],\n",
       "       [10, 22],\n",
       "       [10, 23],\n",
       "       [10, 24],\n",
       "       [10, 25],\n",
       "       [10, 26],\n",
       "       [10, 27],\n",
       "       [10, 28],\n",
       "       [10, 29],\n",
       "       [10, 30],\n",
       "       [10, 31],\n",
       "       [11,  1],\n",
       "       [11,  2],\n",
       "       [11,  3],\n",
       "       [11,  4],\n",
       "       [11,  5],\n",
       "       [11,  6],\n",
       "       [11,  7],\n",
       "       [11,  8],\n",
       "       [11,  9],\n",
       "       [11, 10],\n",
       "       [11, 11],\n",
       "       [11, 12],\n",
       "       [11, 13],\n",
       "       [11, 14],\n",
       "       [11, 15],\n",
       "       [11, 16],\n",
       "       [11, 17],\n",
       "       [11, 18],\n",
       "       [11, 19],\n",
       "       [11, 20],\n",
       "       [11, 21],\n",
       "       [11, 22],\n",
       "       [11, 23],\n",
       "       [11, 24],\n",
       "       [11, 25],\n",
       "       [11, 26],\n",
       "       [11, 27],\n",
       "       [11, 28],\n",
       "       [11, 29],\n",
       "       [11, 30],\n",
       "       [12,  1],\n",
       "       [12,  2],\n",
       "       [12,  3],\n",
       "       [12,  4],\n",
       "       [12,  5],\n",
       "       [12,  6],\n",
       "       [12,  7],\n",
       "       [12,  8],\n",
       "       [12,  9],\n",
       "       [12, 10],\n",
       "       [12, 11],\n",
       "       [12, 12],\n",
       "       [12, 13],\n",
       "       [12, 14],\n",
       "       [12, 15],\n",
       "       [12, 16],\n",
       "       [12, 17],\n",
       "       [12, 18],\n",
       "       [12, 19],\n",
       "       [12, 20],\n",
       "       [12, 21],\n",
       "       [12, 22],\n",
       "       [12, 23],\n",
       "       [12, 24],\n",
       "       [12, 25],\n",
       "       [12, 26],\n",
       "       [12, 27],\n",
       "       [12, 28],\n",
       "       [12, 29],\n",
       "       [12, 30],\n",
       "       [12, 31]])"
      ]
     },
     "execution_count": 153,
     "metadata": {},
     "output_type": "execute_result"
    }
   ],
   "source": [
    "X = np.array(L_month_day)\n",
    "X"
   ]
  },
  {
   "cell_type": "code",
   "execution_count": 154,
   "id": "c02ad415",
   "metadata": {
    "scrolled": true
   },
   "outputs": [
    {
     "data": {
      "text/plain": [
       "[3, 3, 0, 0, 0, 1, 1, 1, 2, 2, 2, 3]"
      ]
     },
     "execution_count": 154,
     "metadata": {},
     "output_type": "execute_result"
    }
   ],
   "source": [
    "y_rule1 = []\n",
    "for month, _ in L_month_day:\n",
    "    if MAR <= month <= MAY:\n",
    "        y_rule1.append(SPRING)\n",
    "    elif JUN <= month <= AUG:\n",
    "        y_rule1.append(SUMMER)\n",
    "    elif SEP <= month <= NOV:\n",
    "        y_rule1.append(AUTUMN)\n",
    "    else:\n",
    "        y_rule1.append(WINTER)\n",
    "y_rule1[0:-1:31]"
   ]
  },
  {
   "cell_type": "markdown",
   "id": "b535c16f",
   "metadata": {},
   "source": [
    "## How to Split Train/Test sets?"
   ]
  },
  {
   "cell_type": "code",
   "execution_count": 155,
   "id": "89174e8a",
   "metadata": {},
   "outputs": [],
   "source": [
    "from sklearn.model_selection import StratifiedShuffleSplit"
   ]
  },
  {
   "cell_type": "code",
   "execution_count": 156,
   "id": "ec1237e5",
   "metadata": {},
   "outputs": [],
   "source": [
    "y_rule1 = np.array(y_rule1)"
   ]
  },
  {
   "cell_type": "code",
   "execution_count": 157,
   "id": "c8cb2265",
   "metadata": {},
   "outputs": [],
   "source": [
    "split = StratifiedShuffleSplit(n_splits=3, test_size=0.2, random_state=SEED)\n",
    "# stratified shuffling based on `month`\n",
    "for train_indices, test_indices in split.split(X, X[:, 0]):\n",
    "    pass\n",
    "X_train_raw = X[train_indices, :]\n",
    "X_test_raw = X[test_indices, :]\n",
    "y_rule1_train = y_rule1[train_indices]\n",
    "y_rule1_test = y_rule1[test_indices]"
   ]
  },
  {
   "cell_type": "markdown",
   "id": "f3ed566b",
   "metadata": {},
   "source": [
    "## First Dataset, First Model\n",
    "Just take `X_train_raw` and `X_test_raw` to train a few ML models and see what that gives."
   ]
  },
  {
   "cell_type": "code",
   "execution_count": 158,
   "id": "120532d4",
   "metadata": {},
   "outputs": [],
   "source": [
    "from sklearn.linear_model import LogisticRegression\n",
    "from sklearn.tree import DecisionTreeClassifier\n",
    "from sklearn.svm import SVC\n",
    "\n",
    "from sklearn.metrics import accuracy_score, precision_score, recall_score"
   ]
  },
  {
   "cell_type": "raw",
   "id": "3fe97925",
   "metadata": {},
   "source": [
    "help(LogisticRegression)"
   ]
  },
  {
   "cell_type": "raw",
   "id": "83737817",
   "metadata": {},
   "source": [
    " |  LogisticRegression(penalty='l2', *, dual=False, tol=0.0001, C=1.0, fit_intercept=True, intercept_scaling=1, class_weight=None, random_state=None, solver='lbfgs', max_iter=100, multi_class='auto', verbose=0, warm_start=False, n_jobs=None, l1_ratio=None)\n",
    " |\n",
    " |  In the multiclass case, the training algorithm uses the one-vs-rest (OvR)\n",
    " |  scheme if the 'multi_class' option is set to 'ovr', and uses the\n",
    " |  cross-entropy loss if the 'multi_class' option is set to 'multinomial'.\n",
    " |  (Currently the 'multinomial' option is supported only by the 'lbfgs',\n",
    " |  'sag', 'saga' and 'newton-cg' solvers.)\n",
    " |\n",
    " |  C : float, default=1.0\n",
    " |      Inverse of regularization strength; must be a positive float.\n",
    " |      Like in support vector machines, smaller values specify stronger\n",
    " |      regularization.\n",
    " |\n",
    " |  multi_class : {'auto', 'ovr', 'multinomial'}, default='auto'\n",
    " |      If the option chosen is 'ovr', then a binary problem is fit for each\n",
    " |      label. For 'multinomial' the loss minimised is the multinomial loss fit\n",
    " |      across the entire probability distribution, *even when the data is\n",
    " |      binary*. 'multinomial' is unavailable when solver='liblinear'.\n",
    " |      'auto' selects 'ovr' if the data is binary, or if solver='liblinear',\n",
    " |      and otherwise selects 'multinomial'."
   ]
  },
  {
   "cell_type": "code",
   "execution_count": 159,
   "id": "19b73eeb",
   "metadata": {},
   "outputs": [],
   "source": [
    "log_clf = LogisticRegression(multi_class=\"ovr\")\n",
    "softmax_clf = LogisticRegression(multi_class=\"multinomial\", solver=\"lbfgs\", C=0.5)\n",
    "tree_clf = DecisionTreeClassifier()\n",
    "#svm_clf = SVC(probability=True)\n",
    "svm_clf = SVC()\n",
    "#rnd_clf = RandomForestClassifier()\n",
    "T_classifiers = (log_clf, softmax_clf, tree_clf, svm_clf)"
   ]
  },
  {
   "cell_type": "code",
   "execution_count": 160,
   "id": "c76c02d5",
   "metadata": {},
   "outputs": [
    {
     "name": "stdout",
     "output_type": "stream",
     "text": [
      "(LogisticRegression)\n",
      "acc = 0.67, precision = 0.57, recall = 0.67\n",
      "\n",
      "(LogisticRegression)\n",
      "acc = 0.64, precision = 0.57, recall = 0.64\n",
      "\n",
      "(DecisionTreeClassifier)\n",
      "acc = 1.00, precision = 1.00, recall = 1.00\n",
      "\n",
      "(SVC)\n",
      "acc = 0.82, precision = 0.87, recall = 0.82\n",
      "\n"
     ]
    }
   ],
   "source": [
    "for clf in T_classifiers:\n",
    "    clf.fit(X_train_raw, y_rule1_train)\n",
    "    y_pred = clf.predict(X_test_raw)\n",
    "    \n",
    "    acc = accuracy_score(y_rule1_test, y_pred)\n",
    "\n",
    "    ## ValueError: Target is multiclass but average='binary'. Please choose another average setting, one of [None, 'micro', 'macro', 'weighted'].\n",
    "    #precision = precision_score(y_rule1_test, y_pred)\n",
    "    ## TypeError: unsupported format string passed to numpy.ndarray.__format__\n",
    "    #precision = precision_score(y_rule1_test, y_pred, average=None)\n",
    "    precision = precision_score(y_rule1_test, y_pred, average=\"weighted\")\n",
    "\n",
    "    #recall = recall_score(y_rule1_test, y_pred)\n",
    "    #recall = recall_score(y_rule1_test, y_pred, average=None)\n",
    "    recall = recall_score(y_rule1_test, y_pred, average=\"weighted\")\n",
    "\n",
    "    print(f\"({clf.__class__.__name__})\\nacc = {acc:.2f}, precision = {precision:.2f}, recall = {recall:.2f}\\n\")\n"
   ]
  },
  {
   "cell_type": "code",
   "execution_count": 161,
   "id": "ece67b4b",
   "metadata": {
    "scrolled": true
   },
   "outputs": [
    {
     "name": "stdout",
     "output_type": "stream",
     "text": [
      "(LogisticRegression)\n",
      "acc = 0.65, precision = 0.65, recall = 0.65\n",
      "\n",
      "(LogisticRegression)\n",
      "acc = 0.65, precision = 0.65, recall = 0.65\n",
      "\n",
      "(DecisionTreeClassifier)\n",
      "acc = 1.00, precision = 1.00, recall = 1.00\n",
      "\n",
      "(SVC)\n",
      "acc = 0.88, precision = 0.88, recall = 0.88\n",
      "\n"
     ]
    }
   ],
   "source": [
    "# What about performance on the training data?\n",
    "for clf in T_classifiers:\n",
    "    #clf.fit(X_train_raw, y_rule1_train)\n",
    "    y_pred = clf.predict(X_train_raw)\n",
    "    acc = accuracy_score(y_rule1_train, y_pred)\n",
    "    precision = precision_score(y_rule1_train, y_pred, average=\"micro\")\n",
    "    recall = recall_score(y_rule1_train, y_pred, average=\"micro\")    \n",
    "    print(f\"({clf.__class__.__name__})\\nacc = {acc:.2f}, precision = {precision:.2f}, recall = {recall:.2f}\\n\")"
   ]
  },
  {
   "cell_type": "markdown",
   "id": "1d16ecc5",
   "metadata": {},
   "source": [
    "We see that\n",
    "\n",
    "- Random forest performances perfectly. So does decision tree.\n",
    "\n",
    "Maybe the task is too simple. Even without taking the cyclic nature into consideration, some of the classifiers\n",
    "can already reach near perfect performance.\n"
   ]
  },
  {
   "cell_type": "markdown",
   "id": "77919af0",
   "metadata": {},
   "source": [
    "### Visualize The Decisions\n",
    "Let's try to visualize the decisions of each classifier above in order to better understand\n",
    "the shown performance.\n",
    "\n",
    "Let's first print the decisions made by the decision tree via `graphviz`."
   ]
  },
  {
   "cell_type": "code",
   "execution_count": 162,
   "id": "33cc70c9",
   "metadata": {},
   "outputs": [],
   "source": [
    "from sklearn.tree import export_graphviz\n",
    "from graphviz import Source"
   ]
  },
  {
   "cell_type": "raw",
   "id": "07025ef1",
   "metadata": {},
   "source": [
    "help(Image)"
   ]
  },
  {
   "cell_type": "raw",
   "id": "c7cdba4c",
   "metadata": {},
   "source": [
    " |  Image(data=None, url=None, filename=None, format=None, embed=None, width=None, height=None, retina=False, unconfined=False, metadata=None)"
   ]
  },
  {
   "cell_type": "code",
   "execution_count": 163,
   "id": "16b2de32",
   "metadata": {},
   "outputs": [
    {
     "name": "stdout",
     "output_type": "stream",
     "text": [
      "out_png = ./tmp.png\n"
     ]
    },
    {
     "data": {
      "image/png": "[encoded data removed]",
      "text/plain": [
       "<IPython.core.display.Image object>"
      ]
     },
     "execution_count": 163,
     "metadata": {
      "image/png": {
       "width": 500
      }
     },
     "output_type": "execute_result"
    }
   ],
   "source": [
    "out_dot = \"./tmp.dot\"\n",
    "export_graphviz(\n",
    "    tree_clf,\n",
    "    out_file=out_file,\n",
    "    feature_names=[\"month\", \"day\"],\n",
    "    class_names=[\"spring\", \"summer\", \"autumn\", \"winter\"],\n",
    "    #rounded=True,\n",
    "    filled=True,\n",
    ")\n",
    "\n",
    "out_png = \".\".join(out_dot.split(\".\")[:-1] + [\"png\"])\n",
    "print(f\"out_png = {out_png}\")\n",
    "!dot -Tpng $out_dot -o $out_png\n",
    "from IPython.display import Image\n",
    "Image(filename=out_png, width=500)\n",
    "#Source.from_file(out_file)  ## Too big\n",
    "#<img src=\"tmp.png\" width=400px />  ## Can't display HTML in code cell!"
   ]
  },
  {
   "cell_type": "markdown",
   "id": "5c397a6d",
   "metadata": {},
   "source": [
    "If we inspect closely, we can see that the above decision tree has found a process for determining the seasons that **_perfectly matches_** our `rule1`. Good job!"
   ]
  },
  {
   "cell_type": "code",
   "execution_count": 164,
   "id": "4cc52868",
   "metadata": {},
   "outputs": [],
   "source": [
    "# Let's delete the temporary images\n",
    "![ -f $out_png ] && rm $out_png $out_dot"
   ]
  },
  {
   "cell_type": "code",
   "execution_count": 165,
   "id": "ad150f8f",
   "metadata": {},
   "outputs": [
    {
     "data": {
      "text/plain": [
       "array([0, 2, 0, 3, 1, 0, 3, 3, 2, 0, 0, 0, 2, 3, 1, 1, 3, 2, 2, 1, 1, 0,\n",
       "       1, 1, 3, 0, 3, 2, 2, 0, 0, 2, 3, 1, 2, 1, 1, 3, 2, 0, 2, 3, 3, 1,\n",
       "       1, 3, 2, 1, 2, 2, 0, 1, 3, 0, 0, 0, 2, 2, 1, 1, 2, 3, 2, 1, 1, 0,\n",
       "       1, 3, 3, 0, 0, 3, 3])"
      ]
     },
     "execution_count": 165,
     "metadata": {},
     "output_type": "execute_result"
    }
   ],
   "source": [
    "y_rule1_test"
   ]
  },
  {
   "cell_type": "raw",
   "id": "a6cf8529",
   "metadata": {},
   "source": [
    "season_markers = (\"g>\", \"r^\", \"o<\", \"cv\")\n",
    "season_markers[y_rule1_test]"
   ]
  },
  {
   "cell_type": "raw",
   "id": "e64f1ade",
   "metadata": {},
   "source": [
    "---------------------------------------------------------------------------\n",
    "TypeError                                 Traceback (most recent call last)\n",
    "<ipython-input-47-e621055d370c> in <module>\n",
    "      1 season_markers = (\"g>\", \"r^\", \"o<\", \"cv\")\n",
    "----> 2 season_markers[y_rule1_test]\n",
    "\n",
    "TypeError: only integer scalar arrays can be converted to a scalar index"
   ]
  },
  {
   "cell_type": "code",
   "execution_count": 166,
   "id": "8a5e91cc",
   "metadata": {
    "scrolled": true
   },
   "outputs": [
    {
     "data": {
      "text/plain": [
       "array(['g>', 'o<', 'g>', 'cv', 'r^', 'g>', 'cv', 'cv', 'o<', 'g>', 'g>',\n",
       "       'g>', 'o<', 'cv', 'r^', 'r^', 'cv', 'o<', 'o<', 'r^', 'r^', 'g>',\n",
       "       'r^', 'r^', 'cv', 'g>', 'cv', 'o<', 'o<', 'g>', 'g>', 'o<', 'cv',\n",
       "       'r^', 'o<', 'r^', 'r^', 'cv', 'o<', 'g>', 'o<', 'cv', 'cv', 'r^',\n",
       "       'r^', 'cv', 'o<', 'r^', 'o<', 'o<', 'g>', 'r^', 'cv', 'g>', 'g>',\n",
       "       'g>', 'o<', 'o<', 'r^', 'r^', 'o<', 'cv', 'o<', 'r^', 'r^', 'g>',\n",
       "       'r^', 'cv', 'cv', 'g>', 'g>', 'cv', 'cv'], dtype='<U2')"
      ]
     },
     "execution_count": 166,
     "metadata": {},
     "output_type": "execute_result"
    }
   ],
   "source": [
    "season_markers = np.array((\"g>\", \"r^\", \"o<\", \"cv\"))\n",
    "season_markers[y_rule1_test]"
   ]
  },
  {
   "cell_type": "code",
   "execution_count": 167,
   "id": "ad94ca59",
   "metadata": {},
   "outputs": [
    {
     "data": {
      "text/plain": [
       "array(['cv', 'cv', 'cv', 'cv', 'cv', 'cv', 'cv', 'cv', 'cv', 'cv', 'cv',\n",
       "       'cv', 'cv', 'cv', 'cv', 'cv', 'cv', 'cv'], dtype='<U2')"
      ]
     },
     "execution_count": 167,
     "metadata": {},
     "output_type": "execute_result"
    }
   ],
   "source": [
    "season_markers[y_rule1_test[y_rule1_test==3]]"
   ]
  },
  {
   "cell_type": "code",
   "execution_count": 168,
   "id": "ee3d3823",
   "metadata": {},
   "outputs": [
    {
     "data": {
      "text/plain": [
       "(73, 2)"
      ]
     },
     "execution_count": 168,
     "metadata": {},
     "output_type": "execute_result"
    }
   ],
   "source": [
    "X_test_raw.shape"
   ]
  },
  {
   "cell_type": "code",
   "execution_count": 169,
   "id": "70193635",
   "metadata": {
    "scrolled": true
   },
   "outputs": [
    {
     "data": {
      "image/png": "[encoded data removed]",
      "text/plain": [
       "<Figure size 432x288 with 1 Axes>"
      ]
     },
     "metadata": {},
     "output_type": "display_data"
    }
   ],
   "source": [
    "season_markers = (\"g>\", \"r^\", \"y<\", \"cv\")\n",
    "for season_id in range(4):\n",
    "    plt.plot(X_test_raw[:,0][y_rule1_test==season_id],\n",
    "             X_test_raw[:,1][y_rule1_test==season_id],\n",
    "             season_markers[season_id],\n",
    "    )\n",
    "plt.xlabel(\"month\")\n",
    "plt.ylabel(\"day\", rotation=0);\n",
    "#plt.ylabel(\"day\");"
   ]
  },
  {
   "cell_type": "code",
   "execution_count": 170,
   "id": "04efff7f",
   "metadata": {
    "scrolled": true
   },
   "outputs": [
    {
     "data": {
      "image/png": "[encoded data removed]",
      "text/plain": [
       "<Figure size 432x288 with 1 Axes>"
      ]
     },
     "metadata": {},
     "output_type": "display_data"
    }
   ],
   "source": [
    "season_markers = (\"g>\", \"r^\", \"y<\", \"cv\")\n",
    "for season_id in range(4):\n",
    "    plt.plot(X[:,0][y_rule1==season_id],\n",
    "             X[:,1][y_rule1==season_id],\n",
    "             season_markers[season_id],\n",
    "    )\n",
    "plt.xlabel(\"month\")\n",
    "plt.ylabel(\"day\");"
   ]
  },
  {
   "cell_type": "markdown",
   "id": "e7e1efdf",
   "metadata": {},
   "source": [
    "For this drawing part, we shall borrow the following code from one of Mr. Geron's notebooks ([`06_decision_trees.ipynb`](https://github.com/ageron/handson-ml2/blob/master/06_decision_trees.ipynb) **N.B.** We modified a few of its parameters to suit our case here):"
   ]
  },
  {
   "cell_type": "code",
   "execution_count": 233,
   "id": "4546ea9f",
   "metadata": {},
   "outputs": [],
   "source": [
    "def plot_decision_boundary(clf, X, y, axes=[1, 12, 1, 31], iris=True, legend=False, plot_training=True):\n",
    "    x1s = np.linspace(axes[0], axes[1], 100)\n",
    "    x2s = np.linspace(axes[2], axes[3], 100)\n",
    "    x1, x2 = np.meshgrid(x1s, x2s)\n",
    "    X_new = np.c_[x1.ravel(), x2.ravel()]\n",
    "    y_pred = clf.predict(X_new).reshape(x1.shape)\n",
    "    custom_cmap = ListedColormap(['#007900','#d90052','#bbbb00', '#1174ff'])\n",
    "    plt.contourf(x1, x2, y_pred, alpha=0.5, cmap=custom_cmap)\n",
    "    if not iris:\n",
    "        custom_cmap2 = ListedColormap(['#7d7d58','#4c4c7f','#507d50', \"#0000ee\"])\n",
    "        plt.contour(x1, x2, y_pred, cmap=custom_cmap2, alpha=0.8)\n",
    "    if plot_training:\n",
    "        for season_id in range(4):\n",
    "            plt.plot(X[:,0][y==season_id],\n",
    "                     X[:,1][y==season_id],\n",
    "                     season_markers[season_id],\n",
    "            )\n",
    "        plt.axis(axes)\n",
    "    if iris:\n",
    "        plt.xlabel(\"month\", fontsize=14)\n",
    "        plt.ylabel(\"day\", fontsize=14)\n",
    "    else:\n",
    "        plt.xlabel(r\"$x_1$\", fontsize=18)\n",
    "        plt.ylabel(r\"$x_2$\", fontsize=18, rotation=0)\n",
    "    if legend:\n",
    "        plt.legend(loc=\"lower right\", fontsize=14)"
   ]
  },
  {
   "cell_type": "code",
   "execution_count": 100,
   "id": "76027a04",
   "metadata": {},
   "outputs": [
    {
     "data": {
      "text/plain": [
       "array([0. , 0.2, 0.4, 0.6, 0.8, 1. ])"
      ]
     },
     "execution_count": 100,
     "metadata": {},
     "output_type": "execute_result"
    }
   ],
   "source": [
    "np.linspace(0,1,6)"
   ]
  },
  {
   "cell_type": "code",
   "execution_count": 101,
   "id": "3b4a2753",
   "metadata": {},
   "outputs": [
    {
     "data": {
      "text/plain": [
       "(array([[0. , 0.2, 0.4, 0.6, 0.8, 1. ],\n",
       "        [0. , 0.2, 0.4, 0.6, 0.8, 1. ],\n",
       "        [0. , 0.2, 0.4, 0.6, 0.8, 1. ],\n",
       "        [0. , 0.2, 0.4, 0.6, 0.8, 1. ],\n",
       "        [0. , 0.2, 0.4, 0.6, 0.8, 1. ]]),\n",
       " array([[0.  , 0.  , 0.  , 0.  , 0.  , 0.  ],\n",
       "        [0.25, 0.25, 0.25, 0.25, 0.25, 0.25],\n",
       "        [0.5 , 0.5 , 0.5 , 0.5 , 0.5 , 0.5 ],\n",
       "        [0.75, 0.75, 0.75, 0.75, 0.75, 0.75],\n",
       "        [1.  , 1.  , 1.  , 1.  , 1.  , 1.  ]]))"
      ]
     },
     "execution_count": 101,
     "metadata": {},
     "output_type": "execute_result"
    }
   ],
   "source": [
    "x1s = np.linspace(0, 1, 6)\n",
    "x2s = np.linspace(0, 1, 5)\n",
    "x1, x2 = np.meshgrid(x1s, x2s)\n",
    "x1, x2"
   ]
  },
  {
   "cell_type": "code",
   "execution_count": 102,
   "id": "5706c711",
   "metadata": {},
   "outputs": [
    {
     "data": {
      "text/plain": [
       "array([0.  , 0.  , 0.  , 0.  , 0.  , 0.  , 0.25, 0.25, 0.25, 0.25, 0.25,\n",
       "       0.25, 0.5 , 0.5 , 0.5 , 0.5 , 0.5 , 0.5 , 0.75, 0.75, 0.75, 0.75,\n",
       "       0.75, 0.75, 1.  , 1.  , 1.  , 1.  , 1.  , 1.  ])"
      ]
     },
     "execution_count": 102,
     "metadata": {},
     "output_type": "execute_result"
    }
   ],
   "source": [
    "x2.ravel()"
   ]
  },
  {
   "cell_type": "code",
   "execution_count": 103,
   "id": "d6dea52a",
   "metadata": {
    "scrolled": true
   },
   "outputs": [
    {
     "data": {
      "text/plain": [
       "array([0. , 0.2, 0.4, 0.6, 0.8, 1. , 0. , 0.2, 0.4, 0.6, 0.8, 1. , 0. ,\n",
       "       0.2, 0.4, 0.6, 0.8, 1. , 0. , 0.2, 0.4, 0.6, 0.8, 1. , 0. , 0.2,\n",
       "       0.4, 0.6, 0.8, 1. ])"
      ]
     },
     "execution_count": 103,
     "metadata": {},
     "output_type": "execute_result"
    }
   ],
   "source": [
    "x1.ravel()"
   ]
  },
  {
   "cell_type": "code",
   "execution_count": 104,
   "id": "c871af46",
   "metadata": {
    "scrolled": true
   },
   "outputs": [
    {
     "data": {
      "text/plain": [
       "array([0. , 0. , 0. , 0. , 0. , 0.2, 0.2, 0.2, 0.2, 0.2, 0.4, 0.4, 0.4,\n",
       "       0.4, 0.4, 0.6, 0.6, 0.6, 0.6, 0.6, 0.8, 0.8, 0.8, 0.8, 0.8, 1. ,\n",
       "       1. , 1. , 1. , 1. ])"
      ]
     },
     "execution_count": 104,
     "metadata": {},
     "output_type": "execute_result"
    }
   ],
   "source": [
    "x1.ravel(order=\"F\")"
   ]
  },
  {
   "cell_type": "code",
   "execution_count": 105,
   "id": "5e6fddb9",
   "metadata": {},
   "outputs": [
    {
     "data": {
      "text/plain": [
       "<numpy.flatiter at 0x55eb2785f1b0>"
      ]
     },
     "execution_count": 105,
     "metadata": {},
     "output_type": "execute_result"
    }
   ],
   "source": [
    "x1.flat"
   ]
  },
  {
   "cell_type": "code",
   "execution_count": 106,
   "id": "de458e44",
   "metadata": {
    "scrolled": true
   },
   "outputs": [
    {
     "name": "stdout",
     "output_type": "stream",
     "text": [
      "Help on flatiter object:\n",
      "\n",
      "class flatiter(builtins.object)\n",
      " |  Flat iterator object to iterate over arrays.\n",
      " |  \n",
      " |  A `flatiter` iterator is returned by ``x.flat`` for any array `x`.\n",
      " |  It allows iterating over the array as if it were a 1-D array,\n",
      " |  either in a for-loop or by calling its `next` method.\n",
      " |  \n",
      " |  Iteration is done in row-major, C-style order (the last\n",
      " |  index varying the fastest). The iterator can also be indexed using\n",
      " |  basic slicing or advanced indexing.\n",
      " |  \n",
      " |  See Also\n",
      " |  --------\n",
      " |  ndarray.flat : Return a flat iterator over an array.\n",
      " |  ndarray.flatten : Returns a flattened copy of an array.\n",
      " |  \n",
      " |  Notes\n",
      " |  -----\n",
      " |  A `flatiter` iterator can not be constructed directly from Python code\n",
      " |  by calling the `flatiter` constructor.\n",
      " |  \n",
      " |  Examples\n",
      " |  --------\n",
      " |  >>> x = np.arange(6).reshape(2, 3)\n",
      " |  >>> fl = x.flat\n",
      " |  >>> type(fl)\n",
      " |  <class 'numpy.flatiter'>\n",
      " |  >>> for item in fl:\n",
      " |  ...     print(item)\n",
      " |  ...\n",
      " |  0\n",
      " |  1\n",
      " |  2\n",
      " |  3\n",
      " |  4\n",
      " |  5\n",
      " |  \n",
      " |  >>> fl[2:4]\n",
      " |  array([2, 3])\n",
      " |  \n",
      " |  Methods defined here:\n",
      " |  \n",
      " |  __array__(...)\n",
      " |      __array__(type=None) Get array from iterator\n",
      " |  \n",
      " |  __delitem__(self, key, /)\n",
      " |      Delete self[key].\n",
      " |  \n",
      " |  __eq__(self, value, /)\n",
      " |      Return self==value.\n",
      " |  \n",
      " |  __ge__(self, value, /)\n",
      " |      Return self>=value.\n",
      " |  \n",
      " |  __getitem__(self, key, /)\n",
      " |      Return self[key].\n",
      " |  \n",
      " |  __gt__(self, value, /)\n",
      " |      Return self>value.\n",
      " |  \n",
      " |  __iter__(self, /)\n",
      " |      Implement iter(self).\n",
      " |  \n",
      " |  __le__(self, value, /)\n",
      " |      Return self<=value.\n",
      " |  \n",
      " |  __len__(self, /)\n",
      " |      Return len(self).\n",
      " |  \n",
      " |  __lt__(self, value, /)\n",
      " |      Return self<value.\n",
      " |  \n",
      " |  __ne__(self, value, /)\n",
      " |      Return self!=value.\n",
      " |  \n",
      " |  __next__(self, /)\n",
      " |      Implement next(self).\n",
      " |  \n",
      " |  __setitem__(self, key, value, /)\n",
      " |      Set self[key] to value.\n",
      " |  \n",
      " |  copy(...)\n",
      " |      copy()\n",
      " |      \n",
      " |      Get a copy of the iterator as a 1-D array.\n",
      " |      \n",
      " |      Examples\n",
      " |      --------\n",
      " |      >>> x = np.arange(6).reshape(2, 3)\n",
      " |      >>> x\n",
      " |      array([[0, 1, 2],\n",
      " |             [3, 4, 5]])\n",
      " |      >>> fl = x.flat\n",
      " |      >>> fl.copy()\n",
      " |      array([0, 1, 2, 3, 4, 5])\n",
      " |  \n",
      " |  ----------------------------------------------------------------------\n",
      " |  Data descriptors defined here:\n",
      " |  \n",
      " |  base\n",
      " |      A reference to the array that is iterated over.\n",
      " |      \n",
      " |      Examples\n",
      " |      --------\n",
      " |      >>> x = np.arange(5)\n",
      " |      >>> fl = x.flat\n",
      " |      >>> fl.base is x\n",
      " |      True\n",
      " |  \n",
      " |  coords\n",
      " |      An N-dimensional tuple of current coordinates.\n",
      " |      \n",
      " |      Examples\n",
      " |      --------\n",
      " |      >>> x = np.arange(6).reshape(2, 3)\n",
      " |      >>> fl = x.flat\n",
      " |      >>> fl.coords\n",
      " |      (0, 0)\n",
      " |      >>> next(fl)\n",
      " |      0\n",
      " |      >>> fl.coords\n",
      " |      (0, 1)\n",
      " |  \n",
      " |  index\n",
      " |      Current flat index into the array.\n",
      " |      \n",
      " |      Examples\n",
      " |      --------\n",
      " |      >>> x = np.arange(6).reshape(2, 3)\n",
      " |      >>> fl = x.flat\n",
      " |      >>> fl.index\n",
      " |      0\n",
      " |      >>> next(fl)\n",
      " |      0\n",
      " |      >>> fl.index\n",
      " |      1\n",
      " |  \n",
      " |  ----------------------------------------------------------------------\n",
      " |  Data and other attributes defined here:\n",
      " |  \n",
      " |  __hash__ = None\n",
      "\n"
     ]
    }
   ],
   "source": [
    "help(x1.flat)"
   ]
  },
  {
   "cell_type": "code",
   "execution_count": 76,
   "id": "0b43c421",
   "metadata": {
    "collapsed": true
   },
   "outputs": [
    {
     "name": "stdout",
     "output_type": "stream",
     "text": [
      "Help on function ravel in module numpy:\n",
      "\n",
      "ravel(a, order='C')\n",
      "    Return a contiguous flattened array.\n",
      "    \n",
      "    A 1-D array, containing the elements of the input, is returned.  A copy is\n",
      "    made only if needed.\n",
      "    \n",
      "    As of NumPy 1.10, the returned array will have the same type as the input\n",
      "    array. (for example, a masked array will be returned for a masked array\n",
      "    input)\n",
      "    \n",
      "    Parameters\n",
      "    ----------\n",
      "    a : array_like\n",
      "        Input array.  The elements in `a` are read in the order specified by\n",
      "        `order`, and packed as a 1-D array.\n",
      "    order : {'C','F', 'A', 'K'}, optional\n",
      "    \n",
      "        The elements of `a` are read using this index order. 'C' means\n",
      "        to index the elements in row-major, C-style order,\n",
      "        with the last axis index changing fastest, back to the first\n",
      "        axis index changing slowest.  'F' means to index the elements\n",
      "        in column-major, Fortran-style order, with the\n",
      "        first index changing fastest, and the last index changing\n",
      "        slowest. Note that the 'C' and 'F' options take no account of\n",
      "        the memory layout of the underlying array, and only refer to\n",
      "        the order of axis indexing.  'A' means to read the elements in\n",
      "        Fortran-like index order if `a` is Fortran *contiguous* in\n",
      "        memory, C-like order otherwise.  'K' means to read the\n",
      "        elements in the order they occur in memory, except for\n",
      "        reversing the data when strides are negative.  By default, 'C'\n",
      "        index order is used.\n",
      "    \n",
      "    Returns\n",
      "    -------\n",
      "    y : array_like\n",
      "        y is an array of the same subtype as `a`, with shape ``(a.size,)``.\n",
      "        Note that matrices are special cased for backward compatibility, if `a`\n",
      "        is a matrix, then y is a 1-D ndarray.\n",
      "    \n",
      "    See Also\n",
      "    --------\n",
      "    ndarray.flat : 1-D iterator over an array.\n",
      "    ndarray.flatten : 1-D array copy of the elements of an array\n",
      "                      in row-major order.\n",
      "    ndarray.reshape : Change the shape of an array without changing its data.\n",
      "    \n",
      "    Notes\n",
      "    -----\n",
      "    In row-major, C-style order, in two dimensions, the row index\n",
      "    varies the slowest, and the column index the quickest.  This can\n",
      "    be generalized to multiple dimensions, where row-major order\n",
      "    implies that the index along the first axis varies slowest, and\n",
      "    the index along the last quickest.  The opposite holds for\n",
      "    column-major, Fortran-style index ordering.\n",
      "    \n",
      "    When a view is desired in as many cases as possible, ``arr.reshape(-1)``\n",
      "    may be preferable.\n",
      "    \n",
      "    Examples\n",
      "    --------\n",
      "    It is equivalent to ``reshape(-1, order=order)``.\n",
      "    \n",
      "    >>> x = np.array([[1, 2, 3], [4, 5, 6]])\n",
      "    >>> np.ravel(x)\n",
      "    array([1, 2, 3, 4, 5, 6])\n",
      "    \n",
      "    >>> x.reshape(-1)\n",
      "    array([1, 2, 3, 4, 5, 6])\n",
      "    \n",
      "    >>> np.ravel(x, order='F')\n",
      "    array([1, 4, 2, 5, 3, 6])\n",
      "    \n",
      "    When ``order`` is 'A', it will preserve the array's 'C' or 'F' ordering:\n",
      "    \n",
      "    >>> np.ravel(x.T)\n",
      "    array([1, 4, 2, 5, 3, 6])\n",
      "    >>> np.ravel(x.T, order='A')\n",
      "    array([1, 2, 3, 4, 5, 6])\n",
      "    \n",
      "    When ``order`` is 'K', it will preserve orderings that are neither 'C'\n",
      "    nor 'F', but won't reverse axes:\n",
      "    \n",
      "    >>> a = np.arange(3)[::-1]; a\n",
      "    array([2, 1, 0])\n",
      "    >>> a.ravel(order='C')\n",
      "    array([2, 1, 0])\n",
      "    >>> a.ravel(order='K')\n",
      "    array([2, 1, 0])\n",
      "    \n",
      "    >>> a = np.arange(12).reshape(2,3,2).swapaxes(1,2); a\n",
      "    array([[[ 0,  2,  4],\n",
      "            [ 1,  3,  5]],\n",
      "           [[ 6,  8, 10],\n",
      "            [ 7,  9, 11]]])\n",
      "    >>> a.ravel(order='C')\n",
      "    array([ 0,  2,  4,  1,  3,  5,  6,  8, 10,  7,  9, 11])\n",
      "    >>> a.ravel(order='K')\n",
      "    array([ 0,  1,  2,  3,  4,  5,  6,  7,  8,  9, 10, 11])\n",
      "\n"
     ]
    }
   ],
   "source": [
    "help(np.ravel)"
   ]
  },
  {
   "cell_type": "code",
   "execution_count": 81,
   "id": "cdaf5a1d",
   "metadata": {},
   "outputs": [
    {
     "name": "stdout",
     "output_type": "stream",
     "text": [
      "128 ns ± 7.09 ns per loop (mean ± std. dev. of 7 runs, 10000000 loops each)\n"
     ]
    }
   ],
   "source": [
    "%%timeit\n",
    "x1.ravel()"
   ]
  },
  {
   "cell_type": "code",
   "execution_count": 82,
   "id": "350d1bf3",
   "metadata": {},
   "outputs": [
    {
     "name": "stdout",
     "output_type": "stream",
     "text": [
      "599 ns ± 3.2 ns per loop (mean ± std. dev. of 7 runs, 1000000 loops each)\n"
     ]
    }
   ],
   "source": [
    "%%timeit\n",
    "x1.ravel(order=\"F\")"
   ]
  },
  {
   "cell_type": "code",
   "execution_count": 83,
   "id": "fd6134ae",
   "metadata": {},
   "outputs": [
    {
     "name": "stdout",
     "output_type": "stream",
     "text": [
      "206 ns ± 2.77 ns per loop (mean ± std. dev. of 7 runs, 1000000 loops each)\n"
     ]
    }
   ],
   "source": [
    "%%timeit\n",
    "x1.reshape((-1,))"
   ]
  },
  {
   "cell_type": "code",
   "execution_count": 84,
   "id": "7dcb0e78",
   "metadata": {},
   "outputs": [
    {
     "name": "stdout",
     "output_type": "stream",
     "text": [
      "108 ns ± 3.91 ns per loop (mean ± std. dev. of 7 runs, 10000000 loops each)\n"
     ]
    }
   ],
   "source": [
    "%%timeit\n",
    "x1.flat"
   ]
  },
  {
   "cell_type": "code",
   "execution_count": 235,
   "id": "9959636a",
   "metadata": {
    "scrolled": false
   },
   "outputs": [
    {
     "data": {
      "image/png": "[encoded data removed]",
      "text/plain": [
       "<Figure size 432x288 with 1 Axes>"
      ]
     },
     "metadata": {},
     "output_type": "display_data"
    }
   ],
   "source": [
    "plot_decision_boundary(log_clf, X, y_rule1)"
   ]
  },
  {
   "cell_type": "code",
   "execution_count": 236,
   "id": "39d3b4af",
   "metadata": {
    "scrolled": true
   },
   "outputs": [
    {
     "data": {
      "image/png": "[encoded data removed]",
      "text/plain": [
       "<Figure size 432x288 with 1 Axes>"
      ]
     },
     "metadata": {},
     "output_type": "display_data"
    }
   ],
   "source": [
    "plot_decision_boundary(softmax_clf, X, y_rule1)"
   ]
  },
  {
   "cell_type": "code",
   "execution_count": 237,
   "id": "1f3ad1f0",
   "metadata": {
    "scrolled": true
   },
   "outputs": [
    {
     "data": {
      "image/png": "[encoded data removed]",
      "text/plain": [
       "<Figure size 432x288 with 1 Axes>"
      ]
     },
     "metadata": {},
     "output_type": "display_data"
    }
   ],
   "source": [
    "plot_decision_boundary(tree_clf, X, y_rule1)"
   ]
  },
  {
   "cell_type": "code",
   "execution_count": 238,
   "id": "e1035de8",
   "metadata": {
    "scrolled": true
   },
   "outputs": [
    {
     "data": {
      "image/png": "[encoded data removed]",
      "text/plain": [
       "<Figure size 432x288 with 1 Axes>"
      ]
     },
     "metadata": {},
     "output_type": "display_data"
    }
   ],
   "source": [
    "plot_decision_boundary(svm_clf, X, y_rule1)"
   ]
  },
  {
   "cell_type": "code",
   "execution_count": null,
   "id": "1a278d0c",
   "metadata": {},
   "outputs": [],
   "source": []
  },
  {
   "cell_type": "code",
   "execution_count": null,
   "id": "ce2ccd29",
   "metadata": {},
   "outputs": [],
   "source": []
  },
  {
   "cell_type": "markdown",
   "id": "05f612f9",
   "metadata": {},
   "source": [
    "# Season Dataset (Version 3)\n",
    "In this version, we will have exactly the same features like in version 2.<br>\n",
    "Only that we set a diff rule to increase the difficulty:\n",
    "\n",
    "- Spring: 15th March to 14th June (inclusive)\n",
    "- Summer: 15th June to 14th September\n",
    "- Autumn: 15th September to 14th December\n",
    "- Winter: 15th December to 14th March\n",
    "\n",
    "**N.B.** Note that we just need to create a new label, `y_rule2`. No need to modify `X`."
   ]
  },
  {
   "cell_type": "code",
   "execution_count": 13,
   "id": "38fd8040",
   "metadata": {},
   "outputs": [
    {
     "data": {
      "text/plain": [
       "[3, 3, 3, 0, 0, 0, 1, 1, 1, 2, 2, 2]"
      ]
     },
     "execution_count": 13,
     "metadata": {},
     "output_type": "execute_result"
    }
   ],
   "source": [
    "y_rule2 = []\n",
    "start = 15\n",
    "end = 14\n",
    "for month_day in L_month_day:\n",
    "    if [MAR,start] <= month_day <= [JUN,end]:\n",
    "        y_rule2.append(SPRING)\n",
    "    elif [JUN,start] <= month_day <= [SEP,end]:\n",
    "        y_rule2.append(SUMMER)\n",
    "    elif [SEP,start] <= month_day <= [DEC,end]:\n",
    "        y_rule2.append(AUTUMN)\n",
    "    else:\n",
    "        y_rule2.append(WINTER)\n",
    "\n",
    "y_rule2[0:-1:31]"
   ]
  },
  {
   "cell_type": "code",
   "execution_count": 14,
   "id": "24205e82",
   "metadata": {},
   "outputs": [],
   "source": [
    "y_rule2 = np.array(y_rule2)"
   ]
  },
  {
   "cell_type": "code",
   "execution_count": 15,
   "id": "4e9ec218",
   "metadata": {},
   "outputs": [],
   "source": [
    "y_rule2_train = y_rule2[train_indices]\n",
    "y_rule2_test = y_rule2[test_indices]"
   ]
  },
  {
   "cell_type": "code",
   "execution_count": 16,
   "id": "1259deeb",
   "metadata": {
    "scrolled": true
   },
   "outputs": [
    {
     "name": "stdout",
     "output_type": "stream",
     "text": [
      "(LogisticRegression)\n",
      "acc = 0.7123, precision = 0.7123, recall = 0.7123\n",
      "\n",
      "(DecisionTreeClassifier)\n",
      "acc = 0.9726, precision = 0.9726, recall = 0.9726\n",
      "\n",
      "(SVC)\n",
      "acc = 0.8630, precision = 0.8630, recall = 0.8630\n",
      "\n"
     ]
    }
   ],
   "source": [
    "for clf in T_classifiers:\n",
    "    clf.fit(X_train_raw, y_rule2_train)\n",
    "    y_pred = clf.predict(X_test_raw)\n",
    "    acc = accuracy_score(y_rule2_test, y_pred)\n",
    "    precision = precision_score(y_rule2_test, y_pred, average=\"micro\")\n",
    "    recall = recall_score(y_rule2_test, y_pred, average=\"micro\")    \n",
    "    print(f\"({clf.__class__.__name__})\\nacc = {acc:.4f}, precision = {precision:.4f}, recall = {recall:.4f}\\n\")"
   ]
  },
  {
   "cell_type": "markdown",
   "id": "dd7b7a57",
   "metadata": {},
   "source": [
    "In this case, our <s>random forest</s> and decision tree classifies are no longer perfect (even though still perform with high accuracy)."
   ]
  },
  {
   "cell_type": "code",
   "execution_count": 17,
   "id": "168b3519",
   "metadata": {},
   "outputs": [
    {
     "name": "stdout",
     "output_type": "stream",
     "text": [
      "(LogisticRegression)\n",
      "acc = 0.7432, precision = 0.7432, recall = 0.7432\n",
      "\n",
      "(DecisionTreeClassifier)\n",
      "acc = 1.0000, precision = 1.0000, recall = 1.0000\n",
      "\n",
      "(SVC)\n",
      "acc = 0.9075, precision = 0.9075, recall = 0.9075\n",
      "\n"
     ]
    }
   ],
   "source": [
    "# On training set\n",
    "for clf in T_classifiers:\n",
    "    y_pred = clf.predict(X_train_raw)\n",
    "    acc = accuracy_score(y_rule2_train, y_pred)\n",
    "    precision = precision_score(y_rule2_train, y_pred, average=\"micro\")\n",
    "    recall = recall_score(y_rule2_train, y_pred, average=\"micro\")    \n",
    "    print(f\"({clf.__class__.__name__})\\nacc = {acc:.4f}, precision = {precision:.4f}, recall = {recall:.4f}\\n\")"
   ]
  },
  {
   "cell_type": "markdown",
   "id": "361f607e",
   "metadata": {},
   "source": [
    "Let's see whether incorporating the cyclic nature improves the situation."
   ]
  },
  {
   "cell_type": "markdown",
   "id": "070c3bbc",
   "metadata": {},
   "source": [
    "## Cyclic Nature"
   ]
  },
  {
   "cell_type": "code",
   "execution_count": 18,
   "id": "0234ba59",
   "metadata": {},
   "outputs": [],
   "source": [
    "from utils import *"
   ]
  },
  {
   "cell_type": "code",
   "execution_count": 19,
   "id": "01bf2985",
   "metadata": {},
   "outputs": [],
   "source": [
    "X_cyclic = np.c_[\n",
    "    cyclicize_series(X[:, 0], max_=12, min_=0),\n",
    "    cyclicize_series(X[:, 1], max_=31, min_=0),\n",
    "]"
   ]
  },
  {
   "cell_type": "code",
   "execution_count": 20,
   "id": "d6924fd5",
   "metadata": {},
   "outputs": [],
   "source": [
    "X_train_cyclic = X_cyclic[train_indices]\n",
    "X_test_cyclic = X_cyclic[test_indices]"
   ]
  },
  {
   "cell_type": "code",
   "execution_count": 21,
   "id": "538b9904",
   "metadata": {},
   "outputs": [
    {
     "name": "stdout",
     "output_type": "stream",
     "text": [
      "(LogisticRegression)\n",
      "acc = 0.7945, precision = 0.7945, recall = 0.7945\n",
      "\n",
      "(DecisionTreeClassifier)\n",
      "acc = 0.9726, precision = 0.9726, recall = 0.9726\n",
      "\n",
      "(SVC)\n",
      "acc = 0.9726, precision = 0.9726, recall = 0.9726\n",
      "\n"
     ]
    }
   ],
   "source": [
    "# On test set (rule2)\n",
    "for clf in T_classifiers:\n",
    "    clf.fit(X_train_cyclic, y_rule2_train)\n",
    "    y_pred = clf.predict(X_test_cyclic)\n",
    "    acc = accuracy_score(y_rule2_test, y_pred)\n",
    "    precision = precision_score(y_rule2_test, y_pred, average=\"micro\")\n",
    "    recall = recall_score(y_rule2_test, y_pred, average=\"micro\")    \n",
    "    print(f\"({clf.__class__.__name__})\\nacc = {acc:.4f}, precision = {precision:.4f}, recall = {recall:.4f}\\n\")"
   ]
  },
  {
   "cell_type": "code",
   "execution_count": 22,
   "id": "20ab1e66",
   "metadata": {
    "scrolled": true
   },
   "outputs": [
    {
     "name": "stdout",
     "output_type": "stream",
     "text": [
      "(LogisticRegression)\n",
      "acc = 0.8219, precision = 0.8219, recall = 0.8219\n",
      "\n",
      "(DecisionTreeClassifier)\n",
      "acc = 1.0000, precision = 1.0000, recall = 1.0000\n",
      "\n",
      "(SVC)\n",
      "acc = 1.0000, precision = 1.0000, recall = 1.0000\n",
      "\n"
     ]
    }
   ],
   "source": [
    "# On training set (rule2)\n",
    "for clf in T_classifiers:\n",
    "    y_pred = clf.predict(X_train_cyclic)\n",
    "    acc = accuracy_score(y_rule2_train, y_pred)\n",
    "    precision = precision_score(y_rule2_train, y_pred, average=\"micro\")\n",
    "    recall = recall_score(y_rule2_train, y_pred, average=\"micro\")    \n",
    "    print(f\"({clf.__class__.__name__})\\nacc = {acc:.4f}, precision = {precision:.4f}, recall = {recall:.4f}\\n\")"
   ]
  },
  {
   "cell_type": "code",
   "execution_count": 24,
   "id": "39168119",
   "metadata": {},
   "outputs": [
    {
     "name": "stdout",
     "output_type": "stream",
     "text": [
      "(LogisticRegression)\n",
      "acc = 1.0000, precision = 1.0000, recall = 1.0000\n",
      "\n",
      "(DecisionTreeClassifier)\n",
      "acc = 1.0000, precision = 1.0000, recall = 1.0000\n",
      "\n",
      "(SVC)\n",
      "acc = 1.0000, precision = 1.0000, recall = 1.0000\n",
      "\n"
     ]
    }
   ],
   "source": [
    "# On test set (rule1)\n",
    "for clf in T_classifiers:\n",
    "    clf.fit(X_train_cyclic, y_rule1_train)\n",
    "    y_pred = clf.predict(X_test_cyclic)\n",
    "    acc = accuracy_score(y_rule1_test, y_pred)\n",
    "    precision = precision_score(y_rule1_test, y_pred, average=\"micro\")\n",
    "    recall = recall_score(y_rule1_test, y_pred, average=\"micro\")    \n",
    "    print(f\"({clf.__class__.__name__})\\nacc = {acc:.4f}, precision = {precision:.4f}, recall = {recall:.4f}\\n\")"
   ]
  },
  {
   "cell_type": "markdown",
   "id": "ca20340e",
   "metadata": {},
   "source": [
    "## Putting Together for Comparison"
   ]
  },
  {
   "cell_type": "code",
   "execution_count": 25,
   "id": "eff76874",
   "metadata": {
    "scrolled": true
   },
   "outputs": [
    {
     "name": "stdout",
     "output_type": "stream",
     "text": [
      "(LogisticRegression)\n",
      "acc = 0.7123, precision = 0.7123, recall = 0.7123\n",
      "\n",
      "(DecisionTreeClassifier)\n",
      "acc = 0.9726, precision = 0.9726, recall = 0.9726\n",
      "\n",
      "(SVC)\n",
      "acc = 0.8630, precision = 0.8630, recall = 0.8630\n",
      "\n"
     ]
    }
   ],
   "source": [
    "# Rule 2, non-cyclic\n",
    "for clf in T_classifiers:\n",
    "    clf.fit(X_train_raw, y_rule2_train)\n",
    "    y_pred = clf.predict(X_test_raw)\n",
    "    acc = accuracy_score(y_rule2_test, y_pred)\n",
    "    precision = precision_score(y_rule2_test, y_pred, average=\"micro\")\n",
    "    recall = recall_score(y_rule2_test, y_pred, average=\"micro\")    \n",
    "    print(f\"({clf.__class__.__name__})\\nacc = {acc:.4f}, precision = {precision:.4f}, recall = {recall:.4f}\\n\")"
   ]
  },
  {
   "cell_type": "code",
   "execution_count": 26,
   "id": "9dd431e2",
   "metadata": {
    "scrolled": true
   },
   "outputs": [
    {
     "name": "stdout",
     "output_type": "stream",
     "text": [
      "(LogisticRegression)\n",
      "acc = 0.7945, precision = 0.7945, recall = 0.7945\n",
      "\n",
      "(DecisionTreeClassifier)\n",
      "acc = 0.9726, precision = 0.9726, recall = 0.9726\n",
      "\n",
      "(SVC)\n",
      "acc = 0.9726, precision = 0.9726, recall = 0.9726\n",
      "\n"
     ]
    }
   ],
   "source": [
    "# Rule 2, cyclic\n",
    "for clf in T_classifiers:\n",
    "    clf.fit(X_train_cyclic, y_rule2_train)\n",
    "    y_pred = clf.predict(X_test_cyclic)\n",
    "    acc = accuracy_score(y_rule2_test, y_pred)\n",
    "    precision = precision_score(y_rule2_test, y_pred, average=\"micro\")\n",
    "    recall = recall_score(y_rule2_test, y_pred, average=\"micro\")    \n",
    "    print(f\"({clf.__class__.__name__})\\nacc = {acc:.4f}, precision = {precision:.4f}, recall = {recall:.4f}\\n\")"
   ]
  },
  {
   "cell_type": "code",
   "execution_count": null,
   "id": "3b4651f2",
   "metadata": {},
   "outputs": [],
   "source": []
  },
  {
   "cell_type": "code",
   "execution_count": null,
   "id": "b97cde07",
   "metadata": {},
   "outputs": [],
   "source": []
  }
 ],
 "metadata": {
  "kernelspec": {
   "display_name": "Python 3",
   "language": "python",
   "name": "python3"
  },
  "language_info": {
   "codemirror_mode": {
    "name": "ipython",
    "version": 3
   },
   "file_extension": ".py",
   "mimetype": "text/x-python",
   "name": "python",
   "nbconvert_exporter": "python",
   "pygments_lexer": "ipython3",
   "version": "3.7.10"
  }
 },
 "nbformat": 4,
 "nbformat_minor": 5
}
