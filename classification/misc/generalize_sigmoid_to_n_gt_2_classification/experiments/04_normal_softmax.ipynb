{
 "cells": [
  {
   "cell_type": "code",
   "execution_count": 1,
   "metadata": {},
   "outputs": [],
   "source": [
    "%matplotlib inline"
   ]
  },
  {
   "cell_type": "code",
   "execution_count": 2,
   "metadata": {},
   "outputs": [],
   "source": [
    "#from sklearn import datasets\n",
    "import numpy as np\n",
    "import matplotlib.pyplot as plt\n",
    "import tensorflow as tf\n",
    "import tensorflow.keras as keras\n",
    "K = keras.backend"
   ]
  },
  {
   "cell_type": "code",
   "execution_count": 3,
   "metadata": {},
   "outputs": [
    {
     "data": {
      "text/plain": [
       "(60000,)"
      ]
     },
     "execution_count": 3,
     "metadata": {},
     "output_type": "execute_result"
    }
   ],
   "source": [
    "fashion_mnist = tf.keras.datasets.fashion_mnist\n",
    "(train_images, train_labels), (test_images, test_labels) = fashion_mnist.load_data()\n",
    "train_labels.shape"
   ]
  },
  {
   "cell_type": "code",
   "execution_count": 4,
   "metadata": {},
   "outputs": [
    {
     "data": {
      "text/plain": [
       "9"
      ]
     },
     "execution_count": 4,
     "metadata": {},
     "output_type": "execute_result"
    }
   ],
   "source": [
    "train_labels[0]"
   ]
  },
  {
   "cell_type": "code",
   "execution_count": 5,
   "metadata": {},
   "outputs": [
    {
     "data": {
      "text/plain": [
       "dtype('uint8')"
      ]
     },
     "execution_count": 5,
     "metadata": {},
     "output_type": "execute_result"
    }
   ],
   "source": [
    "train_images.dtype"
   ]
  },
  {
   "cell_type": "code",
   "execution_count": 6,
   "metadata": {},
   "outputs": [],
   "source": [
    "train_images = train_images / 255.0\n",
    "test_images = test_images / 255.0"
   ]
  },
  {
   "cell_type": "raw",
   "metadata": {},
   "source": [
    "def crooked_sigmoid(y_true, y_pred):\n",
    "    \"\"\"\n",
    "    Our customized loss function\n",
    "    Example: (4-class classification)\n",
    "        y_pred = [ -500.0, -37.92, 99.99]\n",
    "        y_true = [0, 0, 0]  # meaning that the true class is the fourth one.\n",
    "    \"\"\"\n",
    "    # I guess y_pred.shape equals (m, 9) for Fashion MNIST\n",
    "    s = tf.math.reduce_sum(y_pred, axis=1)\n",
    "    #print(f\"s = {s}\")\n",
    "    #print(f\"s.shape = {s.shape}\")\n",
    "    last_proba = 1 - tf.math.sigmoid(s)\n",
    "    #print(f\"tf.math.sigmoid(s) = {tf.math.sigmoid(s)}\")\n",
    "    #print(f\"tf.math.sigmoid(s).shape = {tf.math.sigmoid(s).shape}\")\n",
    "    #print(f\"last_proba = 1 - tf.math.sigmoid(s) = {last_proba}\")\n",
    "    #print(f\"last_proba.shape = {last_proba.shape}\")\n",
    "    #first_probas = tf.math.sigmoid(s) * tf.nn.softmax(y_pred)\n",
    "    #print()\n",
    "    #first_probas = tf.stack([tf.math.sigmoid(s)]*tf.cast(tf.shape(y_pred)[1], tf.float32) , axis=1) * tf.nn.softmax(y_pred)\n",
    "    #sigmoid_s_good_shape = tf.stack([tf.math.sigmoid(s)]*tf.cast(tf.shape(y_pred)[1], tf.float32) , axis=1)\n",
    "    #print(f\"tf.shape(y_pred) = {tf.shape(y_pred)}\")\n",
    "    #print(f\"tf.shape(y_pred)[1] = {tf.shape(y_pred)[1]}\")\n",
    "    #print(f\"tf.math.sigmoid(s) = {tf.math.sigmoid(s)}\")\n",
    "    #print(f\"[tf.math.sigmoid(s)]*tf.shape(y_pred)[1] = {[tf.math.sigmoid(s)]*tf.shape(y_pred)[1]}\")\n",
    "    #print(f\"[tf.math.sigmoid(s)]*tf.shape(y_pred)[1].numpy() = {[tf.math.sigmoid(s)]*tf.shape(y_pred)[1].numpy()}\")\n",
    "    \n",
    "    #sigmoid_s_good_shape = tf.stack([tf.math.sigmoid(s)]*tf.shape(y_pred)[1].numpy(), axis=1)\n",
    "    #sigmoid_s_good_shape = tf.stack([tf.math.sigmoid(s)]*y_pred.numpy().shape[1], axis=1)\n",
    "    #sigmoid_s_good_shape = tf.stack([tf.math.sigmoid(s)]*K.eval(y_pred).shape[1], axis=1)\n",
    "    sigmoid_s_good_shape = tf.stack([tf.math.sigmoid(s)]*y_pred.shape[1], axis=1)\n",
    "    \n",
    "    #print(f\"sigmoid_s_good_shape = {sigmoid_s_good_shape}\")\n",
    "    print(f\"sigmoid_s_good_shape.shape = {sigmoid_s_good_shape.shape}\")\n",
    "    #print(f\"tf.cast(tf.shape(y_pred)[1], tf.float32) = {tf.cast(tf.shape(y_pred)[1], tf.float32)}\")\n",
    "    first_probas = sigmoid_s_good_shape * tf.nn.softmax(y_pred)\n",
    "    #print(f\"y_pred[1] = {y_pred[1]}\")\n",
    "    #print(f\"tf.nn.softmax(y_pred)[1] = {tf.nn.softmax(y_pred)[1]}\")\n",
    "    #print(f\"first_probas = {first_probas}\")\n",
    "    #print(f\"first_probas[1] = {first_probas[1]}\")\n",
    "    print(f\"first_probas.shape = {first_probas.shape}\")\n",
    "    #yy_pred = tf.concat([first_probas, [last_proba]], axis=0)\n",
    "    print(f\"last_proba.shape = {last_proba.shape}\")\n",
    "    yy_pred = tf.concat([first_probas, last_proba[...,tf.newaxis]], axis=1)\n",
    "    print(f\"yy_pred.shape = {yy_pred.shape}\")\n",
    "    #print(f\"tf.math.reduce_sum((yy_pred[:3], axis=1) = {tf.math.reduce_sum(yy_pred[:3], axis=1)}\")\n",
    "    ## Wrong!\n",
    "    #yy_true = tf.cond(tf.math.reduce_sum(y_true, axis=1) < 1,\n",
    "    #                  true_fn=lambda: tf.concat([y_true, [1]], 0),\n",
    "    #                  false_fn=lambda: tf.concat([y_true, [0]], 0),\n",
    "    #)\n",
    "    yy_true = tf.concat([y_true, (1- tf.math.reduce_sum(y_true, axis=1))[...,tf.newaxis]], axis=1)\n",
    "    #print(f\"yy_true[:4] =\\n{yy_true[:4]}\")\n",
    "    return tf.nn.softmax_cross_entropy_with_logits(\n",
    "        labels=yy_true,\n",
    "        logits=yy_pred,\n",
    "    )"
   ]
  },
  {
   "cell_type": "markdown",
   "metadata": {},
   "source": [
    "### The way to do it wrong"
   ]
  },
  {
   "cell_type": "code",
   "execution_count": null,
   "metadata": {},
   "outputs": [],
   "source": []
  },
  {
   "cell_type": "code",
   "execution_count": 7,
   "metadata": {},
   "outputs": [],
   "source": [
    "model = tf.keras.Sequential([\n",
    "    tf.keras.layers.Flatten(input_shape=(28, 28)),\n",
    "    tf.keras.layers.Dense(128, activation='relu'),\n",
    "    tf.keras.layers.Dense(10),\n",
    "])\n",
    "\n",
    "model.compile(optimizer='adam',\n",
    "              loss=keras.losses.sparse_categorical_crossentropy,\n",
    "              metrics=['accuracy'])"
   ]
  },
  {
   "cell_type": "raw",
   "metadata": {},
   "source": [
    "tf.one_hot(train_labels, depth=10)[:,:-1].numpy().shape"
   ]
  },
  {
   "cell_type": "raw",
   "metadata": {},
   "source": [
    "train_images.shape"
   ]
  },
  {
   "cell_type": "code",
   "execution_count": 9,
   "metadata": {},
   "outputs": [
    {
     "name": "stdout",
     "output_type": "stream",
     "text": [
      "Epoch 1/10\n",
      "1875/1875 [==============================] - 6s 3ms/step - loss: 2.3026 - accuracy: 0.2259\n",
      "Epoch 2/10\n",
      "1875/1875 [==============================] - 6s 3ms/step - loss: 2.3026 - accuracy: 0.2259\n",
      "Epoch 3/10\n",
      "1875/1875 [==============================] - ETA: 0s - loss: 2.3026 - accuracy: 0.22 - 6s 3ms/step - loss: 2.3026 - accuracy: 0.2259\n",
      "Epoch 4/10\n",
      "1875/1875 [==============================] - 6s 3ms/step - loss: 2.3026 - accuracy: 0.2259\n",
      "Epoch 5/10\n",
      "1875/1875 [==============================] - 6s 3ms/step - loss: 2.3026 - accuracy: 0.2259\n",
      "Epoch 6/10\n",
      "1875/1875 [==============================] - 6s 3ms/step - loss: 2.3026 - accuracy: 0.2259\n",
      "Epoch 7/10\n",
      "1875/1875 [==============================] - 6s 3ms/step - loss: 2.3026 - accuracy: 0.2259\n",
      "Epoch 8/10\n",
      "1875/1875 [==============================] - 7s 4ms/step - loss: 2.3026 - accuracy: 0.2259\n",
      "Epoch 9/10\n",
      "1875/1875 [==============================] - 8s 4ms/step - loss: 2.3026 - accuracy: 0.2259\n",
      "Epoch 10/10\n",
      "1875/1875 [==============================] - 7s 4ms/step - loss: 2.3026 - accuracy: 0.2259\n"
     ]
    },
    {
     "data": {
      "text/plain": [
       "<tensorflow.python.keras.callbacks.History at 0x7f72dc610790>"
      ]
     },
     "execution_count": 9,
     "metadata": {},
     "output_type": "execute_result"
    }
   ],
   "source": [
    "model.fit(train_images, train_labels, epochs=10)"
   ]
  },
  {
   "cell_type": "code",
   "execution_count": null,
   "metadata": {},
   "outputs": [],
   "source": []
  },
  {
   "cell_type": "code",
   "execution_count": null,
   "metadata": {},
   "outputs": [],
   "source": []
  },
  {
   "cell_type": "markdown",
   "metadata": {},
   "source": [
    "### The way to do it less wrong"
   ]
  },
  {
   "cell_type": "code",
   "execution_count": 10,
   "metadata": {},
   "outputs": [],
   "source": [
    "\n",
    "model = tf.keras.Sequential([\n",
    "    tf.keras.layers.Flatten(input_shape=(28, 28)),\n",
    "    tf.keras.layers.Dense(128, activation='relu'),\n",
    "    tf.keras.layers.Dense(10),\n",
    "])\n",
    "\n",
    "model.compile(optimizer='adam',\n",
    "              loss=keras.losses.SparseCategoricalCrossentropy(from_logits=True),\n",
    "              metrics=['accuracy'])"
   ]
  },
  {
   "cell_type": "raw",
   "metadata": {},
   "source": [
    "tf.one_hot(train_labels, depth=10)[:,:-1].numpy().shape"
   ]
  },
  {
   "cell_type": "raw",
   "metadata": {},
   "source": [
    "train_images.shape"
   ]
  },
  {
   "cell_type": "code",
   "execution_count": 11,
   "metadata": {},
   "outputs": [
    {
     "name": "stdout",
     "output_type": "stream",
     "text": [
      "Epoch 1/10\n",
      "1875/1875 [==============================] - 7s 3ms/step - loss: 0.5010 - accuracy: 0.8256\n",
      "Epoch 2/10\n",
      "1875/1875 [==============================] - 6s 3ms/step - loss: 0.3802 - accuracy: 0.8629\n",
      "Epoch 3/10\n",
      "1875/1875 [==============================] - 6s 3ms/step - loss: 0.3369 - accuracy: 0.8775\n",
      "Epoch 4/10\n",
      "1875/1875 [==============================] - 6s 3ms/step - loss: 0.3120 - accuracy: 0.8859\n",
      "Epoch 5/10\n",
      "1875/1875 [==============================] - 6s 3ms/step - loss: 0.2922 - accuracy: 0.8943\n",
      "Epoch 6/10\n",
      "1875/1875 [==============================] - 7s 4ms/step - loss: 0.2779 - accuracy: 0.8980\n",
      "Epoch 7/10\n",
      "1875/1875 [==============================] - 7s 4ms/step - loss: 0.2670 - accuracy: 0.9013\n",
      "Epoch 8/10\n",
      "1875/1875 [==============================] - 7s 4ms/step - loss: 0.2573 - accuracy: 0.9051\n",
      "Epoch 9/10\n",
      "1875/1875 [==============================] - 7s 4ms/step - loss: 0.2451 - accuracy: 0.9086\n",
      "Epoch 10/10\n",
      "1875/1875 [==============================] - 7s 4ms/step - loss: 0.2370 - accuracy: 0.9121\n"
     ]
    },
    {
     "data": {
      "text/plain": [
       "<tensorflow.python.keras.callbacks.History at 0x7f72dc5c0940>"
      ]
     },
     "execution_count": 11,
     "metadata": {},
     "output_type": "execute_result"
    }
   ],
   "source": [
    "model.fit(train_images, train_labels, epochs=10)"
   ]
  }
 ],
 "metadata": {
  "kernelspec": {
   "display_name": "Python 3",
   "language": "python",
   "name": "python3"
  },
  "language_info": {
   "codemirror_mode": {
    "name": "ipython",
    "version": 3
   },
   "file_extension": ".py",
   "mimetype": "text/x-python",
   "name": "python",
   "nbconvert_exporter": "python",
   "pygments_lexer": "ipython3",
   "version": "3.8.5"
  }
 },
 "nbformat": 4,
 "nbformat_minor": 4
}
