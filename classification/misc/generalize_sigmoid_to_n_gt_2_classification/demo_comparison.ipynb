{
 "cells": [
  {
   "cell_type": "code",
   "execution_count": 1,
   "metadata": {},
   "outputs": [],
   "source": [
    "%reload_ext autoreload\n",
    "%autoreload 2\n",
    "%matplotlib inline"
   ]
  },
  {
   "cell_type": "code",
   "execution_count": 2,
   "metadata": {},
   "outputs": [],
   "source": [
    "import tensorflow as tf\n",
    "import tensorflow.keras as keras"
   ]
  },
  {
   "cell_type": "code",
   "execution_count": 3,
   "metadata": {},
   "outputs": [],
   "source": [
    "fashion_mnist = tf.keras.datasets.fashion_mnist\n",
    "(train_images, train_labels), (test_images, test_labels) = fashion_mnist.load_data()\n",
    "train_images = train_images / 255.0\n",
    "test_images = test_images / 255.0"
   ]
  },
  {
   "cell_type": "code",
   "execution_count": 4,
   "metadata": {},
   "outputs": [
    {
     "data": {
      "text/plain": [
       "((60000, 28, 28), (60000,))"
      ]
     },
     "execution_count": 4,
     "metadata": {},
     "output_type": "execute_result"
    }
   ],
   "source": [
    "train_images.shape, train_labels.shape"
   ]
  },
  {
   "cell_type": "markdown",
   "metadata": {},
   "source": [
    "## Standard way of doing multi-class classification"
   ]
  },
  {
   "cell_type": "code",
   "execution_count": 5,
   "metadata": {},
   "outputs": [],
   "source": [
    "standard_model = keras.Sequential([\n",
    "    keras.layers.Flatten(input_shape=(28, 28)),\n",
    "    keras.layers.Dense(128, activation=\"relu\"),\n",
    "    keras.layers.Dense(10),\n",
    "])\n",
    "\n",
    "standard_model.compile(\n",
    "    optimizer=\"adam\",\n",
    "    loss=keras.losses.SparseCategoricalCrossentropy(from_logits=True),\n",
    "    metrics=[\"accuracy\"],\n",
    ")"
   ]
  },
  {
   "cell_type": "code",
   "execution_count": 6,
   "metadata": {},
   "outputs": [
    {
     "name": "stdout",
     "output_type": "stream",
     "text": [
      "Epoch 1/10\n",
      "1500/1500 [==============================] - 4s 3ms/step - loss: 0.5217 - accuracy: 0.8171 - val_loss: 0.4088 - val_accuracy: 0.8534\n",
      "Epoch 2/10\n",
      "1500/1500 [==============================] - 4s 3ms/step - loss: 0.3886 - accuracy: 0.8608 - val_loss: 0.3788 - val_accuracy: 0.8603\n",
      "Epoch 3/10\n",
      "1500/1500 [==============================] - 4s 3ms/step - loss: 0.3457 - accuracy: 0.8735 - val_loss: 0.3637 - val_accuracy: 0.8685\n",
      "Epoch 4/10\n",
      "1500/1500 [==============================] - 4s 3ms/step - loss: 0.3205 - accuracy: 0.8815 - val_loss: 0.3427 - val_accuracy: 0.8780\n",
      "Epoch 5/10\n",
      "1500/1500 [==============================] - 4s 3ms/step - loss: 0.2997 - accuracy: 0.8896 - val_loss: 0.3326 - val_accuracy: 0.8790\n",
      "Epoch 6/10\n",
      "1500/1500 [==============================] - 4s 3ms/step - loss: 0.2849 - accuracy: 0.8951 - val_loss: 0.3342 - val_accuracy: 0.8800\n",
      "Epoch 7/10\n",
      "1500/1500 [==============================] - 4s 2ms/step - loss: 0.2732 - accuracy: 0.8970 - val_loss: 0.3430 - val_accuracy: 0.8760\n",
      "Epoch 8/10\n",
      "1500/1500 [==============================] - 4s 3ms/step - loss: 0.2616 - accuracy: 0.9023 - val_loss: 0.3234 - val_accuracy: 0.8828\n",
      "Epoch 9/10\n",
      "1500/1500 [==============================] - 4s 3ms/step - loss: 0.2502 - accuracy: 0.9064 - val_loss: 0.3236 - val_accuracy: 0.8876\n",
      "Epoch 10/10\n",
      "1500/1500 [==============================] - 4s 3ms/step - loss: 0.2413 - accuracy: 0.9093 - val_loss: 0.3188 - val_accuracy: 0.8882\n"
     ]
    },
    {
     "data": {
      "text/plain": [
       "<tensorflow.python.keras.callbacks.History at 0x7f6b394949d0>"
      ]
     },
     "execution_count": 6,
     "metadata": {},
     "output_type": "execute_result"
    }
   ],
   "source": [
    "standard_model.fit(\n",
    "    train_images, train_labels,\n",
    "    validation_split=0.2,\n",
    "    epochs=10,\n",
    ")"
   ]
  },
  {
   "cell_type": "code",
   "execution_count": 7,
   "metadata": {},
   "outputs": [
    {
     "data": {
      "text/plain": [
       "<tensorflow.python.keras.callbacks.History at 0x7f6b394949d0>"
      ]
     },
     "execution_count": 7,
     "metadata": {},
     "output_type": "execute_result"
    }
   ],
   "source": [
    "standard_history = _\n",
    "standard_history"
   ]
  },
  {
   "cell_type": "code",
   "execution_count": null,
   "metadata": {},
   "outputs": [],
   "source": []
  },
  {
   "cell_type": "markdown",
   "metadata": {},
   "source": [
    "## Our crooked way of doing multi-class classification\n",
    "I think I have to re-write the __metric__ function to more accurately measure the accuracy, but for the moment, I haven't found a proper way to do so.\n",
    "\n",
    "The comparison of the accuracies will __NOT be fair__ unless the `CrookedAccuracy` be correctly implemented.\n",
    "\n",
    "Having implemented this does not mean that I prefer this crooked way. Far from that, I don't like it at all. This little exercise has value only in that in implementing it one learns the inner working of the particular DL framework, here in particular, `tf/keras`."
   ]
  },
  {
   "cell_type": "code",
   "execution_count": 8,
   "metadata": {},
   "outputs": [],
   "source": [
    "from utils import crooked_xentropy, CrookedAccuracy"
   ]
  },
  {
   "cell_type": "code",
   "execution_count": 9,
   "metadata": {},
   "outputs": [],
   "source": [
    "crooked_model = keras.Sequential([\n",
    "    keras.layers.Flatten(input_shape=(28, 28)),\n",
    "    keras.layers.Dense(128, activation=\"relu\"),\n",
    "    ## Try w/o relu activation\n",
    "    #keras.layers.Dense(128),\n",
    "    keras.layers.Dense(9)\n",
    "])\n",
    "\n",
    "crooked_model.compile(\n",
    "    optimizer='adam',\n",
    "    loss=crooked_xentropy,\n",
    "    metrics=['accuracy'],\n",
    "    #metrics=[CrookedAccuracy()],\n",
    ")"
   ]
  },
  {
   "cell_type": "code",
   "execution_count": 10,
   "metadata": {},
   "outputs": [
    {
     "name": "stdout",
     "output_type": "stream",
     "text": [
      "Epoch 1/10\n",
      "1500/1500 [==============================] - 4s 3ms/step - loss: 0.5393 - accuracy: 0.7324 - val_loss: 0.4476 - val_accuracy: 0.7619\n",
      "Epoch 2/10\n",
      "1500/1500 [==============================] - 5s 3ms/step - loss: 0.3998 - accuracy: 0.7696 - val_loss: 0.3901 - val_accuracy: 0.7688\n",
      "Epoch 3/10\n",
      "1500/1500 [==============================] - 4s 3ms/step - loss: 0.3535 - accuracy: 0.7829 - val_loss: 0.3697 - val_accuracy: 0.7793\n",
      "Epoch 4/10\n",
      "1500/1500 [==============================] - 4s 3ms/step - loss: 0.3289 - accuracy: 0.7896 - val_loss: 0.3518 - val_accuracy: 0.7827\n",
      "Epoch 5/10\n",
      "1500/1500 [==============================] - 5s 3ms/step - loss: 0.3082 - accuracy: 0.7960 - val_loss: 0.3374 - val_accuracy: 0.7888\n",
      "Epoch 6/10\n",
      "1500/1500 [==============================] - 4s 3ms/step - loss: 0.2938 - accuracy: 0.7989 - val_loss: 0.3425 - val_accuracy: 0.7849\n",
      "Epoch 7/10\n",
      "1500/1500 [==============================] - 5s 3ms/step - loss: 0.2804 - accuracy: 0.8037 - val_loss: 0.3323 - val_accuracy: 0.7928\n",
      "Epoch 8/10\n",
      "1500/1500 [==============================] - 4s 3ms/step - loss: 0.2677 - accuracy: 0.8080 - val_loss: 0.3569 - val_accuracy: 0.7876\n",
      "Epoch 9/10\n",
      "1500/1500 [==============================] - 4s 3ms/step - loss: 0.2573 - accuracy: 0.8120 - val_loss: 0.3271 - val_accuracy: 0.7915\n",
      "Epoch 10/10\n",
      "1500/1500 [==============================] - 5s 3ms/step - loss: 0.2460 - accuracy: 0.8151 - val_loss: 0.3227 - val_accuracy: 0.7942\n"
     ]
    }
   ],
   "source": [
    "crooked_history = crooked_model.fit(\n",
    "    train_images,\n",
    "    tf.one_hot(train_labels, depth=10)[:,:-1],\n",
    "    validation_split=0.2,\n",
    "    epochs=10,\n",
    ")"
   ]
  },
  {
   "cell_type": "code",
   "execution_count": null,
   "metadata": {},
   "outputs": [],
   "source": []
  },
  {
   "cell_type": "code",
   "execution_count": null,
   "metadata": {},
   "outputs": [],
   "source": []
  }
 ],
 "metadata": {
  "kernelspec": {
   "display_name": "Python 3",
   "language": "python",
   "name": "python3"
  },
  "language_info": {
   "codemirror_mode": {
    "name": "ipython",
    "version": 3
   },
   "file_extension": ".py",
   "mimetype": "text/x-python",
   "name": "python",
   "nbconvert_exporter": "python",
   "pygments_lexer": "ipython3",
   "version": "3.8.5"
  }
 },
 "nbformat": 4,
 "nbformat_minor": 4
}
